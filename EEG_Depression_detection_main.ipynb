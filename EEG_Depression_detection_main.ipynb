{
  "cells": [
    {
      "cell_type": "code",
      "execution_count": 105,
      "metadata": {
        "colab": {
          "base_uri": "https://localhost:8080/"
        },
        "id": "kCIkXTuq_J5C",
        "outputId": "c9820491-63ab-481b-f83a-3bf96e77d549"
      },
      "outputs": [
        {
          "name": "stdout",
          "output_type": "stream",
          "text": [
            "Requirement already satisfied: torch_geometric in /usr/local/lib/python3.10/dist-packages (2.5.3)\n",
            "Requirement already satisfied: tqdm in /usr/local/lib/python3.10/dist-packages (from torch_geometric) (4.66.4)\n",
            "Requirement already satisfied: numpy in /usr/local/lib/python3.10/dist-packages (from torch_geometric) (1.26.4)\n",
            "Requirement already satisfied: scipy in /usr/local/lib/python3.10/dist-packages (from torch_geometric) (1.13.1)\n",
            "Requirement already satisfied: fsspec in /usr/local/lib/python3.10/dist-packages (from torch_geometric) (2024.6.1)\n",
            "Requirement already satisfied: jinja2 in /usr/local/lib/python3.10/dist-packages (from torch_geometric) (3.1.4)\n",
            "Requirement already satisfied: aiohttp in /usr/local/lib/python3.10/dist-packages (from torch_geometric) (3.9.5)\n",
            "Requirement already satisfied: requests in /usr/local/lib/python3.10/dist-packages (from torch_geometric) (2.31.0)\n",
            "Requirement already satisfied: pyparsing in /usr/local/lib/python3.10/dist-packages (from torch_geometric) (3.1.2)\n",
            "Requirement already satisfied: scikit-learn in /usr/local/lib/python3.10/dist-packages (from torch_geometric) (1.3.2)\n",
            "Requirement already satisfied: psutil>=5.8.0 in /usr/local/lib/python3.10/dist-packages (from torch_geometric) (5.9.5)\n",
            "Requirement already satisfied: aiosignal>=1.1.2 in /usr/local/lib/python3.10/dist-packages (from aiohttp->torch_geometric) (1.3.1)\n",
            "Requirement already satisfied: attrs>=17.3.0 in /usr/local/lib/python3.10/dist-packages (from aiohttp->torch_geometric) (23.2.0)\n",
            "Requirement already satisfied: frozenlist>=1.1.1 in /usr/local/lib/python3.10/dist-packages (from aiohttp->torch_geometric) (1.4.1)\n",
            "Requirement already satisfied: multidict<7.0,>=4.5 in /usr/local/lib/python3.10/dist-packages (from aiohttp->torch_geometric) (6.0.5)\n",
            "Requirement already satisfied: yarl<2.0,>=1.0 in /usr/local/lib/python3.10/dist-packages (from aiohttp->torch_geometric) (1.9.4)\n",
            "Requirement already satisfied: async-timeout<5.0,>=4.0 in /usr/local/lib/python3.10/dist-packages (from aiohttp->torch_geometric) (4.0.3)\n",
            "Requirement already satisfied: MarkupSafe>=2.0 in /usr/local/lib/python3.10/dist-packages (from jinja2->torch_geometric) (2.1.5)\n",
            "Requirement already satisfied: charset-normalizer<4,>=2 in /usr/local/lib/python3.10/dist-packages (from requests->torch_geometric) (3.3.2)\n",
            "Requirement already satisfied: idna<4,>=2.5 in /usr/local/lib/python3.10/dist-packages (from requests->torch_geometric) (3.7)\n",
            "Requirement already satisfied: urllib3<3,>=1.21.1 in /usr/local/lib/python3.10/dist-packages (from requests->torch_geometric) (2.0.7)\n",
            "Requirement already satisfied: certifi>=2017.4.17 in /usr/local/lib/python3.10/dist-packages (from requests->torch_geometric) (2024.7.4)\n",
            "Requirement already satisfied: joblib>=1.1.1 in /usr/local/lib/python3.10/dist-packages (from scikit-learn->torch_geometric) (1.4.2)\n",
            "Requirement already satisfied: threadpoolctl>=2.0.0 in /usr/local/lib/python3.10/dist-packages (from scikit-learn->torch_geometric) (3.5.0)\n"
          ]
        }
      ],
      "source": [
        "pip install torch_geometric"
      ]
    },
    {
      "cell_type": "code",
      "execution_count": 106,
      "metadata": {
        "colab": {
          "base_uri": "https://localhost:8080/"
        },
        "id": "rvrNo6st_TGl",
        "outputId": "b46063c0-fe37-4954-d152-e983f3ede3e4"
      },
      "outputs": [
        {
          "name": "stdout",
          "output_type": "stream",
          "text": [
            "Requirement already satisfied: matplotlib in /usr/local/lib/python3.10/dist-packages (3.7.1)\n",
            "Requirement already satisfied: seaborn in /usr/local/lib/python3.10/dist-packages (0.13.1)\n",
            "Requirement already satisfied: contourpy>=1.0.1 in /usr/local/lib/python3.10/dist-packages (from matplotlib) (1.2.1)\n",
            "Requirement already satisfied: cycler>=0.10 in /usr/local/lib/python3.10/dist-packages (from matplotlib) (0.12.1)\n",
            "Requirement already satisfied: fonttools>=4.22.0 in /usr/local/lib/python3.10/dist-packages (from matplotlib) (4.53.1)\n",
            "Requirement already satisfied: kiwisolver>=1.0.1 in /usr/local/lib/python3.10/dist-packages (from matplotlib) (1.4.5)\n",
            "Requirement already satisfied: numpy>=1.20 in /usr/local/lib/python3.10/dist-packages (from matplotlib) (1.26.4)\n",
            "Requirement already satisfied: packaging>=20.0 in /usr/local/lib/python3.10/dist-packages (from matplotlib) (24.1)\n",
            "Requirement already satisfied: pillow>=6.2.0 in /usr/local/lib/python3.10/dist-packages (from matplotlib) (9.4.0)\n",
            "Requirement already satisfied: pyparsing>=2.3.1 in /usr/local/lib/python3.10/dist-packages (from matplotlib) (3.1.2)\n",
            "Requirement already satisfied: python-dateutil>=2.7 in /usr/local/lib/python3.10/dist-packages (from matplotlib) (2.8.2)\n",
            "Requirement already satisfied: pandas>=1.2 in /usr/local/lib/python3.10/dist-packages (from seaborn) (2.1.4)\n",
            "Requirement already satisfied: pytz>=2020.1 in /usr/local/lib/python3.10/dist-packages (from pandas>=1.2->seaborn) (2024.1)\n",
            "Requirement already satisfied: tzdata>=2022.1 in /usr/local/lib/python3.10/dist-packages (from pandas>=1.2->seaborn) (2024.1)\n",
            "Requirement already satisfied: six>=1.5 in /usr/local/lib/python3.10/dist-packages (from python-dateutil>=2.7->matplotlib) (1.16.0)\n"
          ]
        }
      ],
      "source": [
        "pip install matplotlib seaborn"
      ]
    },
    {
      "cell_type": "code",
      "execution_count": 107,
      "metadata": {
        "colab": {
          "base_uri": "https://localhost:8080/"
        },
        "id": "9UHPpTbL_Vsp",
        "outputId": "c9db6a7d-681f-48df-f47f-72ce89a4f4d5"
      },
      "outputs": [
        {
          "name": "stdout",
          "output_type": "stream",
          "text": [
            "Requirement already satisfied: mne in /usr/local/lib/python3.10/dist-packages (1.7.1)\n",
            "Requirement already satisfied: decorator in /usr/local/lib/python3.10/dist-packages (from mne) (4.4.2)\n",
            "Requirement already satisfied: jinja2 in /usr/local/lib/python3.10/dist-packages (from mne) (3.1.4)\n",
            "Requirement already satisfied: lazy-loader>=0.3 in /usr/local/lib/python3.10/dist-packages (from mne) (0.4)\n",
            "Requirement already satisfied: matplotlib>=3.5.0 in /usr/local/lib/python3.10/dist-packages (from mne) (3.7.1)\n",
            "Requirement already satisfied: numpy>=1.21.2 in /usr/local/lib/python3.10/dist-packages (from mne) (1.26.4)\n",
            "Requirement already satisfied: packaging in /usr/local/lib/python3.10/dist-packages (from mne) (24.1)\n",
            "Requirement already satisfied: pooch>=1.5 in /usr/local/lib/python3.10/dist-packages (from mne) (1.8.2)\n",
            "Requirement already satisfied: scipy>=1.7.1 in /usr/local/lib/python3.10/dist-packages (from mne) (1.13.1)\n",
            "Requirement already satisfied: tqdm in /usr/local/lib/python3.10/dist-packages (from mne) (4.66.4)\n",
            "Requirement already satisfied: contourpy>=1.0.1 in /usr/local/lib/python3.10/dist-packages (from matplotlib>=3.5.0->mne) (1.2.1)\n",
            "Requirement already satisfied: cycler>=0.10 in /usr/local/lib/python3.10/dist-packages (from matplotlib>=3.5.0->mne) (0.12.1)\n",
            "Requirement already satisfied: fonttools>=4.22.0 in /usr/local/lib/python3.10/dist-packages (from matplotlib>=3.5.0->mne) (4.53.1)\n",
            "Requirement already satisfied: kiwisolver>=1.0.1 in /usr/local/lib/python3.10/dist-packages (from matplotlib>=3.5.0->mne) (1.4.5)\n",
            "Requirement already satisfied: pillow>=6.2.0 in /usr/local/lib/python3.10/dist-packages (from matplotlib>=3.5.0->mne) (9.4.0)\n",
            "Requirement already satisfied: pyparsing>=2.3.1 in /usr/local/lib/python3.10/dist-packages (from matplotlib>=3.5.0->mne) (3.1.2)\n",
            "Requirement already satisfied: python-dateutil>=2.7 in /usr/local/lib/python3.10/dist-packages (from matplotlib>=3.5.0->mne) (2.8.2)\n",
            "Requirement already satisfied: platformdirs>=2.5.0 in /usr/local/lib/python3.10/dist-packages (from pooch>=1.5->mne) (4.2.2)\n",
            "Requirement already satisfied: requests>=2.19.0 in /usr/local/lib/python3.10/dist-packages (from pooch>=1.5->mne) (2.31.0)\n",
            "Requirement already satisfied: MarkupSafe>=2.0 in /usr/local/lib/python3.10/dist-packages (from jinja2->mne) (2.1.5)\n",
            "Requirement already satisfied: six>=1.5 in /usr/local/lib/python3.10/dist-packages (from python-dateutil>=2.7->matplotlib>=3.5.0->mne) (1.16.0)\n",
            "Requirement already satisfied: charset-normalizer<4,>=2 in /usr/local/lib/python3.10/dist-packages (from requests>=2.19.0->pooch>=1.5->mne) (3.3.2)\n",
            "Requirement already satisfied: idna<4,>=2.5 in /usr/local/lib/python3.10/dist-packages (from requests>=2.19.0->pooch>=1.5->mne) (3.7)\n",
            "Requirement already satisfied: urllib3<3,>=1.21.1 in /usr/local/lib/python3.10/dist-packages (from requests>=2.19.0->pooch>=1.5->mne) (2.0.7)\n",
            "Requirement already satisfied: certifi>=2017.4.17 in /usr/local/lib/python3.10/dist-packages (from requests>=2.19.0->pooch>=1.5->mne) (2024.7.4)\n"
          ]
        }
      ],
      "source": [
        "pip install mne"
      ]
    },
    {
      "cell_type": "markdown",
      "metadata": {},
      "source": [
        "### EEG Data Extraction"
      ]
    },
    {
      "cell_type": "code",
      "execution_count": 43,
      "metadata": {
        "colab": {
          "base_uri": "https://localhost:8080/"
        },
        "id": "zzvsZDqjKYsw",
        "outputId": "6161853b-4db5-4882-9ebe-39a9518c8ffa"
      },
      "outputs": [
        {
          "name": "stdout",
          "output_type": "stream",
          "text": [
            "<<<<<<<Processing /content/drive/MyDrive/EEG/sub-001/eeg>>>>>>>\n",
            "Reading /content/drive/MyDrive/EEG/sub-001/eeg/sub-001_task-Rest_run-01_eeg.fdt\n",
            "Subject ID: sub-001_run-01, Signal Shape: (16, 250734)\n",
            "<<<<<<<Processing /content/drive/MyDrive/EEG/sub-007/eeg>>>>>>>\n",
            "Reading /content/drive/MyDrive/EEG/sub-007/eeg/sub-007_task-Rest_run-01_eeg.fdt\n",
            "Subject ID: sub-007_run-01, Signal Shape: (16, 249234)\n",
            "<<<<<<<Processing /content/drive/MyDrive/EEG/sub-010/eeg>>>>>>>\n",
            "Reading /content/drive/MyDrive/EEG/sub-010/eeg/sub-010_task-Rest_run-01_eeg.fdt\n",
            "Subject ID: sub-010_run-01, Signal Shape: (16, 249874)\n",
            "<<<<<<<Processing /content/drive/MyDrive/EEG/sub-115/eeg>>>>>>>\n",
            "Reading /content/drive/MyDrive/EEG/sub-115/eeg/sub-115_task-Rest_run-01_eeg.fdt\n",
            "Subject ID: sub-115_run-01, Signal Shape: (16, 251320)\n",
            "<<<<<<<Processing /content/drive/MyDrive/EEG/sub-060/eeg>>>>>>>\n",
            "Reading /content/drive/MyDrive/EEG/sub-060/eeg/sub-060_task-Rest_run-01_eeg.fdt\n"
          ]
        },
        {
          "name": "stderr",
          "output_type": "stream",
          "text": [
            "<ipython-input-43-c0e7c88107ff>:66: RuntimeWarning: The data contains 'boundary' events, indicating data discontinuities. Be cautious of filtering and epoching around these events.\n",
            "  mne_obj = mne.io.read_raw_eeglab(mne_file)\n"
          ]
        },
        {
          "name": "stdout",
          "output_type": "stream",
          "text": [
            "Subject ID: sub-060_run-01, Signal Shape: (16, 248260)\n",
            "<<<<<<<Processing /content/drive/MyDrive/EEG/sub-066/eeg>>>>>>>\n",
            "Reading /content/drive/MyDrive/EEG/sub-066/eeg/sub-066_task-Rest_run-01_eeg.fdt\n"
          ]
        },
        {
          "name": "stderr",
          "output_type": "stream",
          "text": [
            "<ipython-input-43-c0e7c88107ff>:66: RuntimeWarning: The data contains 'boundary' events, indicating data discontinuities. Be cautious of filtering and epoching around these events.\n",
            "  mne_obj = mne.io.read_raw_eeglab(mne_file)\n"
          ]
        },
        {
          "name": "stdout",
          "output_type": "stream",
          "text": [
            "Subject ID: sub-066_run-01, Signal Shape: (16, 251320)\n",
            "<<<<<<<Processing /content/drive/MyDrive/EEG/sub-111/eeg>>>>>>>\n",
            "Reading /content/drive/MyDrive/EEG/sub-111/eeg/sub-111_task-Rest_run-01_eeg.fdt\n",
            "Subject ID: sub-111_run-01, Signal Shape: (16, 228060)\n",
            "<<<<<<<Processing /content/drive/MyDrive/EEG/sub-088/eeg>>>>>>>\n",
            "Reading /content/drive/MyDrive/EEG/sub-088/eeg/sub-088_task-Rest_run-01_eeg.fdt\n",
            "Subject ID: sub-088_run-01, Signal Shape: (16, 246620)\n",
            "<<<<<<<Processing /content/drive/MyDrive/EEG/sub-016/eeg>>>>>>>\n",
            "Reading /content/drive/MyDrive/EEG/sub-016/eeg/sub-016_task-Rest_run-01_eeg.fdt\n"
          ]
        },
        {
          "name": "stderr",
          "output_type": "stream",
          "text": [
            "<ipython-input-43-c0e7c88107ff>:66: RuntimeWarning: The data contains 'boundary' events, indicating data discontinuities. Be cautious of filtering and epoching around these events.\n",
            "  mne_obj = mne.io.read_raw_eeglab(mne_file)\n"
          ]
        },
        {
          "name": "stdout",
          "output_type": "stream",
          "text": [
            "Subject ID: sub-016_run-01, Signal Shape: (16, 214520)\n",
            "<<<<<<<Processing /content/drive/MyDrive/EEG/sub-020/eeg>>>>>>>\n",
            "Reading /content/drive/MyDrive/EEG/sub-020/eeg/sub-020_task-Rest_run-01_eeg.fdt\n",
            "Subject ID: sub-020_run-01, Signal Shape: (16, 251274)\n",
            "<<<<<<<Processing /content/drive/MyDrive/EEG/sub-092/eeg>>>>>>>\n",
            "Reading /content/drive/MyDrive/EEG/sub-092/eeg/sub-092_task-Rest_run-01_eeg.fdt\n",
            "Subject ID: sub-092_run-01, Signal Shape: (16, 227180)\n",
            "<<<<<<<Processing /content/drive/MyDrive/EEG/sub-099/eeg>>>>>>>\n",
            "Reading /content/drive/MyDrive/EEG/sub-099/eeg/sub-099_task-Rest_run-01_eeg.fdt\n",
            "Subject ID: sub-099_run-01, Signal Shape: (16, 251360)\n",
            "<<<<<<<Processing /content/drive/MyDrive/EEG/sub-100/eeg>>>>>>>\n",
            "Reading /content/drive/MyDrive/EEG/sub-100/eeg/sub-100_task-Rest_run-01_eeg.fdt\n",
            "Subject ID: sub-100_run-01, Signal Shape: (16, 247710)\n",
            "<<<<<<<Processing /content/drive/MyDrive/EEG/sub-108/eeg>>>>>>>\n",
            "Reading /content/drive/MyDrive/EEG/sub-108/eeg/sub-108_task-Rest_run-01_eeg.fdt\n",
            "Subject ID: sub-108_run-01, Signal Shape: (16, 249660)\n",
            "<<<<<<<Processing /content/drive/MyDrive/EEG/sub-117/eeg>>>>>>>\n",
            "Reading /content/drive/MyDrive/EEG/sub-117/eeg/sub-117_task-Rest_run-01_eeg.fdt\n",
            "Subject ID: sub-117_run-01, Signal Shape: (16, 269035)\n",
            "<<<<<<<Processing /content/drive/MyDrive/EEG/sub-089/eeg>>>>>>>\n",
            "Reading /content/drive/MyDrive/EEG/sub-089/eeg/sub-089_task-Rest_run-01_eeg.fdt\n",
            "Subject ID: sub-089_run-01, Signal Shape: (16, 246320)\n",
            "<<<<<<<Processing /content/drive/MyDrive/EEG/sub-122/eeg>>>>>>>\n",
            "Reading /content/drive/MyDrive/EEG/sub-122/eeg/sub-122_task-Rest_run-01_eeg.fdt\n"
          ]
        },
        {
          "name": "stderr",
          "output_type": "stream",
          "text": [
            "<ipython-input-43-c0e7c88107ff>:66: RuntimeWarning: The data contains 'boundary' events, indicating data discontinuities. Be cautious of filtering and epoching around these events.\n",
            "  mne_obj = mne.io.read_raw_eeglab(mne_file)\n"
          ]
        },
        {
          "name": "stdout",
          "output_type": "stream",
          "text": [
            "Subject ID: sub-122_run-01, Signal Shape: (16, 290020)\n",
            "<<<<<<<Processing /content/drive/MyDrive/EEG/sub-065/eeg>>>>>>>\n",
            "Reading /content/drive/MyDrive/EEG/sub-065/eeg/sub-065_task-Rest_run-01_eeg.fdt\n"
          ]
        },
        {
          "name": "stderr",
          "output_type": "stream",
          "text": [
            "<ipython-input-43-c0e7c88107ff>:66: RuntimeWarning: The data contains 'boundary' events, indicating data discontinuities. Be cautious of filtering and epoching around these events.\n",
            "  mne_obj = mne.io.read_raw_eeglab(mne_file)\n"
          ]
        },
        {
          "name": "stdout",
          "output_type": "stream",
          "text": [
            "Subject ID: sub-065_run-01, Signal Shape: (16, 246560)\n",
            "<<<<<<<Processing /content/drive/MyDrive/EEG/sub-080/eeg>>>>>>>\n",
            "Reading /content/drive/MyDrive/EEG/sub-080/eeg/sub-080_task-Rest_run-01_eeg.fdt\n"
          ]
        },
        {
          "name": "stderr",
          "output_type": "stream",
          "text": [
            "<ipython-input-43-c0e7c88107ff>:66: RuntimeWarning: The data contains 'boundary' events, indicating data discontinuities. Be cautious of filtering and epoching around these events.\n",
            "  mne_obj = mne.io.read_raw_eeglab(mne_file)\n"
          ]
        },
        {
          "name": "stdout",
          "output_type": "stream",
          "text": [
            "Subject ID: sub-080_run-01, Signal Shape: (16, 230912)\n",
            "<<<<<<<Processing /content/drive/MyDrive/EEG/sub-084/eeg>>>>>>>\n",
            "Reading /content/drive/MyDrive/EEG/sub-084/eeg/sub-084_task-Rest_run-01_eeg.fdt\n",
            "Subject ID: sub-084_run-01, Signal Shape: (16, 248920)\n",
            "<<<<<<<Processing /content/drive/MyDrive/EEG/sub-098/eeg>>>>>>>\n",
            "Reading /content/drive/MyDrive/EEG/sub-098/eeg/sub-098_task-Rest_run-01_eeg.fdt\n",
            "Subject ID: sub-098_run-01, Signal Shape: (16, 248755)\n",
            "<<<<<<<Processing /content/drive/MyDrive/EEG/sub-102/eeg>>>>>>>\n",
            "Reading /content/drive/MyDrive/EEG/sub-102/eeg/sub-102_task-Rest_run-01_eeg.fdt\n",
            "Subject ID: sub-102_run-01, Signal Shape: (16, 248480)\n",
            "<<<<<<<Processing /content/drive/MyDrive/EEG/sub-113/eeg>>>>>>>\n",
            "Reading /content/drive/MyDrive/EEG/sub-113/eeg/sub-113_task-Rest_run-01_eeg.fdt\n",
            "Subject ID: sub-113_run-01, Signal Shape: (16, 253660)\n",
            "<<<<<<<Processing /content/drive/MyDrive/EEG/sub-118/eeg>>>>>>>\n",
            "Reading /content/drive/MyDrive/EEG/sub-118/eeg/sub-118_task-Rest_run-01_eeg.fdt\n",
            "Subject ID: sub-118_run-01, Signal Shape: (16, 237980)\n",
            "<<<<<<<Processing /content/drive/MyDrive/EEG/sub-002/eeg>>>>>>>\n",
            "Reading /content/drive/MyDrive/EEG/sub-002/eeg/sub-002_task-Rest_run-01_eeg.fdt\n",
            "Subject ID: sub-002_run-01, Signal Shape: (16, 244934)\n",
            "<<<<<<<Processing /content/drive/MyDrive/EEG/sub-052/eeg>>>>>>>\n",
            "Reading /content/drive/MyDrive/EEG/sub-052/eeg/sub-052_task-Rest_run-01_eeg.fdt\n",
            "Subject ID: sub-052_run-01, Signal Shape: (16, 225470)\n",
            "<<<<<<<Processing /content/drive/MyDrive/EEG/sub-053/eeg>>>>>>>\n",
            "Reading /content/drive/MyDrive/EEG/sub-053/eeg/sub-053_task-Rest_run-01_eeg.fdt\n",
            "Subject ID: sub-053_run-01, Signal Shape: (16, 245080)\n",
            "<<<<<<<Processing /content/drive/MyDrive/EEG/sub-055/eeg>>>>>>>\n",
            "Reading /content/drive/MyDrive/EEG/sub-055/eeg/sub-055_task-Rest_run-01_eeg.fdt\n",
            "Subject ID: sub-055_run-01, Signal Shape: (16, 249155)\n",
            "<<<<<<<Processing /content/drive/MyDrive/EEG/sub-023/eeg>>>>>>>\n",
            "Reading /content/drive/MyDrive/EEG/sub-023/eeg/sub-023_task-Rest_run-01_eeg.fdt\n"
          ]
        },
        {
          "name": "stderr",
          "output_type": "stream",
          "text": [
            "<ipython-input-43-c0e7c88107ff>:66: RuntimeWarning: The data contains 'boundary' events, indicating data discontinuities. Be cautious of filtering and epoching around these events.\n",
            "  mne_obj = mne.io.read_raw_eeglab(mne_file)\n"
          ]
        },
        {
          "name": "stdout",
          "output_type": "stream",
          "text": [
            "Subject ID: sub-023_run-01, Signal Shape: (16, 255580)\n",
            "<<<<<<<Processing /content/drive/MyDrive/EEG/sub-032/eeg>>>>>>>\n",
            "Reading /content/drive/MyDrive/EEG/sub-032/eeg/sub-032_task-Rest_run-01_eeg.fdt\n"
          ]
        },
        {
          "name": "stderr",
          "output_type": "stream",
          "text": [
            "<ipython-input-43-c0e7c88107ff>:66: RuntimeWarning: The data contains 'boundary' events, indicating data discontinuities. Be cautious of filtering and epoching around these events.\n",
            "  mne_obj = mne.io.read_raw_eeglab(mne_file)\n"
          ]
        },
        {
          "name": "stdout",
          "output_type": "stream",
          "text": [
            "Subject ID: sub-032_run-01, Signal Shape: (16, 252597)\n",
            "<<<<<<<Processing /content/drive/MyDrive/EEG/sub-033/eeg>>>>>>>\n",
            "Reading /content/drive/MyDrive/EEG/sub-033/eeg/sub-033_task-Rest_run-01_eeg.fdt\n"
          ]
        },
        {
          "name": "stderr",
          "output_type": "stream",
          "text": [
            "<ipython-input-43-c0e7c88107ff>:66: RuntimeWarning: The data contains 'boundary' events, indicating data discontinuities. Be cautious of filtering and epoching around these events.\n",
            "  mne_obj = mne.io.read_raw_eeglab(mne_file)\n"
          ]
        },
        {
          "name": "stdout",
          "output_type": "stream",
          "text": [
            "Subject ID: sub-033_run-01, Signal Shape: (16, 169001)\n",
            "<<<<<<<Processing /content/drive/MyDrive/EEG/sub-004/eeg>>>>>>>\n",
            "Reading /content/drive/MyDrive/EEG/sub-004/eeg/sub-004_task-Rest_run-01_eeg.fdt\n",
            "Subject ID: sub-004_run-01, Signal Shape: (16, 263834)\n",
            "<<<<<<<Processing /content/drive/MyDrive/EEG/sub-005/eeg>>>>>>>\n",
            "Reading /content/drive/MyDrive/EEG/sub-005/eeg/sub-005_task-Rest_run-01_eeg.fdt\n",
            "Subject ID: sub-005_run-01, Signal Shape: (16, 244040)\n",
            "<<<<<<<Processing /content/drive/MyDrive/EEG/sub-006/eeg>>>>>>>\n",
            "Reading /content/drive/MyDrive/EEG/sub-006/eeg/sub-006_task-Rest_run-01_eeg.fdt\n",
            "Subject ID: sub-006_run-01, Signal Shape: (16, 261760)\n",
            "<<<<<<<Processing /content/drive/MyDrive/EEG/sub-008/eeg>>>>>>>\n",
            "Reading /content/drive/MyDrive/EEG/sub-008/eeg/sub-008_task-Rest_run-01_eeg.fdt\n",
            "Subject ID: sub-008_run-01, Signal Shape: (16, 246340)\n",
            "<<<<<<<Processing /content/drive/MyDrive/EEG/sub-009/eeg>>>>>>>\n",
            "Reading /content/drive/MyDrive/EEG/sub-009/eeg/sub-009_task-Rest_run-01_eeg.fdt\n",
            "Subject ID: sub-009_run-01, Signal Shape: (16, 249934)\n",
            "<<<<<<<Processing /content/drive/MyDrive/EEG/sub-013/eeg>>>>>>>\n",
            "Reading /content/drive/MyDrive/EEG/sub-013/eeg/sub-013_task-Rest_run-01_eeg.fdt\n",
            "Subject ID: sub-013_run-01, Signal Shape: (16, 267040)\n",
            "<<<<<<<Processing /content/drive/MyDrive/EEG/sub-014/eeg>>>>>>>\n",
            "Reading /content/drive/MyDrive/EEG/sub-014/eeg/sub-014_task-Rest_run-01_eeg.fdt\n"
          ]
        },
        {
          "name": "stderr",
          "output_type": "stream",
          "text": [
            "<ipython-input-43-c0e7c88107ff>:66: RuntimeWarning: The data contains 'boundary' events, indicating data discontinuities. Be cautious of filtering and epoching around these events.\n",
            "  mne_obj = mne.io.read_raw_eeglab(mne_file)\n"
          ]
        },
        {
          "name": "stdout",
          "output_type": "stream",
          "text": [
            "Subject ID: sub-014_run-01, Signal Shape: (16, 250700)\n",
            "<<<<<<<Processing /content/drive/MyDrive/EEG/sub-015/eeg>>>>>>>\n",
            "Reading /content/drive/MyDrive/EEG/sub-015/eeg/sub-015_task-Rest_run-01_eeg.fdt\n",
            "Subject ID: sub-015_run-01, Signal Shape: (16, 255390)\n",
            "<<<<<<<Processing /content/drive/MyDrive/EEG/sub-012/eeg>>>>>>>\n",
            "<<<<<<<Error in {'electrodes': 'sub-012_task-Rest_run-01_electrodes.tsv'}: 'set'>>>>>>>\n",
            "<<<<<<<Processing /content/drive/MyDrive/EEG/sub-017/eeg>>>>>>>\n",
            "Reading /content/drive/MyDrive/EEG/sub-017/eeg/sub-017_task-Rest_run-01_eeg.fdt\n"
          ]
        },
        {
          "name": "stderr",
          "output_type": "stream",
          "text": [
            "<ipython-input-43-c0e7c88107ff>:66: RuntimeWarning: The data contains 'boundary' events, indicating data discontinuities. Be cautious of filtering and epoching around these events.\n",
            "  mne_obj = mne.io.read_raw_eeglab(mne_file)\n"
          ]
        },
        {
          "name": "stdout",
          "output_type": "stream",
          "text": [
            "Subject ID: sub-017_run-01, Signal Shape: (16, 249960)\n",
            "<<<<<<<Processing /content/drive/MyDrive/EEG/sub-018/eeg>>>>>>>\n",
            "Reading /content/drive/MyDrive/EEG/sub-018/eeg/sub-018_task-Rest_run-01_eeg.fdt\n",
            "Subject ID: sub-018_run-01, Signal Shape: (16, 250780)\n",
            "<<<<<<<Processing /content/drive/MyDrive/EEG/sub-019/eeg>>>>>>>\n",
            "Reading /content/drive/MyDrive/EEG/sub-019/eeg/sub-019_task-Rest_run-01_eeg.fdt\n"
          ]
        },
        {
          "name": "stderr",
          "output_type": "stream",
          "text": [
            "<ipython-input-43-c0e7c88107ff>:66: RuntimeWarning: The data contains 'boundary' events, indicating data discontinuities. Be cautious of filtering and epoching around these events.\n",
            "  mne_obj = mne.io.read_raw_eeglab(mne_file)\n"
          ]
        },
        {
          "name": "stdout",
          "output_type": "stream",
          "text": [
            "Subject ID: sub-019_run-01, Signal Shape: (16, 246934)\n",
            "<<<<<<<Processing /content/drive/MyDrive/EEG/sub-021/eeg>>>>>>>\n",
            "Reading /content/drive/MyDrive/EEG/sub-021/eeg/sub-021_task-Rest_run-01_eeg.fdt\n"
          ]
        },
        {
          "name": "stderr",
          "output_type": "stream",
          "text": [
            "<ipython-input-43-c0e7c88107ff>:66: RuntimeWarning: The data contains 'boundary' events, indicating data discontinuities. Be cautious of filtering and epoching around these events.\n",
            "  mne_obj = mne.io.read_raw_eeglab(mne_file)\n"
          ]
        },
        {
          "name": "stdout",
          "output_type": "stream",
          "text": [
            "Subject ID: sub-021_run-01, Signal Shape: (16, 245144)\n",
            "<<<<<<<Processing /content/drive/MyDrive/EEG/sub-022/eeg>>>>>>>\n",
            "Reading /content/drive/MyDrive/EEG/sub-022/eeg/sub-022_task-Rest_run-01_eeg.fdt\n"
          ]
        },
        {
          "name": "stderr",
          "output_type": "stream",
          "text": [
            "<ipython-input-43-c0e7c88107ff>:66: RuntimeWarning: The data contains 'boundary' events, indicating data discontinuities. Be cautious of filtering and epoching around these events.\n",
            "  mne_obj = mne.io.read_raw_eeglab(mne_file)\n"
          ]
        },
        {
          "name": "stdout",
          "output_type": "stream",
          "text": [
            "Subject ID: sub-022_run-01, Signal Shape: (16, 246874)\n",
            "<<<<<<<Processing /content/drive/MyDrive/EEG/sub-101/eeg>>>>>>>\n",
            "Reading /content/drive/MyDrive/EEG/sub-101/eeg/sub-101_task-Rest_run-01_eeg.fdt\n"
          ]
        },
        {
          "name": "stderr",
          "output_type": "stream",
          "text": [
            "<ipython-input-43-c0e7c88107ff>:66: RuntimeWarning: The data contains 'boundary' events, indicating data discontinuities. Be cautious of filtering and epoching around these events.\n",
            "  mne_obj = mne.io.read_raw_eeglab(mne_file)\n"
          ]
        },
        {
          "name": "stdout",
          "output_type": "stream",
          "text": [
            "Subject ID: sub-101_run-01, Signal Shape: (16, 244780)\n",
            "<<<<<<<Processing /content/drive/MyDrive/EEG/sub-103/eeg>>>>>>>\n",
            "<<<<<<<Error in {'electrodes': 'sub-103_task-Rest_run-01_electrodes.tsv'}: 'set'>>>>>>>\n",
            "<<<<<<<Processing /content/drive/MyDrive/EEG/sub-097/eeg>>>>>>>\n",
            "<<<<<<<Error in {'electrodes': 'sub-097_task-Rest_run-01_electrodes.tsv'}: 'set'>>>>>>>\n",
            "<<<<<<<Processing /content/drive/MyDrive/EEG/sub-024/eeg>>>>>>>\n",
            "Reading /content/drive/MyDrive/EEG/sub-024/eeg/sub-024_task-Rest_run-01_eeg.fdt\n"
          ]
        },
        {
          "name": "stderr",
          "output_type": "stream",
          "text": [
            "<ipython-input-43-c0e7c88107ff>:66: RuntimeWarning: The data contains 'boundary' events, indicating data discontinuities. Be cautious of filtering and epoching around these events.\n",
            "  mne_obj = mne.io.read_raw_eeglab(mne_file)\n"
          ]
        },
        {
          "name": "stdout",
          "output_type": "stream",
          "text": [
            "Subject ID: sub-024_run-01, Signal Shape: (16, 232420)\n",
            "<<<<<<<Processing /content/drive/MyDrive/EEG/sub-026/eeg>>>>>>>\n",
            "Reading /content/drive/MyDrive/EEG/sub-026/eeg/sub-026_task-Rest_run-01_eeg.fdt\n"
          ]
        },
        {
          "name": "stderr",
          "output_type": "stream",
          "text": [
            "<ipython-input-43-c0e7c88107ff>:66: RuntimeWarning: The data contains 'boundary' events, indicating data discontinuities. Be cautious of filtering and epoching around these events.\n",
            "  mne_obj = mne.io.read_raw_eeglab(mne_file)\n"
          ]
        },
        {
          "name": "stdout",
          "output_type": "stream",
          "text": [
            "Subject ID: sub-026_run-01, Signal Shape: (16, 246920)\n",
            "<<<<<<<Processing /content/drive/MyDrive/EEG/sub-025/eeg>>>>>>>\n",
            "Reading /content/drive/MyDrive/EEG/sub-025/eeg/sub-025_task-Rest_run-01_eeg.fdt\n",
            "Subject ID: sub-025_run-01, Signal Shape: (16, 256320)\n",
            "<<<<<<<Processing /content/drive/MyDrive/EEG/sub-027/eeg>>>>>>>\n",
            "Reading /content/drive/MyDrive/EEG/sub-027/eeg/sub-027_task-Rest_run-01_eeg.fdt\n"
          ]
        },
        {
          "name": "stderr",
          "output_type": "stream",
          "text": [
            "<ipython-input-43-c0e7c88107ff>:66: RuntimeWarning: The data contains 'boundary' events, indicating data discontinuities. Be cautious of filtering and epoching around these events.\n",
            "  mne_obj = mne.io.read_raw_eeglab(mne_file)\n"
          ]
        },
        {
          "name": "stdout",
          "output_type": "stream",
          "text": [
            "Subject ID: sub-027_run-01, Signal Shape: (16, 245854)\n",
            "<<<<<<<Processing /content/drive/MyDrive/EEG/sub-086/eeg>>>>>>>\n",
            "Reading /content/drive/MyDrive/EEG/sub-086/eeg/sub-086_task-Rest_run-01_eeg.fdt\n",
            "Subject ID: sub-086_run-01, Signal Shape: (16, 251040)\n",
            "<<<<<<<Processing /content/drive/MyDrive/EEG/sub-081/eeg>>>>>>>\n",
            "Reading /content/drive/MyDrive/EEG/sub-081/eeg/sub-081_task-Rest_run-01_eeg.fdt\n",
            "Subject ID: sub-081_run-01, Signal Shape: (16, 245820)\n",
            "<<<<<<<Processing /content/drive/MyDrive/EEG/sub-085/eeg>>>>>>>\n",
            "Reading /content/drive/MyDrive/EEG/sub-085/eeg/sub-085_task-Rest_run-01_eeg.fdt\n",
            "Subject ID: sub-085_run-01, Signal Shape: (16, 250735)\n",
            "<<<<<<<Processing /content/drive/MyDrive/EEG/sub-058/eeg>>>>>>>\n",
            "Reading /content/drive/MyDrive/EEG/sub-058/eeg/sub-058_task-Rest_run-01_eeg.fdt\n",
            "Subject ID: sub-058_run-01, Signal Shape: (16, 249180)\n",
            "<<<<<<<Processing /content/drive/MyDrive/EEG/sub-059/eeg>>>>>>>\n",
            "Reading /content/drive/MyDrive/EEG/sub-059/eeg/sub-059_task-Rest_run-01_eeg.fdt\n",
            "Subject ID: sub-059_run-01, Signal Shape: (16, 248140)\n",
            "<<<<<<<Processing /content/drive/MyDrive/EEG/sub-061/eeg>>>>>>>\n",
            "<<<<<<<Error in {'electrodes': 'sub-061_task-Rest_run-01_electrodes.tsv'}: 'set'>>>>>>>\n",
            "<<<<<<<Processing /content/drive/MyDrive/EEG/sub-063/eeg>>>>>>>\n",
            "<<<<<<<Error in {'electrodes': 'sub-063_task-Rest_run-01_electrodes.tsv'}: 'set'>>>>>>>\n",
            "<<<<<<<Processing /content/drive/MyDrive/EEG/sub-096/eeg>>>>>>>\n",
            "<<<<<<<Error in {'electrodes': 'sub-096_task-Rest_run-01_electrodes.tsv'}: 'set'>>>>>>>\n",
            "<<<<<<<Processing /content/drive/MyDrive/EEG/sub-106/eeg>>>>>>>\n",
            "<<<<<<<Error in {'electrodes': 'sub-106_task-Rest_run-01_electrodes.tsv'}: 'set'>>>>>>>\n",
            "<<<<<<<Processing /content/drive/MyDrive/EEG/sub-028/eeg>>>>>>>\n",
            "Reading /content/drive/MyDrive/EEG/sub-028/eeg/sub-028_task-Rest_run-01_eeg.fdt\n"
          ]
        },
        {
          "name": "stderr",
          "output_type": "stream",
          "text": [
            "<ipython-input-43-c0e7c88107ff>:66: RuntimeWarning: The data contains 'boundary' events, indicating data discontinuities. Be cautious of filtering and epoching around these events.\n",
            "  mne_obj = mne.io.read_raw_eeglab(mne_file)\n"
          ]
        },
        {
          "name": "stdout",
          "output_type": "stream",
          "text": [
            "Subject ID: sub-028_run-01, Signal Shape: (16, 246634)\n",
            "<<<<<<<Processing /content/drive/MyDrive/EEG/sub-107/eeg>>>>>>>\n",
            "Reading /content/drive/MyDrive/EEG/sub-107/eeg/sub-107_task-Rest_run-01_eeg.fdt\n",
            "Subject ID: sub-107_run-01, Signal Shape: (16, 116692)\n",
            "<<<<<<<Processing /content/drive/MyDrive/EEG/sub-109/eeg>>>>>>>\n",
            "Reading /content/drive/MyDrive/EEG/sub-109/eeg/sub-109_task-Rest_run-01_eeg.fdt\n"
          ]
        },
        {
          "name": "stderr",
          "output_type": "stream",
          "text": [
            "<ipython-input-43-c0e7c88107ff>:66: RuntimeWarning: The data contains 'boundary' events, indicating data discontinuities. Be cautious of filtering and epoching around these events.\n",
            "  mne_obj = mne.io.read_raw_eeglab(mne_file)\n"
          ]
        },
        {
          "name": "stdout",
          "output_type": "stream",
          "text": [
            "Subject ID: sub-109_run-01, Signal Shape: (16, 241660)\n",
            "<<<<<<<Processing /content/drive/MyDrive/EEG/sub-112/eeg>>>>>>>\n",
            "Reading /content/drive/MyDrive/EEG/sub-112/eeg/sub-112_task-Rest_run-01_eeg.fdt\n",
            "Subject ID: sub-112_run-01, Signal Shape: (16, 247540)\n",
            "<<<<<<<Processing /content/drive/MyDrive/EEG/sub-114/eeg>>>>>>>\n",
            "Reading /content/drive/MyDrive/EEG/sub-114/eeg/sub-114_task-Rest_run-01_eeg.fdt\n",
            "Subject ID: sub-114_run-01, Signal Shape: (16, 246460)\n",
            "<<<<<<<Processing /content/drive/MyDrive/EEG/sub-121/eeg>>>>>>>\n",
            "Reading /content/drive/MyDrive/EEG/sub-121/eeg/sub-121_task-Rest_run-01_eeg.fdt\n",
            "Subject ID: sub-121_run-01, Signal Shape: (16, 257760)\n",
            "<<<<<<<Processing /content/drive/MyDrive/EEG/sub-030/eeg>>>>>>>\n",
            "Reading /content/drive/MyDrive/EEG/sub-030/eeg/sub-030_task-Rest_run-01_eeg.fdt\n",
            "Subject ID: sub-030_run-01, Signal Shape: (16, 225520)\n",
            "<<<<<<<Processing /content/drive/MyDrive/EEG/sub-031/eeg>>>>>>>\n",
            "Reading /content/drive/MyDrive/EEG/sub-031/eeg/sub-031_task-Rest_run-01_eeg.fdt\n"
          ]
        },
        {
          "name": "stderr",
          "output_type": "stream",
          "text": [
            "<ipython-input-43-c0e7c88107ff>:66: RuntimeWarning: The data contains 'boundary' events, indicating data discontinuities. Be cautious of filtering and epoching around these events.\n",
            "  mne_obj = mne.io.read_raw_eeglab(mne_file)\n"
          ]
        },
        {
          "name": "stdout",
          "output_type": "stream",
          "text": [
            "Subject ID: sub-031_run-01, Signal Shape: (16, 246780)\n",
            "<<<<<<<Processing /content/drive/MyDrive/EEG/sub-035/eeg>>>>>>>\n",
            "Reading /content/drive/MyDrive/EEG/sub-035/eeg/sub-035_task-Rest_run-01_eeg.fdt\n"
          ]
        },
        {
          "name": "stderr",
          "output_type": "stream",
          "text": [
            "<ipython-input-43-c0e7c88107ff>:66: RuntimeWarning: The data contains 'boundary' events, indicating data discontinuities. Be cautious of filtering and epoching around these events.\n",
            "  mne_obj = mne.io.read_raw_eeglab(mne_file)\n"
          ]
        },
        {
          "name": "stdout",
          "output_type": "stream",
          "text": [
            "Subject ID: sub-035_run-01, Signal Shape: (16, 250634)\n",
            "<<<<<<<Processing /content/drive/MyDrive/EEG/sub-034/eeg>>>>>>>\n",
            "Reading /content/drive/MyDrive/EEG/sub-034/eeg/sub-034_task-Rest_run-01_eeg.fdt\n"
          ]
        },
        {
          "name": "stderr",
          "output_type": "stream",
          "text": [
            "<ipython-input-43-c0e7c88107ff>:66: RuntimeWarning: The data contains 'boundary' events, indicating data discontinuities. Be cautious of filtering and epoching around these events.\n",
            "  mne_obj = mne.io.read_raw_eeglab(mne_file)\n"
          ]
        },
        {
          "name": "stdout",
          "output_type": "stream",
          "text": [
            "Subject ID: sub-034_run-01, Signal Shape: (16, 228941)\n",
            "<<<<<<<Processing /content/drive/MyDrive/EEG/sub-120/eeg>>>>>>>\n",
            "Reading /content/drive/MyDrive/EEG/sub-120/eeg/sub-120_task-Rest_run-01_eeg.fdt\n",
            "Subject ID: sub-120_run-01, Signal Shape: (16, 250160)\n",
            "<<<<<<<Processing /content/drive/MyDrive/EEG/sub-119/eeg>>>>>>>\n",
            "Reading /content/drive/MyDrive/EEG/sub-119/eeg/sub-119_task-Rest_run-01_eeg.fdt\n",
            "Subject ID: sub-119_run-01, Signal Shape: (16, 251900)\n",
            "<<<<<<<Processing /content/drive/MyDrive/EEG/sub-036/eeg>>>>>>>\n",
            "Reading /content/drive/MyDrive/EEG/sub-036/eeg/sub-036_task-Rest_run-01_eeg.fdt\n"
          ]
        },
        {
          "name": "stderr",
          "output_type": "stream",
          "text": [
            "<ipython-input-43-c0e7c88107ff>:66: RuntimeWarning: The data contains 'boundary' events, indicating data discontinuities. Be cautious of filtering and epoching around these events.\n",
            "  mne_obj = mne.io.read_raw_eeglab(mne_file)\n"
          ]
        },
        {
          "name": "stdout",
          "output_type": "stream",
          "text": [
            "Subject ID: sub-036_run-01, Signal Shape: (16, 251734)\n",
            "<<<<<<<Processing /content/drive/MyDrive/EEG/sub-037/eeg>>>>>>>\n",
            "Reading /content/drive/MyDrive/EEG/sub-037/eeg/sub-037_task-Rest_run-01_eeg.fdt\n"
          ]
        },
        {
          "name": "stderr",
          "output_type": "stream",
          "text": [
            "<ipython-input-43-c0e7c88107ff>:66: RuntimeWarning: The data contains 'boundary' events, indicating data discontinuities. Be cautious of filtering and epoching around these events.\n",
            "  mne_obj = mne.io.read_raw_eeglab(mne_file)\n"
          ]
        },
        {
          "name": "stdout",
          "output_type": "stream",
          "text": [
            "Subject ID: sub-037_run-01, Signal Shape: (16, 247260)\n",
            "<<<<<<<Processing /content/drive/MyDrive/EEG/sub-039/eeg>>>>>>>\n",
            "Reading /content/drive/MyDrive/EEG/sub-039/eeg/sub-039_task-Rest_run-01_eeg.fdt\n"
          ]
        },
        {
          "name": "stderr",
          "output_type": "stream",
          "text": [
            "<ipython-input-43-c0e7c88107ff>:66: RuntimeWarning: The data contains 'boundary' events, indicating data discontinuities. Be cautious of filtering and epoching around these events.\n",
            "  mne_obj = mne.io.read_raw_eeglab(mne_file)\n"
          ]
        },
        {
          "name": "stdout",
          "output_type": "stream",
          "text": [
            "Subject ID: sub-039_run-01, Signal Shape: (16, 248414)\n",
            "<<<<<<<Processing /content/drive/MyDrive/EEG/sub-040/eeg>>>>>>>\n",
            "Reading /content/drive/MyDrive/EEG/sub-040/eeg/sub-040_task-Rest_run-01_eeg.fdt\n",
            "Subject ID: sub-040_run-01, Signal Shape: (16, 243214)\n",
            "<<<<<<<Processing /content/drive/MyDrive/EEG/sub-041/eeg>>>>>>>\n",
            "Reading /content/drive/MyDrive/EEG/sub-041/eeg/sub-041_task-Rest_run-01_eeg.fdt\n"
          ]
        },
        {
          "name": "stderr",
          "output_type": "stream",
          "text": [
            "<ipython-input-43-c0e7c88107ff>:66: RuntimeWarning: The data contains 'boundary' events, indicating data discontinuities. Be cautious of filtering and epoching around these events.\n",
            "  mne_obj = mne.io.read_raw_eeglab(mne_file)\n"
          ]
        },
        {
          "name": "stdout",
          "output_type": "stream",
          "text": [
            "Subject ID: sub-041_run-01, Signal Shape: (16, 248631)\n",
            "<<<<<<<Processing /content/drive/MyDrive/EEG/sub-042/eeg>>>>>>>\n",
            "Reading /content/drive/MyDrive/EEG/sub-042/eeg/sub-042_task-Rest_run-01_eeg.fdt\n",
            "Subject ID: sub-042_run-01, Signal Shape: (16, 253414)\n",
            "<<<<<<<Processing /content/drive/MyDrive/EEG/sub-043/eeg>>>>>>>\n",
            "Reading /content/drive/MyDrive/EEG/sub-043/eeg/sub-043_task-Rest_run-01_eeg.fdt\n",
            "Subject ID: sub-043_run-01, Signal Shape: (16, 244014)\n",
            "<<<<<<<Processing /content/drive/MyDrive/EEG/sub-044/eeg>>>>>>>\n",
            "Reading /content/drive/MyDrive/EEG/sub-044/eeg/sub-044_task-Rest_run-01_eeg.fdt\n",
            "<<<<<<<Error in {'set': 'sub-044_task-Rest_run-01_eeg.set', 'electrodes': 'sub-044_task-Rest_run-01_electrodes.tsv'}: [Errno 2] No such file or directory: '/content/drive/MyDrive/EEG/sub-044/eeg/sub-044_task-Rest_run-01_eeg.fdt'>>>>>>>\n",
            "<<<<<<<Processing /content/drive/MyDrive/EEG/sub-045/eeg>>>>>>>\n",
            "Reading /content/drive/MyDrive/EEG/sub-045/eeg/sub-045_task-Rest_run-01_eeg.fdt\n"
          ]
        },
        {
          "name": "stderr",
          "output_type": "stream",
          "text": [
            "<ipython-input-43-c0e7c88107ff>:66: RuntimeWarning: The data contains 'boundary' events, indicating data discontinuities. Be cautious of filtering and epoching around these events.\n",
            "  mne_obj = mne.io.read_raw_eeglab(mne_file)\n"
          ]
        },
        {
          "name": "stdout",
          "output_type": "stream",
          "text": [
            "Subject ID: sub-045_run-01, Signal Shape: (16, 244434)\n",
            "<<<<<<<Processing /content/drive/MyDrive/EEG/sub-046/eeg>>>>>>>\n",
            "Reading /content/drive/MyDrive/EEG/sub-046/eeg/sub-046_task-Rest_run-01_eeg.fdt\n",
            "Subject ID: sub-046_run-01, Signal Shape: (16, 259974)\n",
            "Data extraction time: 895.4279131889343\n",
            "Signal processing time: 69.9698314666748\n",
            "Number of training data samples: 75\n",
            "6090 2662 3428\n",
            "6090\n",
            "107 46 6090 4286\n",
            "(1, 16, 1200) (16, 16) 0 6090\n"
          ]
        }
      ],
      "source": [
        "# \n",
        "import numpy as np\n",
        "import pandas as pd\n",
        "import os\n",
        "import scipy.io\n",
        "import scipy.signal\n",
        "import mne\n",
        "import h5py\n",
        "import matplotlib.pyplot as plt\n",
        "import seaborn as sns\n",
        "import time\n",
        "from functools import partial\n",
        "import torch\n",
        "import torch.nn as nn\n",
        "import torch.nn.functional as F\n",
        "from torch.utils.data import DataLoader, Dataset, random_split\n",
        "from sklearn.preprocessing import StandardScaler\n",
        "\n",
        "channelsList = ['FP1', 'FP2', 'F3', 'F4', 'C3', 'C4', 'P3', 'P4', 'O1', 'O2', 'F7', 'F8', 'CP3', 'CP4', 'CP5', 'CP6']\n",
        "\n",
        "class SignalExtraction:\n",
        "\n",
        "    @staticmethod\n",
        "    def fn_signal_extraction_openneuro(raw_signal_obj, channels_subset=None):\n",
        "        dict_x = {}\n",
        "        for channel in raw_signal_obj.ch_names:\n",
        "            signal_channel = raw_signal_obj[channel]\n",
        "            y, x = signal_channel\n",
        "            dict_x[channel] = y.flatten()\n",
        "        signal_df = pd.DataFrame(dict_x)\n",
        "        if channels_subset:\n",
        "            signal_df = signal_df[channels_subset]\n",
        "        signal_np = np.array(signal_df).transpose()\n",
        "        return signal_np\n",
        "\n",
        "    @staticmethod\n",
        "    def get_participants_data_openneuro(file):\n",
        "        df_participants = pd.read_csv(file, delimiter=\"\\t\")\n",
        "        return df_participants\n",
        "\n",
        "    @staticmethod\n",
        "    def get_electrodes_coordinates(file, channelsList):\n",
        "        df_coordinates = pd.read_csv(file, delimiter=\"\\t\")\n",
        "        df1 = df_coordinates[df_coordinates.name.map(lambda x: x in channelsList)]\n",
        "        df2 = df1.set_index('name')\n",
        "        df3 = df2.reindex(channelsList)\n",
        "        return df3\n",
        "\n",
        "    @staticmethod\n",
        "    def fn_label_extraction_openneuro(subject, df):\n",
        "        BDI_obj = df[df.participant_id == subject].BDI\n",
        "        return BDI_obj.values[0]\n",
        "\n",
        "    @staticmethod\n",
        "    def read_mne_iterator(path, num=None):\n",
        "        lst = []\n",
        "        i = 0\n",
        "        df = SignalExtraction.get_participants_data_openneuro(os.path.join(path, 'participants.tsv'))\n",
        "\n",
        "        def fn_read_EEG(root, run, channelsList):\n",
        "            set_file = run['set']\n",
        "            coordiantes_file = run['electrodes']\n",
        "            name_split = set_file.split('_')\n",
        "            subject_id = name_split[0] + '_' + name_split[2]\n",
        "            bdi = SignalExtraction.fn_label_extraction_openneuro(name_split[0], df)\n",
        "            mne_file = os.path.join(root, set_file)\n",
        "            mne_obj = mne.io.read_raw_eeglab(mne_file)\n",
        "            signal_np = SignalExtraction.fn_signal_extraction_openneuro(mne_obj, channelsList)\n",
        "            coordiantesFile = os.path.join(root, coordiantes_file)\n",
        "            df_coordinates = SignalExtraction.get_electrodes_coordinates(coordiantesFile, channelsList)\n",
        "            return subject_id, signal_np, df_coordinates, bdi\n",
        "\n",
        "        for root, _, files in os.walk(path):\n",
        "            # root_list.append(root)\n",
        "            if root.endswith('eeg'):\n",
        "                run2 = {}\n",
        "                for name in files:\n",
        "                    if '_run-01_' in name:\n",
        "                        if '_eeg.set' in name:\n",
        "                            run2['set'] = name\n",
        "                        if '_electrodes.tsv' in name:\n",
        "                            run2['electrodes'] = name\n",
        "\n",
        "                print(f'<<<<<<<Processing {root}>>>>>>>')\n",
        "                if run2:\n",
        "                    try:\n",
        "                        subject_id, signal_np, df_coordinates, bdi = fn_read_EEG(root, run2, channelsList)\n",
        "                        lst.append((subject_id, signal_np, df_coordinates, bdi))\n",
        "                        # Print the shape of the extracted signal\n",
        "                        print(f\"Subject ID: {subject_id}, Signal Shape: {signal_np.shape}\")\n",
        "                        # Print the first few rows of the extracted signal\n",
        "                    except Exception as e:\n",
        "                        print(f'<<<<<<<Error in {run2}: {e}>>>>>>>')\n",
        "                        continue\n",
        "                i += 1\n",
        "                if num and i == num:\n",
        "                    return lst\n",
        "        return lst#,root_list\n",
        "\n",
        "\n",
        "class SignalProcessing:\n",
        "\n",
        "    @staticmethod\n",
        "    def normalize_data(data):\n",
        "        \"\"\"\n",
        "        Normalize the data using Z-score normalization.\n",
        "        \"\"\"\n",
        "        scaler = StandardScaler()\n",
        "        normalized_data = scaler.fit_transform(data.T).T  # Transpose to fit each channel separately, then transpose back\n",
        "        return normalized_data\n",
        "\n",
        "    @staticmethod\n",
        "    def bandpass_filter(edges: list[float], sample_rate: float, poles: int, data: np.ndarray):\n",
        "        sos = scipy.signal.butter(poles, edges, 'bandpass', fs=sample_rate, output='sos')\n",
        "        filtered_data = scipy.signal.sosfiltfilt(sos, data)\n",
        "        return filtered_data\n",
        "\n",
        "    @staticmethod\n",
        "    def notch_filter(frequency_toRemove: float, quality_factor: float, sample_frequency: float, data: np.ndarray):\n",
        "        b, a = scipy.signal.iirnotch(frequency_toRemove, quality_factor, sample_frequency)\n",
        "        filtered_data = scipy.signal.filtfilt(b, a, data)\n",
        "        return filtered_data\n",
        "\n",
        "    @staticmethod\n",
        "    def resample(data: np.ndarray, sample_frequency: float, downsample_frequency: float):\n",
        "        n = data.shape[1]\n",
        "        num = (n // sample_frequency) * downsample_frequency\n",
        "        resampled_data = scipy.signal.resample(data, num, axis=1)\n",
        "        return resampled_data\n",
        "\n",
        "    @staticmethod\n",
        "    def data_augmentation(signal, sample_freq: int, window_size: int, stride_size: int):\n",
        "        N = signal.shape[1]\n",
        "        f = window_size * sample_freq\n",
        "        s = stride_size * sample_freq\n",
        "        n = (N - f + s) // s\n",
        "        lst = [signal[:, i*s:i*s + f] for i in range(n)]\n",
        "        tensor = np.stack(lst, axis=0)\n",
        "        return tensor\n",
        "\n",
        "    @staticmethod\n",
        "    def fn_tensor(signal, n_slices):\n",
        "        signal_slices = np.hsplit(signal, n_slices)\n",
        "        tensor = np.stack(signal_slices, axis=0)\n",
        "        return tensor\n",
        "\n",
        "    @staticmethod\n",
        "    def tensor_generator(signal, sample_freq, time_slice_size):\n",
        "        n = signal.shape[1]\n",
        "        assert n % sample_freq == 0\n",
        "        t = n // sample_freq\n",
        "        assert t % time_slice_size == 0\n",
        "        n_time_slices = t // time_slice_size\n",
        "        return SignalProcessing.fn_tensor(signal, n_time_slices)\n",
        "\n",
        "    @staticmethod\n",
        "    def signal_processing(np_array, sample_freq, band_freq_range, downsample_freq, slice_size, sub_slice_size):\n",
        "        bandpass_filter = partial(SignalProcessing.bandpass_filter, band_freq_range, sample_freq, 5)\n",
        "        signal_processed1 = np.apply_along_axis(bandpass_filter, 1, np_array)\n",
        "        signal_processed1 = SignalProcessing.normalize_data(signal_processed1)  # Normalize after bandpass filtering\n",
        "        notch_filter = partial(SignalProcessing.notch_filter, 60, 30, sample_freq)\n",
        "        signal_processed2 = np.apply_along_axis(notch_filter, 1, signal_processed1)\n",
        "        signal_processed2 = np_array\n",
        "        signal_processed2 = SignalProcessing.normalize_data(signal_processed2)  # Normalize after notch filtering\n",
        "        signal_processed3 = SignalProcessing.resample(signal_processed2, sample_freq, downsample_freq)\n",
        "        signal_processed3 = SignalProcessing.normalize_data(signal_processed3)  # Normalize after resampling\n",
        "\n",
        "        window_size = slice_size\n",
        "        stride_size = window_size\n",
        "        signal_augmented = SignalProcessing.data_augmentation(signal_processed3, downsample_freq, window_size, stride_size)\n",
        "\n",
        "        # Remove the first and last 10 seconds of all signals\n",
        "        if(len(signal_augmented) > 20*downsample_freq):\n",
        "            signal_augmented = signal_augmented[:, 10*downsample_freq:-10*downsample_freq]\n",
        "        else:\n",
        "            signal_augmented = signal_augmented[:, :]\n",
        "\n",
        "\n",
        "        signal_augmented = SignalProcessing.normalize_data(signal_augmented.reshape(-1, signal_augmented.shape[-1])).reshape(signal_augmented.shape)  # Normalize after data augmentation\n",
        "        signal_tensors = [SignalProcessing.tensor_generator(signal_slice, downsample_freq, sub_slice_size) for signal_slice in signal_augmented]\n",
        "        tensor = np.stack(signal_tensors, axis=0)\n",
        "        tensor = SignalProcessing.normalize_data(tensor.reshape(-1, tensor.shape[-1])).reshape(tensor.shape)  # Normalize after tensor generation\n",
        "        return tensor\n",
        "\n",
        "    @staticmethod\n",
        "    def AdjMatrix(df_electrodes_coordinates):\n",
        "        np_coordinates = np.array(df_electrodes_coordinates)\n",
        "        _, b = np_coordinates.shape\n",
        "        lst = []\n",
        "        for i in range(b):\n",
        "            f = np_coordinates[:, i]\n",
        "            d = f.reshape(-1, 1) - f.reshape(1, -1)\n",
        "            d_square = d**2\n",
        "            lst.append(d_square)\n",
        "        tensor = np.stack(lst, axis=0)\n",
        "        tensor_dist_sq = tensor.sum(axis=0)\n",
        "        tensor_dist = np.sqrt(tensor_dist_sq)\n",
        "        max_val, min_val = tensor_dist.max(), tensor_dist.min()\n",
        "        tensor_dist_norm = (tensor_dist - min_val) / (max_val - min_val)\n",
        "        return tensor_dist_norm if np.linalg.det(tensor_dist_norm) else np.array([])\n",
        "\n",
        "    @staticmethod\n",
        "    def to_bdi_label(bdi):\n",
        "        bdi_label = 0 if bdi < 17 else 1\n",
        "        return bdi_label\n",
        "\n",
        "    @staticmethod\n",
        "    def to_h5(file_path, subject, signal_array, label, frequency):\n",
        "        with h5py.File(file_path, \"w\") as hf:\n",
        "            hf.create_dataset(\"subject\", data=subject)\n",
        "            hf.create_dataset(\"resampled_signal\", data=signal_array)\n",
        "            hf.create_dataset(\"resample_freq\", data=frequency)\n",
        "            hf.create_dataset(\"label\", data=label)\n",
        "\n",
        "    @staticmethod\n",
        "    def signal_processing_iterator(data_lst, sample_freq, band_freq_range, downsample_freq, slice_size, sub_slice_size):\n",
        "        correct_data_lst = []\n",
        "        error_data_lst = []\n",
        "        for subject_id, signal_np, df_coordinates, bdi in data_lst:\n",
        "            try:\n",
        "                signal_processed = SignalProcessing.signal_processing(signal_np, sample_freq, band_freq_range, downsample_freq, slice_size, sub_slice_size)\n",
        "                Adj_dist_matrix = SignalProcessing.AdjMatrix(df_coordinates)\n",
        "                bdi_label = SignalProcessing.to_bdi_label(bdi)\n",
        "                if bdi_label in [0, 1] and Adj_dist_matrix.size:\n",
        "                    correct_data_lst.append((subject_id, signal_processed, Adj_dist_matrix, bdi, bdi_label))\n",
        "                else:\n",
        "                    error_data_lst.append((subject_id, signal_processed, Adj_dist_matrix, bdi, bdi_label))\n",
        "            except Exception as e:\n",
        "                print(f\"Error processing subject {subject_id}: {e}\")\n",
        "                error_data_lst.append((subject_id, None, None, bdi, None))\n",
        "\n",
        "        return correct_data_lst, error_data_lst\n",
        "\n",
        "\n",
        "class TrainingData:\n",
        "\n",
        "    @staticmethod\n",
        "    def signal_to_trainingData(signal_tuple):\n",
        "        ls = []\n",
        "        subject_id, signal_processed, Adj_dist_matrix, bdi, bdi_label = signal_tuple\n",
        "        for signal_slice in signal_processed:\n",
        "            ls.append((signal_slice, Adj_dist_matrix, bdi_label))\n",
        "        return ls\n",
        "\n",
        "    @staticmethod\n",
        "    def trainingData_iterator(signal_tuples):\n",
        "        ls = []\n",
        "        for signal_tuple in signal_tuples:\n",
        "            ls = ls + TrainingData.signal_to_trainingData(signal_tuple)\n",
        "        return ls\n",
        "\n",
        "\n",
        "def train_test_datasets(dataSet, batch_size, train_test_split):\n",
        "    # Splitting the data into training and testing datasets\n",
        "    train_size = int(len(dataSet) * train_test_split)\n",
        "    test_size = len(dataSet) - train_size\n",
        "    train_dataset, test_dataset = random_split(dataSet, [train_size, test_size])\n",
        "\n",
        "    # Creating DataLoaders for training and testing datasets\n",
        "    train_dataloader = DataLoader(train_dataset, batch_size=batch_size, shuffle=True)\n",
        "    test_dataloader = DataLoader(test_dataset, batch_size=batch_size, shuffle=False)\n",
        "\n",
        "    return train_dataloader, test_dataloader\n",
        "\n",
        "\n",
        "root_path = '/content/drive/MyDrive/'\n",
        "file_path_openneuro = 'EEG/'\n",
        "\n",
        "file_path = root_path + file_path_openneuro\n",
        "\n",
        "start = time.time()\n",
        "ls = SignalExtraction.read_mne_iterator(file_path, None)#######\n",
        "end = time.time()\n",
        "print(f\"Data extraction time: {end - start}\")\n",
        "\n",
        "sliceSize = 6\n",
        "bandFreqRange = [40, 100]\n",
        "downsampleFreq = 200\n",
        "subSliceSize = 6\n",
        "sampleFrequency = 500\n",
        "\n",
        "# After Signal Processing\n",
        "start = time.time()\n",
        "training_data, error_data = SignalProcessing.signal_processing_iterator(ls, sampleFrequency, bandFreqRange, downsampleFreq, sliceSize, subSliceSize)\n",
        "end = time.time()\n",
        "print(f\"Signal processing time: {end - start}\")\n",
        "\n",
        "print(f\"Number of training data samples: {len(training_data)}\")\n",
        "\n",
        "# Creating a folder to save processed data\n",
        "output_folder = \"processed_data\"\n",
        "if not os.path.exists(output_folder):\n",
        "    os.makedirs(output_folder)\n",
        "\n",
        "# Saving processed data for each subject\n",
        "for subject_id, signal_processed, Adj_dist_matrix, bdi, bdi_label in training_data:\n",
        "    subject_folder = os.path.join(output_folder, subject_id)\n",
        "    if not os.path.exists(subject_folder):\n",
        "        os.makedirs(subject_folder)\n",
        "\n",
        "    # Save processed data in the subject's folder\n",
        "    np.save(os.path.join(subject_folder, \"signal_processed.npy\"), signal_processed)\n",
        "    np.save(os.path.join(subject_folder, \"Adj_dist_matrix.npy\"), Adj_dist_matrix)\n",
        "    np.save(os.path.join(subject_folder, \"bdi_label.npy\"), bdi_label)\n",
        "\n",
        "X = TrainingData.trainingData_iterator(training_data)\n",
        "\n",
        "# Distribution of categorical Variable\n",
        "ls = []\n",
        "for i in X:\n",
        "    signal_slice, Adj_dist_matrix, bdi_label = i\n",
        "    ls.append(bdi_label)\n",
        "\n",
        "import builtins\n",
        "print(len(ls), builtins.sum(ls), len(ls) - builtins.sum(ls))\n",
        "\n",
        "dataSet = X\n",
        "print(len(dataSet))\n",
        "\n",
        "batch_size = 40\n",
        "train_test_split = 0.7\n",
        "\n",
        "train_dataloader, test_dataloader = train_test_datasets(dataSet, batch_size, train_test_split)\n",
        "\n",
        "print(len(train_dataloader), len(test_dataloader), len(train_dataloader.dataset) + len(test_dataloader.dataset), (len(train_dataloader) - 1) * batch_size + len(test_dataloader))\n",
        "\n",
        "# train_features_signal, train_features_adjMatrix, train_labels = next(iter(train_dataloader))\n",
        "# test_features_signal, test_features_adjMatrix, test_labels = next(iter(test_dataloader))\n",
        "\n",
        "# train_features_signal.shape, train_features_adjMatrix.shape, train_labels.shape, test_features_signal.shape, test_features_adjMatrix.shape, test_labels.shape\n",
        "\n",
        "signal, Adj_dist_matrix, label = dataSet[0]\n",
        "print(signal.shape, Adj_dist_matrix.shape, label, len(dataSet))\n",
        "\n",
        "learning_rate = 2e-4\n",
        "batch_size = 40\n",
        "epochs = 5\n",
        "\n",
        "timeSteps, nodesDim, nodeFeaturesDim = signal.shape\n",
        "hidden_dim = 64           #\n",
        "dropout_prob = 0.7        #\n",
        "num_layers = 2\n"
      ]
    },
    {
      "cell_type": "markdown",
      "metadata": {},
      "source": [
        "### Train and Test Loops"
      ]
    },
    {
      "cell_type": "code",
      "execution_count": 44,
      "metadata": {
        "id": "6Zj_BEWMTwyP"
      },
      "outputs": [],
      "source": [
        "# Splitting the data into training and testing datasets\n",
        "train_size = int(len(dataSet) * train_test_split)\n",
        "test_size = len(dataSet) - train_size\n",
        "train_dataset, test_dataset = random_split(dataSet, [train_size, test_size])\n",
        "\n",
        "# Creating DataLoaders for training and testing datasets with drop_last=True\n",
        "train_dataloader = DataLoader(train_dataset, batch_size=batch_size, shuffle=True, drop_last=True) # Set drop_last here\n",
        "test_dataloader = DataLoader(test_dataset, batch_size=batch_size, shuffle=False, drop_last=True) # Set drop_last here\n"
      ]
    },
    {
      "cell_type": "code",
      "execution_count": 45,
      "metadata": {
        "id": "j4xw4cXhS0hQ"
      },
      "outputs": [],
      "source": [
        "import pickle\n",
        "import torch\n",
        "from torch import nn\n",
        "import numpy as np\n",
        "from torch.utils.data import Dataset\n",
        "from torch.utils.data import DataLoader\n",
        "\n",
        "\n",
        "class EEGSignalDataset(Dataset):\n",
        "    def __init__(self, training_data):\n",
        "        training_data_transformed = self._transform(training_data)\n",
        "        self.signals, self.Adj_dist_matrices, self.y = training_data_transformed\n",
        "\n",
        "    def _transform(self, training_data):\n",
        "        signals, Adj_dist_matrices, labels = [], [], []\n",
        "        for signal, Adj_dist_matrix, label in training_data:\n",
        "            torch_signal = torch.from_numpy(signal).float()\n",
        "            torch_Adj_dist_matrix = torch.from_numpy(Adj_dist_matrix).float()\n",
        "            label = float(label)\n",
        "            signals.append(torch_signal)\n",
        "            Adj_dist_matrices.append(torch_Adj_dist_matrix)\n",
        "            labels.append(label)\n",
        "        return signals, Adj_dist_matrices, labels\n",
        "\n",
        "    def __len__(self):\n",
        "        return len(self.y)\n",
        "\n",
        "    def __getitem__(self, idx):\n",
        "        return self.signals[idx], self.Adj_dist_matrices[idx], self.y[idx]\n",
        "\n",
        "\n",
        "def train_test_datasets(dataset, batch_size, train_test_split):\n",
        "    train_size = int(train_test_split * len(dataset))\n",
        "    test_size = len(dataset) - train_size\n",
        "    trainDataset, testDataset = torch.utils.data.random_split(dataset, [train_size, test_size])\n",
        "\n",
        "    train_dataset = EEGSignalDataset(trainDataset)\n",
        "    train_dataloader = DataLoader(train_dataset, batch_size=batch_size, shuffle=True)\n",
        "\n",
        "    test_dataset = EEGSignalDataset(testDataset)\n",
        "    test_dataloader = DataLoader(test_dataset, batch_size=batch_size, shuffle=True)\n",
        "\n",
        "    return train_dataloader, test_dataloader\n",
        "\n",
        "\n",
        "def train_loop(dataloader, model, loss_fn, optimizer, batch_size):\n",
        "    size = len(dataloader.dataset)\n",
        "    # Set the model to training mode - important for batch normalization and dropout layers\n",
        "    # Unnecessary in this situation but added for best practices\n",
        "    model.train()\n",
        "    for batch, (X_Signal, X_AdjMatrixy, y) in enumerate(dataloader):\n",
        "        y = y.long()\n",
        "        # Compute prediction and loss\n",
        "        pred = model(X_Signal, X_AdjMatrixy)\n",
        "        loss = loss_fn(pred, y.float())\n",
        "        # Backpropagation\n",
        "        loss.backward()\n",
        "        optimizer.step()\n",
        "        optimizer.zero_grad()\n",
        "\n",
        "        if batch % 100 == 0:\n",
        "            loss, current = loss.item(), batch * batch_size + len(X_Signal)\n",
        "            print(f\"loss: {loss:>7f}  [{current:>5d}/{size:>5d}]\")\n",
        "\n",
        "\n",
        "def test_loop(dataloader, model, loss_fn):\n",
        "    # Set the model to evaluation mode - important for batch normalization and dropout layers\n",
        "    # Unnecessary in this situation but added for best practices\n",
        "    model.eval()\n",
        "    size = len(dataloader.dataset)\n",
        "    num_batches = len(dataloader)\n",
        "    test_loss, correct = 0, 0\n",
        "\n",
        "    # Evaluating the model with torch.no_grad() ensures that no gradients are computed during test mode\n",
        "    # also serves to reduce unnecessary gradient computations and memory usage for tensors with requires_grad=True\n",
        "    with torch.no_grad():\n",
        "\n",
        "        def fn_bool(p, y, treshold):\n",
        "            result = y*p+(1-y)*(1-p)\n",
        "            return result > treshold\n",
        "\n",
        "        for X_Signal, X_AdjMatrixy, y in dataloader:\n",
        "            pred = model(X_Signal, X_AdjMatrixy)\n",
        "            test_loss += loss_fn(pred, y.float()).item()\n",
        "            probability = nn.functional.sigmoid(pred)\n",
        "            correct += (fn_bool(probability, y.float(), 0.5)).type(torch.float).sum().item()\n",
        "\n",
        "    test_loss /= num_batches\n",
        "    correct /= size\n",
        "    print(f\"Test Error: \\n Accuracy: {(100*correct):>0.1f}%, Avg loss: {test_loss:>8f} \\n\")\n",
        "\n"
      ]
    },
    {
      "cell_type": "code",
      "execution_count": 46,
      "metadata": {
        "id": "XpUYhBW6Tcxx"
      },
      "outputs": [],
      "source": [
        "def train_loop(dataloader, model, loss_fn, optimizer, batch_size):\n",
        "    size = len(dataloader.dataset)\n",
        "    # Set the model to training mode - important for batch normalization and dropout layers\n",
        "    # Unnecessary in this situation but added for best practices\n",
        "    model.train()\n",
        "    for batch, (X_Signal, X_AdjMatrixy, y) in enumerate(dataloader):\n",
        "        y = y.long()\n",
        "        # Compute prediction and loss\n",
        "        pred = model(X_Signal, X_AdjMatrixy)\n",
        "        loss = loss_fn(pred, y.float())\n",
        "        # Backpropagation\n",
        "        loss.backward()\n",
        "        optimizer.step()\n",
        "        optimizer.zero_grad()\n",
        "\n",
        "        if batch % 100 == 0:\n",
        "            loss, current = loss.item(), batch * batch_size + len(X_Signal)\n",
        "            print(f\"loss: {loss:>7f}  [{current:>5d}/{size:>5d}]\")\n",
        "\n",
        "\n",
        "def test_loop(dataloader, model, loss_fn):\n",
        "    # Set the model to evaluation mode - important for batch normalization and dropout layers\n",
        "    # Unnecessary in this situation but added for best practices\n",
        "    model.eval()\n",
        "    size = len(dataloader.dataset)\n",
        "    num_batches = len(dataloader)\n",
        "    test_loss, correct = 0, 0\n",
        "    accuracy = 0\n",
        "\n",
        "    # Evaluating the model with torch.no_grad() ensures that no gradients are computed during test mode\n",
        "    # also serves to reduce unnecessary gradient computations and memory usage for tensors with requires_grad=True\n",
        "    with torch.no_grad():\n",
        "\n",
        "        def fn_bool(p, y, treshold):\n",
        "            result = y*p+(1-y)*(1-p)\n",
        "            return result > treshold\n",
        "\n",
        "        for X_Signal, X_AdjMatrixy, y in dataloader:\n",
        "            pred = model(X_Signal, X_AdjMatrixy)\n",
        "            test_loss += loss_fn(pred, y.float()).item()\n",
        "            probability = nn.functional.sigmoid(pred)\n",
        "            correct += (fn_bool(probability, y.float(), 0.5)).type(torch.float).sum().item()\n",
        "            accuracy = correct / size\n",
        "\n",
        "    test_loss /= num_batches\n",
        "    correct /= size\n",
        "    print(f\"Test Error: \\n Accuracy: {(100*accuracy):>0.1f}%, Avg loss: {test_loss:>8f} \\n\")\n",
        "\n",
        "    return accuracy, size\n",
        "\n"
      ]
    },
    {
      "cell_type": "markdown",
      "metadata": {},
      "source": [
        "### Baseline Model with Dense Layers"
      ]
    },
    {
      "cell_type": "code",
      "execution_count": 47,
      "metadata": {
        "colab": {
          "base_uri": "https://localhost:8080/"
        },
        "id": "1kCASMHek6Q-",
        "outputId": "4cd6e82e-5b04-4e33-8aa9-4790c80ff517"
      },
      "outputs": [
        {
          "name": "stdout",
          "output_type": "stream",
          "text": [
            "Epoch 1\n",
            "loss: 0.813881  [   40/ 4263]\n",
            "loss: 0.690360  [ 4040/ 4263]\n",
            "Test Error: \n",
            " Accuracy: 42.5%, Avg loss: 0.704565 \n",
            "\n",
            "Epoch 2\n",
            "loss: 0.691096  [   40/ 4263]\n",
            "loss: 0.696038  [ 4040/ 4263]\n",
            "Test Error: \n",
            " Accuracy: 42.5%, Avg loss: 0.698625 \n",
            "\n",
            "Epoch 3\n",
            "loss: 0.699014  [   40/ 4263]\n",
            "loss: 0.697538  [ 4040/ 4263]\n",
            "Test Error: \n",
            " Accuracy: 42.5%, Avg loss: 0.696750 \n",
            "\n",
            "Epoch 4\n",
            "loss: 0.699370  [   40/ 4263]\n",
            "loss: 0.694780  [ 4040/ 4263]\n",
            "Test Error: \n",
            " Accuracy: 42.5%, Avg loss: 0.695824 \n",
            "\n",
            "Epoch 5\n",
            "loss: 0.703715  [   40/ 4263]\n",
            "loss: 0.695794  [ 4040/ 4263]\n",
            "Test Error: \n",
            " Accuracy: 42.5%, Avg loss: 0.695272 \n",
            "\n",
            "Epoch 6\n",
            "loss: 0.697221  [   40/ 4263]\n",
            "loss: 0.692984  [ 4040/ 4263]\n",
            "Test Error: \n",
            " Accuracy: 42.5%, Avg loss: 0.694951 \n",
            "\n",
            "Epoch 7\n",
            "loss: 0.692575  [   40/ 4263]\n",
            "loss: 0.700505  [ 4040/ 4263]\n",
            "Test Error: \n",
            " Accuracy: 42.5%, Avg loss: 0.694695 \n",
            "\n",
            "Epoch 8\n",
            "loss: 0.700389  [   40/ 4263]\n",
            "loss: 0.694073  [ 4040/ 4263]\n",
            "Test Error: \n",
            " Accuracy: 42.5%, Avg loss: 0.694502 \n",
            "\n",
            "Epoch 9\n",
            "loss: 0.691305  [   40/ 4263]\n",
            "loss: 0.693306  [ 4040/ 4263]\n",
            "Test Error: \n",
            " Accuracy: 42.5%, Avg loss: 0.694354 \n",
            "\n",
            "Epoch 10\n",
            "loss: 0.695527  [   40/ 4263]\n",
            "loss: 0.692373  [ 4040/ 4263]\n",
            "Test Error: \n",
            " Accuracy: 42.5%, Avg loss: 0.694234 \n",
            "\n",
            "Epoch 11\n",
            "loss: 0.692989  [   40/ 4263]\n",
            "loss: 0.692098  [ 4040/ 4263]\n",
            "Test Error: \n",
            " Accuracy: 42.5%, Avg loss: 0.694134 \n",
            "\n",
            "Epoch 12\n",
            "loss: 0.692258  [   40/ 4263]\n",
            "loss: 0.694681  [ 4040/ 4263]\n",
            "Test Error: \n",
            " Accuracy: 42.5%, Avg loss: 0.694046 \n",
            "\n",
            "Epoch 13\n",
            "loss: 0.694843  [   40/ 4263]\n",
            "loss: 0.693203  [ 4040/ 4263]\n",
            "Test Error: \n",
            " Accuracy: 42.5%, Avg loss: 0.693976 \n",
            "\n",
            "Epoch 14\n",
            "loss: 0.694240  [   40/ 4263]\n",
            "loss: 0.693746  [ 4040/ 4263]\n",
            "Test Error: \n",
            " Accuracy: 42.5%, Avg loss: 0.693919 \n",
            "\n",
            "Epoch 15\n",
            "loss: 0.693075  [   40/ 4263]\n",
            "loss: 0.692819  [ 4040/ 4263]\n",
            "Test Error: \n",
            " Accuracy: 42.5%, Avg loss: 0.693863 \n",
            "\n",
            "Epoch 16\n",
            "loss: 0.694106  [   40/ 4263]\n",
            "loss: 0.691904  [ 4040/ 4263]\n",
            "Test Error: \n",
            " Accuracy: 42.5%, Avg loss: 0.693824 \n",
            "\n",
            "Epoch 17\n",
            "loss: 0.693498  [   40/ 4263]\n",
            "loss: 0.693373  [ 4040/ 4263]\n",
            "Test Error: \n",
            " Accuracy: 42.5%, Avg loss: 0.693788 \n",
            "\n",
            "Epoch 18\n",
            "loss: 0.693295  [   40/ 4263]\n",
            "loss: 0.693229  [ 4040/ 4263]\n",
            "Test Error: \n",
            " Accuracy: 42.5%, Avg loss: 0.693753 \n",
            "\n",
            "Epoch 19\n",
            "loss: 0.693256  [   40/ 4263]\n",
            "loss: 0.693686  [ 4040/ 4263]\n",
            "Test Error: \n",
            " Accuracy: 42.5%, Avg loss: 0.693722 \n",
            "\n",
            "Epoch 20\n",
            "loss: 0.693129  [   40/ 4263]\n",
            "loss: 0.693870  [ 4040/ 4263]\n",
            "Test Error: \n",
            " Accuracy: 42.5%, Avg loss: 0.693691 \n",
            "\n",
            "Done!\n"
          ]
        }
      ],
      "source": [
        "# %%\n",
        "import pickle\n",
        "import torch\n",
        "from torch import nn\n",
        "import numpy as np\n",
        "from torch.utils.data import Dataset\n",
        "from torch.utils.data import DataLoader\n",
        "\n",
        "\n",
        "# %%\n",
        "class AGTG_Model(nn.Module):\n",
        "        def __init__(self, nodes_dim, node_features_dim):\n",
        "            super().__init__()\n",
        "            self.E = nodes_dim   #\n",
        "            self.F = node_features_dim\n",
        "            self.P = nn.Parameter(torch.randn(self.E,self.E), requires_grad=True)\n",
        "            self.Q = nn.Parameter(torch.randn(self.F,self.E), requires_grad=True)\n",
        "            self.b = nn.Parameter(torch.randn(self.E,1), requires_grad=True)\n",
        "            self.d = nn.Parameter(torch.randn(1), requires_grad=True)\n",
        "\n",
        "        def D_Matrix(self, A):\n",
        "             d = torch.sum(A, 1)\n",
        "             d_inv_sqrt = d**(-(1/2))\n",
        "             D_inv_sqrt = torch.diag(d_inv_sqrt)\n",
        "             return D_inv_sqrt\n",
        "\n",
        "        def forward(self, X, adjacency_matrix):\n",
        "            I = torch.eye(self.E)\n",
        "            PX = torch.matmul(self.P, X.float())\n",
        "            PXQ = torch.matmul(PX, self.Q)\n",
        "            A_cor = torch.abs(PXQ+self.b)\n",
        "            A = nn.functional.relu(A_cor+adjacency_matrix*self.d)\n",
        "            A_I = A+I\n",
        "            D = self.D_Matrix(A_I)\n",
        "            A_norm = torch.matmul(D, torch.matmul(A_I, D))\n",
        "            return A_norm\n",
        "\n",
        "# %%\n",
        "class GCN_Layer(nn.Module):\n",
        "    def __init__(self, input_dim, output_dim, dropout_prob=0.5):\n",
        "        super().__init__()\n",
        "        self.W = nn.Parameter(torch.FloatTensor(input_dim, output_dim))\n",
        "        nn.init.xavier_uniform_(self.W)\n",
        "        self.dropout_prob = dropout_prob\n",
        "\n",
        "    def forward(self, x, adjacency_matrix):\n",
        "        # Compute the input to the layer: ˆAXW\n",
        "        AXW = torch.matmul(adjacency_matrix.float(), torch.matmul(x.float(), self.W))\n",
        "\n",
        "        # Apply the ReLU activation function to the input of the layer: ReLU(ˆAXW)\n",
        "        hidden_rep = torch.relu(AXW)\n",
        "\n",
        "        # Apply dropout\n",
        "        hidden_rep = nn.functional.dropout(hidden_rep, p=self.dropout_prob, training=self.training)\n",
        "\n",
        "        return hidden_rep\n",
        "\n",
        "# %%\n",
        "class GCN_Model(nn.Module):\n",
        "    def __init__(self, node_features_dim, hidden_dim, num_layers=2, dropout_prob=0.1):\n",
        "        super().__init__()\n",
        "        self.num_layers = num_layers\n",
        "        self.dropout_prob = dropout_prob\n",
        "\n",
        "        self.gcn_layers = nn.ModuleList([self._create_gcn_layer(node_features_dim, hidden_dim) if i == 0\n",
        "                                         else self._create_gcn_layer(hidden_dim, hidden_dim)\n",
        "                                         for i in range(self.num_layers)])\n",
        "\n",
        "    def _create_gcn_layer(self, input_dim, output_dim):\n",
        "        return GCN_Layer(input_dim, output_dim, dropout_prob=self.dropout_prob)\n",
        "\n",
        "    def forward(self, features, adaptive_adjacency_matrix):\n",
        "        x = features\n",
        "        layers = []\n",
        "        for i in range(self.num_layers):\n",
        "            assert self.num_layers==2\n",
        "            x = self.gcn_layers[i](x, adaptive_adjacency_matrix)\n",
        "            layers.append(x)\n",
        "            y = torch.concat(layers, dim=1)\n",
        "        return y\n",
        "\n",
        "# %%\n",
        "class GRU_Cell(nn.Module):\n",
        "    def __init__(self, nodes_dim):\n",
        "        E = nodes_dim\n",
        "        super().__init__()\n",
        "\n",
        "        self.Wr_x = nn.Parameter(torch.randn(E,E), requires_grad=True)\n",
        "        self.Wr_h = nn.Parameter(torch.randn(E,E), requires_grad=True)\n",
        "        self.br   = nn.Parameter(torch.randn(E,1), requires_grad=True)\n",
        "\n",
        "        self.Wu_x = nn.Parameter(torch.randn(E,E), requires_grad=True)\n",
        "        self.Wu_h = nn.Parameter(torch.randn(E,E), requires_grad=True)\n",
        "        self.bu   = nn.Parameter(torch.randn(E,1), requires_grad=True)\n",
        "\n",
        "        self.Wc_x = nn.Parameter(torch.randn(E,E), requires_grad=True)\n",
        "        self.Wc_h = nn.Parameter(torch.randn(E,E), requires_grad=True)\n",
        "        self.bc   = nn.Parameter(torch.randn(E,1), requires_grad=True)\n",
        "\n",
        "    def forward(self, features_t_0, hidden_state_t_1):\n",
        "        GCN_x_t_0, h_t_1 = features_t_0, hidden_state_t_1\n",
        "        r_t_0 = nn.functional.sigmoid(torch.matmul(self.Wr_x, GCN_x_t_0)+torch.matmul(self.Wr_h, h_t_1)+self.br)\n",
        "        u_t_0 = nn.functional.sigmoid(torch.matmul(self.Wu_x, GCN_x_t_0)+torch.matmul(self.Wu_h, h_t_1)+self.bu)\n",
        "        c_t_0 = nn.functional.tanh(torch.matmul(self.Wc_x, GCN_x_t_0)+torch.matmul(self.Wc_h, torch.mul(r_t_0, h_t_1))+self.bc)\n",
        "        h_t_0 = torch.mul(u_t_0, h_t_1)+torch.mul(1-u_t_0, c_t_0)\n",
        "        return h_t_0\n",
        "\n",
        "# %%\n",
        "class GRU_Model(nn.Module):\n",
        "    def __init__(self, nodes_Dim, node_Features_Dim, hidden_dim, num_layers, dropout_prob, Seq_len):\n",
        "        super().__init__()\n",
        "        self.Seq_len = Seq_len\n",
        "        self.agtg_Adj_Matrix_layer = self._create_AGTG_Adj_Matrix(nodes_Dim, node_Features_Dim)\n",
        "        self.gcn_model_layer = self._create_GCN_Model(node_Features_Dim, hidden_dim, num_layers, dropout_prob)\n",
        "        self.gru_cell_layer = self._create_GRU_Cell(nodes_Dim)\n",
        "        self.H_0 = torch.zeros(nodes_Dim, 2*hidden_dim)\n",
        "\n",
        "    def _create_AGTG_Adj_Matrix(self, nodes_dim, node_features_dim):\n",
        "        return AGTG_Model(nodes_dim, node_features_dim)\n",
        "\n",
        "    def _create_GCN_Model(self, node_features_dim, hidden_dim, num_layers, dropout_prob):\n",
        "        return GCN_Model(node_features_dim, hidden_dim, num_layers, dropout_prob)\n",
        "\n",
        "    def _create_GRU_Cell(self, nodes_dim):\n",
        "        return GRU_Cell(nodes_dim)\n",
        "\n",
        "    def forward(self, input_seq, adjacency_matrix):\n",
        "        x, adj = input_seq, adjacency_matrix\n",
        "        steps, _, _ = x.shape\n",
        "        assert self.Seq_len == steps\n",
        "\n",
        "        H = self.H_0\n",
        "        for i in range(self.Seq_len):\n",
        "            adaptive_adj_i = self.agtg_Adj_Matrix_layer(x[i], adj)\n",
        "            gcn_Gi = self.gcn_model_layer(x[i], adaptive_adj_i)\n",
        "            gru_Hi = self.gru_cell_layer(gcn_Gi, H)\n",
        "            H = gru_Hi\n",
        "        return H, adaptive_adj_i\n",
        "\n",
        "# %%\n",
        "# class GraphTopologyMaxPooling_Model(nn.Module):\n",
        "#     def __init__(self, nodes_Dim, node_Features_Dim, hidden_dim, num_layers, dropout_prob, Seq_len):\n",
        "#         super().__init__()\n",
        "#         self.E = nodes_Dim\n",
        "#         self.W = nn.Parameter(torch.randn(2*hidden_dim,1), requires_grad=True)\n",
        "#         self.b = nn.Parameter(torch.randn(nodes_Dim, 1), requires_grad=True)\n",
        "#         self.W_logit = nn.Parameter(torch.randn(2*hidden_dim), requires_grad=True)\n",
        "#         self.gru_Model = self._create_GRU_Model(nodes_Dim, node_Features_Dim, hidden_dim, num_layers, dropout_prob, Seq_len)\n",
        "\n",
        "#     def _create_GRU_Model(self, nodes_Dim, node_Features_Dim, hidden_dim, num_layers, dropout_prob, Seq_len):\n",
        "#         return GRU_Model(nodes_Dim, node_Features_Dim, hidden_dim, num_layers, dropout_prob, Seq_len)\n",
        "\n",
        "#     def forward(self, input_seq, adjacency_matrix):\n",
        "#         H, A = self.gru_Model(input_seq, adjacency_matrix)\n",
        "#         AHW_b = torch.matmul(torch.matmul(A.float(), H.float()), self.W)+self.b\n",
        "#         S_node = torch.relu(AHW_b)\n",
        "#         N_idx = torch.argmax(S_node, dim=0)\n",
        "#         mask__n_idx = torch.zeros(self.E, N_idx.shape[0]).scatter_(0, N_idx.unsqueeze(0), 1.)\n",
        "#         V_graph = torch.mul(mask__n_idx, H)\n",
        "#         logit = torch.matmul(torch.sum(V_graph, 0), self.W_logit)\n",
        "#         return logit\n",
        "class GraphTopologyMaxPooling_Model(nn.Module):\n",
        "    def __init__(self, nodes_Dim, node_Features_Dim, hidden_dim, num_layers, dropout_prob, Seq_len):\n",
        "        super().__init__()\n",
        "        self.E = nodes_Dim\n",
        "        self.W = nn.Parameter(torch.randn(2*hidden_dim,1), requires_grad=True)\n",
        "        self.b = nn.Parameter(torch.randn(nodes_Dim, 1), requires_grad=True)\n",
        "        self.W_logit = nn.Parameter(torch.randn(2*hidden_dim,hidden_dim), requires_grad=True)\n",
        "        self.gru_Model = self._create_GRU_Model(nodes_Dim, node_Features_Dim, hidden_dim, num_layers, dropout_prob, Seq_len)\n",
        "        # Adding dense layers\n",
        "        self.fc1 = nn.Linear(hidden_dim, 32)\n",
        "        self.fc2 = nn.Linear(32, 16)\n",
        "        self.fc3 = nn.Linear(16, 8)\n",
        "        self.fc4 = nn.Linear(8, 1)\n",
        "\n",
        "    def _create_GRU_Model(self, nodes_Dim, node_Features_Dim, hidden_dim, num_layers, dropout_prob, Seq_len):\n",
        "        return GRU_Model(nodes_Dim, node_Features_Dim, hidden_dim, num_layers, dropout_prob, Seq_len)\n",
        "\n",
        "    def forward(self, input_seq, adjacency_matrix):\n",
        "        H, A = self.gru_Model(input_seq, adjacency_matrix)\n",
        "        AHW_b = torch.matmul(torch.matmul(A.float(), H.float()), self.W)+self.b\n",
        "        S_node = torch.relu(AHW_b)\n",
        "        N_idx = torch.argmax(S_node, dim=0)\n",
        "        mask__n_idx = torch.zeros(self.E, N_idx.shape[0]).scatter_(0, N_idx.unsqueeze(0), 1.)\n",
        "        V_graph = torch.mul(mask__n_idx, H)\n",
        "        a = V_graph\n",
        "        logit = torch.matmul(a, self.W_logit)\n",
        "        # Passing through dense layers\n",
        "        #x = torch.sum(V_graph, 0)\n",
        "        x = (self.fc1(logit))\n",
        "        x = (self.fc2(x))\n",
        "        x = (self.fc3(x))\n",
        "        x = (self.fc4(x))\n",
        "        x = torch.sum(x, 0)\n",
        "        x = torch.sigmoid(x)\n",
        "        return x.squeeze()\n",
        "\n",
        "\n",
        "# %%\n",
        "class Main_Model(nn.Module):\n",
        "\n",
        "    def __init__(self, nodes_Dim, node_Features_Dim, hidden_dim, num_layers, dropout_prob, Seq_len, batch_size):\n",
        "        super().__init__()\n",
        "        self.batch_size = batch_size\n",
        "        self.maxPooling_Model = self._create_MaxPooling_Model(nodes_Dim, node_Features_Dim, hidden_dim, num_layers, dropout_prob, Seq_len)\n",
        "\n",
        "    def _create_MaxPooling_Model(self, nodes_Dim, node_Features_Dim, hidden_dim, num_layers, dropout_prob, Seq_len):\n",
        "        return GraphTopologyMaxPooling_Model(nodes_Dim, node_Features_Dim, hidden_dim, num_layers, dropout_prob, Seq_len)\n",
        "\n",
        "    def forward(self, input_seq_batch, adjacency_matrix_batch):\n",
        "        logits = []\n",
        "        if input_seq_batch.shape[0] == self.batch_size:\n",
        "                assert input_seq_batch.shape[0] == self.batch_size\n",
        "                assert adjacency_matrix_batch.shape[0] == self.batch_size\n",
        "        else:\n",
        "            self.batch_size = input_seq_batch.shape[0]\n",
        "\n",
        "        for i in range(self.batch_size):\n",
        "            logit = self.maxPooling_Model(input_seq_batch[i], adjacency_matrix_batch[i])\n",
        "            logits.append(logit)\n",
        "        logit_vector = torch.stack(logits, dim=0)\n",
        "        sigmoid_x = torch.sigmoid(logit_vector)\n",
        "\n",
        "        return logit_vector\n",
        "\n",
        "import pickle\n",
        "import torch\n",
        "from torch import nn\n",
        "import numpy as np\n",
        "from torch.utils.data import Dataset, DataLoader\n",
        "from sklearn.metrics import confusion_matrix\n",
        "import matplotlib.pyplot as plt\n",
        "import seaborn as sns\n",
        "\n",
        "# X = TrainingData.trainingData_iterator(training_data)\n",
        "\n",
        "# dataSet = X\n",
        "# batch_size = 40\n",
        "# train_test_split = 0.8\n",
        "\n",
        "\n",
        "# train_dataloader, test_dataloader = train_test_datasets(dataSet, batch_size, train_test_split)\n",
        "\n",
        "learning_rate = 2e-3\n",
        "timeSteps, nodesDim, nodeFeaturesDim = dataSet[0][0].shape\n",
        "node_features_dim = 50\n",
        "hidden_dim = 64\n",
        "hidden_dim = 64\n",
        "dropout_prob = 0.3\n",
        "num_layers = 2\n",
        "\n",
        "model = Main_Model(nodesDim, nodeFeaturesDim, hidden_dim, num_layers, dropout_prob,timeSteps, batch_size)\n",
        "loss_fn = nn.BCEWithLogitsLoss(reduction='mean')\n",
        "optimizer = torch.optim.SGD(model.parameters(), lr=learning_rate)\n",
        "\n",
        "epochs = 20\n",
        "weights = []\n",
        "for t in range(epochs):\n",
        "    print(f\"Epoch {t+1}\")\n",
        "    train_loop(train_dataloader, model, loss_fn, optimizer, batch_size)\n",
        "    test_loop(test_dataloader, model, loss_fn)\n",
        "   # print(model.maxPooling_Model.gru_Model.gru_cell_layer.Wr_x)\n",
        "    weights.append(model.maxPooling_Model.gru_Model.gru_cell_layer.Wr_x.detach().numpy())\n",
        "print(\"Done!\")\n"
      ]
    },
    {
      "cell_type": "code",
      "execution_count": 48,
      "metadata": {
        "id": "o-3iH8bPPeGv"
      },
      "outputs": [],
      "source": [
        "full_sub_id = []\n",
        "full_signals = []\n",
        "full_Adj_dist_matrices = []\n",
        "full_bdi_scores = []\n",
        "full_labels = []\n",
        "for i in range(20):\n",
        "  sub_id = training_data[i][0]\n",
        "  sub_id_list = my_list = [sub_id] * len(training_data[i][1])\n",
        "\n",
        "  signal_list = []\n",
        "  signals = training_data[i][1]\n",
        "  for j in range(len(signals)):\n",
        "    signal_list.append(signals[j])\n",
        "  signals = signal_list\n",
        "\n",
        "  adj = training_data[i][2]\n",
        "  A_list = [adj] * len(signals)\n",
        "\n",
        "  bdi_score = training_data[i][3]\n",
        "  bdi_score_list = [bdi_score] * len(signals)\n",
        "\n",
        "  label = training_data[i][4]\n",
        "  label_list = [label] * len(signals)\n",
        "\n",
        "  full_sub_id += sub_id_list\n",
        "  full_signals += signals\n",
        "  full_Adj_dist_matrices += A_list\n",
        "  full_bdi_scores += bdi_score_list\n",
        "  full_labels += label_list\n",
        "\n",
        "sub_id_train = full_sub_id[:round(0.8*len(full_sub_id))]\n",
        "sub_id_test = full_sub_id[round(0.8*len(full_sub_id)):]\n",
        "\n",
        "signals_train = full_signals[:round(0.8*len(full_signals))]\n",
        "signals_test = full_signals[round(0.8*len(full_signals)):]\n",
        "\n",
        "adj_train = full_Adj_dist_matrices[:round(0.8*len(full_Adj_dist_matrices))]\n",
        "adj_test = full_Adj_dist_matrices[round(0.8*len(full_Adj_dist_matrices)):]\n",
        "\n",
        "bdi_score_train = full_bdi_scores[:round(0.8*len(full_bdi_scores))]\n",
        "bdi_score_test = full_bdi_scores[round(0.8*len(full_bdi_scores)):]\n",
        "\n",
        "label_train = full_labels[:round(0.8*len(full_labels))]\n",
        "label_test = full_labels[round(0.8*len(full_labels)):]\n",
        "\n",
        "train_dataloader_processed_sub = DataLoader(list(zip(sub_id_train, signals_train,adj_train,bdi_score_train,label_train)), batch_size=32, shuffle=True)\n",
        "test_dataloader_processed_sub = DataLoader(list(zip(sub_id_test, signals_test,adj_test,bdi_score_test,label_test)), batch_size=32, shuffle=True)"
      ]
    },
    {
      "cell_type": "code",
      "execution_count": 49,
      "metadata": {
        "id": "VamtCPuVQMR3"
      },
      "outputs": [],
      "source": [
        "H_list_train = []\n",
        "A_list_train = []\n",
        "sub_id_list_train = []\n",
        "label_list_train = []\n",
        "for i,j,k,l,m in train_dataloader_processed_sub:\n",
        "  for n in range(len(i)):\n",
        "    H, A = model.maxPooling_Model.gru_Model.forward(j[n], k[n])\n",
        "    H_list_train.append(H)\n",
        "    A_list_train.append(A)\n",
        "    label_list_train.append(m[n])\n",
        "    sub_id_list_train.append(i[n])\n",
        "\n",
        "H_list_test = []\n",
        "A_list_test = []\n",
        "sub_id_list_test = []\n",
        "label_list_test = []\n",
        "for i,j,k,l,m in test_dataloader_processed_sub:\n",
        "  for n in range(len(i)):\n",
        "    H, A = model.maxPooling_Model.gru_Model.forward(j[n], k[n])\n",
        "    H_list_test.append(H)\n",
        "    A_list_test.append(A)\n",
        "    label_list_test.append(m[n])\n",
        "    sub_id_list_test.append(i[n])\n",
        "\n",
        "for i in range(len(H_list_train)):\n",
        "  sum = torch.zeros(128)\n",
        "  for j in range(16):\n",
        "    sum = sum + H_list_train[i][j]\n",
        "  H_list_train[i] = sum/16\n",
        "\n",
        "for i in range(len(H_list_test)):\n",
        "  sum = torch.zeros(128)\n",
        "  for j in range(16):\n",
        "    sum = sum + H_list_test[i][j]\n",
        "  H_list_test[i] = sum/16\n",
        "\n",
        "train_dataloader_processed = DataLoader(list(zip(H_list_train,A_list_train, label_list_train)), batch_size=1, shuffle=True)\n",
        "test_dataloader_processed = DataLoader(list(zip(H_list_test,A_list_test, label_list_test)), batch_size=1, shuffle=True)"
      ]
    },
    {
      "cell_type": "code",
      "execution_count": 50,
      "metadata": {
        "id": "boB3bnFFzrss"
      },
      "outputs": [],
      "source": [
        "class GraphTopologyMaxPooling_Model(nn.Module):\n",
        "    def __init__(self, nodes_Dim, node_Features_Dim, hidden_dim, num_layers, dropout_prob, Seq_len):\n",
        "        super().__init__()\n",
        "        self.E = nodes_Dim\n",
        "        self.W = nn.Parameter(torch.randn(2*hidden_dim,1), requires_grad=True)\n",
        "        self.b = nn.Parameter(torch.randn(nodes_Dim, 1), requires_grad=True)\n",
        "        self.W_logit = nn.Parameter(torch.randn(2*hidden_dim,hidden_dim), requires_grad=True)\n",
        "        self.gru_Model = self._create_GRU_Model(nodes_Dim, node_Features_Dim, hidden_dim, num_layers, dropout_prob, Seq_len)\n",
        "        # Adding dense layers\n",
        "        self.fc1 = nn.Linear(hidden_dim, 32)\n",
        "        self.fc2 = nn.Linear(32, 16)\n",
        "        self.fc3 = nn.Linear(16, 8)\n",
        "        self.fc4 = nn.Linear(8, 1)\n",
        "\n",
        "    def _create_GRU_Model(self, nodes_Dim, node_Features_Dim, hidden_dim, num_layers, dropout_prob, Seq_len):\n",
        "        return GRU_Model(nodes_Dim, node_Features_Dim, hidden_dim, num_layers, dropout_prob, Seq_len)\n",
        "\n",
        "    def forward(self, input_seq, adjacency_matrix):\n",
        "        H, A = self.gru_Model(input_seq, adjacency_matrix)\n",
        "        AHW_b = torch.matmul(torch.matmul(A.float(), H.float()), self.W)+self.b\n",
        "        S_node = torch.relu(AHW_b)\n",
        "        N_idx = torch.argmax(S_node, dim=0)\n",
        "        mask__n_idx = torch.zeros(self.E, N_idx.shape[0]).scatter_(0, N_idx.unsqueeze(0), 1.)\n",
        "        V_graph = torch.mul(mask__n_idx, H)\n",
        "        a = V_graph\n",
        "        logit = torch.matmul(a, self.W_logit)\n",
        "        # Passing through dense layers\n",
        "        #x = torch.sum(V_graph, 0)\n",
        "        x1 = (self.fc1(logit))\n",
        "        x2 = (self.fc2(x1))\n",
        "        x3 = (self.fc3(x2))\n",
        "        x4 = (self.fc4(x3))\n",
        "        x5 = torch.sum(x4, 0)\n",
        "        x6 = torch.sigmoid(x5)\n",
        "        return  x1,x2,x3,x4,x5,x6"
      ]
    },
    {
      "cell_type": "code",
      "execution_count": 52,
      "metadata": {
        "colab": {
          "base_uri": "https://localhost:8080/"
        },
        "id": "7vl03abZkiaA",
        "outputId": "a8d14bc7-d7f5-4fa5-c82a-f5a2caf4205c"
      },
      "outputs": [
        {
          "name": "stdout",
          "output_type": "stream",
          "text": [
            "logit in dense 1 tensor([[-7.5267e-02,  8.3939e-02, -4.4970e-04, -1.0326e-01,  3.6755e-02,\n",
            "          5.7748e-03,  1.0940e-02,  3.5182e-02,  1.1214e-01,  1.2485e-01,\n",
            "          4.4389e-02,  3.3998e-02,  1.2252e-01, -4.0013e-02,  4.1975e-02,\n",
            "          1.1815e-01, -1.1925e-01,  2.5253e-02, -4.8848e-02, -7.9324e-02,\n",
            "         -9.5564e-02, -6.5531e-02, -7.3530e-02,  1.0404e-02, -7.3565e-02,\n",
            "          6.7394e-02, -2.9482e-02, -7.0542e-03,  5.9177e-03,  6.1485e-02,\n",
            "         -5.8108e-03, -2.9108e-02],\n",
            "        [-7.5267e-02,  8.3939e-02, -4.4970e-04, -1.0326e-01,  3.6755e-02,\n",
            "          5.7748e-03,  1.0940e-02,  3.5182e-02,  1.1214e-01,  1.2485e-01,\n",
            "          4.4389e-02,  3.3998e-02,  1.2252e-01, -4.0013e-02,  4.1975e-02,\n",
            "          1.1815e-01, -1.1925e-01,  2.5253e-02, -4.8848e-02, -7.9324e-02,\n",
            "         -9.5564e-02, -6.5531e-02, -7.3530e-02,  1.0404e-02, -7.3565e-02,\n",
            "          6.7394e-02, -2.9482e-02, -7.0542e-03,  5.9177e-03,  6.1485e-02,\n",
            "         -5.8108e-03, -2.9108e-02],\n",
            "        [-7.5267e-02,  8.3939e-02, -4.4970e-04, -1.0326e-01,  3.6755e-02,\n",
            "          5.7748e-03,  1.0940e-02,  3.5182e-02,  1.1214e-01,  1.2485e-01,\n",
            "          4.4389e-02,  3.3998e-02,  1.2252e-01, -4.0013e-02,  4.1975e-02,\n",
            "          1.1815e-01, -1.1925e-01,  2.5253e-02, -4.8848e-02, -7.9324e-02,\n",
            "         -9.5564e-02, -6.5531e-02, -7.3530e-02,  1.0404e-02, -7.3565e-02,\n",
            "          6.7394e-02, -2.9482e-02, -7.0542e-03,  5.9177e-03,  6.1485e-02,\n",
            "         -5.8108e-03, -2.9108e-02],\n",
            "        [-7.5267e-02,  8.3939e-02, -4.4970e-04, -1.0326e-01,  3.6755e-02,\n",
            "          5.7748e-03,  1.0940e-02,  3.5182e-02,  1.1214e-01,  1.2485e-01,\n",
            "          4.4389e-02,  3.3998e-02,  1.2252e-01, -4.0013e-02,  4.1975e-02,\n",
            "          1.1815e-01, -1.1925e-01,  2.5253e-02, -4.8848e-02, -7.9324e-02,\n",
            "         -9.5564e-02, -6.5531e-02, -7.3530e-02,  1.0404e-02, -7.3565e-02,\n",
            "          6.7394e-02, -2.9482e-02, -7.0542e-03,  5.9177e-03,  6.1485e-02,\n",
            "         -5.8108e-03, -2.9108e-02],\n",
            "        [-7.5267e-02,  8.3939e-02, -4.4970e-04, -1.0326e-01,  3.6755e-02,\n",
            "          5.7748e-03,  1.0940e-02,  3.5182e-02,  1.1214e-01,  1.2485e-01,\n",
            "          4.4389e-02,  3.3998e-02,  1.2252e-01, -4.0013e-02,  4.1975e-02,\n",
            "          1.1815e-01, -1.1925e-01,  2.5253e-02, -4.8848e-02, -7.9324e-02,\n",
            "         -9.5564e-02, -6.5531e-02, -7.3530e-02,  1.0404e-02, -7.3565e-02,\n",
            "          6.7394e-02, -2.9482e-02, -7.0542e-03,  5.9177e-03,  6.1485e-02,\n",
            "         -5.8108e-03, -2.9108e-02],\n",
            "        [-7.5267e-02,  8.3939e-02, -4.4970e-04, -1.0326e-01,  3.6755e-02,\n",
            "          5.7748e-03,  1.0940e-02,  3.5182e-02,  1.1214e-01,  1.2485e-01,\n",
            "          4.4389e-02,  3.3998e-02,  1.2252e-01, -4.0013e-02,  4.1975e-02,\n",
            "          1.1815e-01, -1.1925e-01,  2.5253e-02, -4.8848e-02, -7.9324e-02,\n",
            "         -9.5564e-02, -6.5531e-02, -7.3530e-02,  1.0404e-02, -7.3565e-02,\n",
            "          6.7394e-02, -2.9482e-02, -7.0542e-03,  5.9177e-03,  6.1485e-02,\n",
            "         -5.8108e-03, -2.9108e-02],\n",
            "        [-7.5267e-02,  8.3939e-02, -4.4970e-04, -1.0326e-01,  3.6755e-02,\n",
            "          5.7748e-03,  1.0940e-02,  3.5182e-02,  1.1214e-01,  1.2485e-01,\n",
            "          4.4389e-02,  3.3998e-02,  1.2252e-01, -4.0013e-02,  4.1975e-02,\n",
            "          1.1815e-01, -1.1925e-01,  2.5253e-02, -4.8848e-02, -7.9324e-02,\n",
            "         -9.5564e-02, -6.5531e-02, -7.3530e-02,  1.0404e-02, -7.3565e-02,\n",
            "          6.7394e-02, -2.9482e-02, -7.0542e-03,  5.9177e-03,  6.1485e-02,\n",
            "         -5.8108e-03, -2.9108e-02],\n",
            "        [-7.5267e-02,  8.3939e-02, -4.4970e-04, -1.0326e-01,  3.6755e-02,\n",
            "          5.7748e-03,  1.0940e-02,  3.5182e-02,  1.1214e-01,  1.2485e-01,\n",
            "          4.4389e-02,  3.3998e-02,  1.2252e-01, -4.0013e-02,  4.1975e-02,\n",
            "          1.1815e-01, -1.1925e-01,  2.5253e-02, -4.8848e-02, -7.9324e-02,\n",
            "         -9.5564e-02, -6.5531e-02, -7.3530e-02,  1.0404e-02, -7.3565e-02,\n",
            "          6.7394e-02, -2.9482e-02, -7.0542e-03,  5.9177e-03,  6.1485e-02,\n",
            "         -5.8108e-03, -2.9108e-02],\n",
            "        [-7.5267e-02,  8.3939e-02, -4.4970e-04, -1.0326e-01,  3.6755e-02,\n",
            "          5.7748e-03,  1.0940e-02,  3.5182e-02,  1.1214e-01,  1.2485e-01,\n",
            "          4.4389e-02,  3.3998e-02,  1.2252e-01, -4.0013e-02,  4.1975e-02,\n",
            "          1.1815e-01, -1.1925e-01,  2.5253e-02, -4.8848e-02, -7.9324e-02,\n",
            "         -9.5564e-02, -6.5531e-02, -7.3530e-02,  1.0404e-02, -7.3565e-02,\n",
            "          6.7394e-02, -2.9482e-02, -7.0542e-03,  5.9177e-03,  6.1485e-02,\n",
            "         -5.8108e-03, -2.9108e-02],\n",
            "        [-7.5267e-02,  8.3939e-02, -4.4970e-04, -1.0326e-01,  3.6755e-02,\n",
            "          5.7748e-03,  1.0940e-02,  3.5182e-02,  1.1214e-01,  1.2485e-01,\n",
            "          4.4389e-02,  3.3998e-02,  1.2252e-01, -4.0013e-02,  4.1975e-02,\n",
            "          1.1815e-01, -1.1925e-01,  2.5253e-02, -4.8848e-02, -7.9324e-02,\n",
            "         -9.5564e-02, -6.5531e-02, -7.3530e-02,  1.0404e-02, -7.3565e-02,\n",
            "          6.7394e-02, -2.9482e-02, -7.0542e-03,  5.9177e-03,  6.1485e-02,\n",
            "         -5.8108e-03, -2.9108e-02],\n",
            "        [-7.5267e-02,  8.3939e-02, -4.4970e-04, -1.0326e-01,  3.6755e-02,\n",
            "          5.7748e-03,  1.0940e-02,  3.5182e-02,  1.1214e-01,  1.2485e-01,\n",
            "          4.4389e-02,  3.3998e-02,  1.2252e-01, -4.0013e-02,  4.1975e-02,\n",
            "          1.1815e-01, -1.1925e-01,  2.5253e-02, -4.8848e-02, -7.9324e-02,\n",
            "         -9.5564e-02, -6.5531e-02, -7.3530e-02,  1.0404e-02, -7.3565e-02,\n",
            "          6.7394e-02, -2.9482e-02, -7.0542e-03,  5.9177e-03,  6.1485e-02,\n",
            "         -5.8108e-03, -2.9108e-02],\n",
            "        [-7.5267e-02,  8.3939e-02, -4.4970e-04, -1.0326e-01,  3.6755e-02,\n",
            "          5.7748e-03,  1.0940e-02,  3.5182e-02,  1.1214e-01,  1.2485e-01,\n",
            "          4.4389e-02,  3.3998e-02,  1.2252e-01, -4.0013e-02,  4.1975e-02,\n",
            "          1.1815e-01, -1.1925e-01,  2.5253e-02, -4.8848e-02, -7.9324e-02,\n",
            "         -9.5564e-02, -6.5531e-02, -7.3530e-02,  1.0404e-02, -7.3565e-02,\n",
            "          6.7394e-02, -2.9482e-02, -7.0542e-03,  5.9177e-03,  6.1485e-02,\n",
            "         -5.8108e-03, -2.9108e-02],\n",
            "        [-7.5267e-02,  8.3939e-02, -4.4970e-04, -1.0326e-01,  3.6755e-02,\n",
            "          5.7748e-03,  1.0940e-02,  3.5182e-02,  1.1214e-01,  1.2485e-01,\n",
            "          4.4389e-02,  3.3998e-02,  1.2252e-01, -4.0013e-02,  4.1975e-02,\n",
            "          1.1815e-01, -1.1925e-01,  2.5253e-02, -4.8848e-02, -7.9324e-02,\n",
            "         -9.5564e-02, -6.5531e-02, -7.3530e-02,  1.0404e-02, -7.3565e-02,\n",
            "          6.7394e-02, -2.9482e-02, -7.0542e-03,  5.9177e-03,  6.1485e-02,\n",
            "         -5.8108e-03, -2.9108e-02],\n",
            "        [-7.5267e-02,  8.3939e-02, -4.4970e-04, -1.0326e-01,  3.6755e-02,\n",
            "          5.7748e-03,  1.0940e-02,  3.5182e-02,  1.1214e-01,  1.2485e-01,\n",
            "          4.4389e-02,  3.3998e-02,  1.2252e-01, -4.0013e-02,  4.1975e-02,\n",
            "          1.1815e-01, -1.1925e-01,  2.5253e-02, -4.8848e-02, -7.9324e-02,\n",
            "         -9.5564e-02, -6.5531e-02, -7.3530e-02,  1.0404e-02, -7.3565e-02,\n",
            "          6.7394e-02, -2.9482e-02, -7.0542e-03,  5.9177e-03,  6.1485e-02,\n",
            "         -5.8108e-03, -2.9108e-02],\n",
            "        [ 1.6407e+00,  1.2664e+00, -5.4339e+00, -5.6156e-01, -8.0266e+00,\n",
            "          5.9643e+00, -2.6927e+00,  8.8136e-01,  1.1975e+00, -8.2757e+00,\n",
            "         -3.3180e+00,  8.0955e-01, -4.7486e+00,  5.4552e+00, -7.3497e-01,\n",
            "         -3.6506e+00, -4.8724e+00, -2.1236e+00,  8.5106e+00, -2.1043e+00,\n",
            "         -5.2980e+00, -1.2340e+00, -2.5935e+00,  2.4029e+00, -7.7415e+00,\n",
            "          1.1136e+01,  8.1243e+00, -2.0972e+00, -3.1856e+00, -3.1296e+00,\n",
            "          1.0868e+00, -3.0048e+00],\n",
            "        [-7.5267e-02,  8.3939e-02, -4.4970e-04, -1.0326e-01,  3.6755e-02,\n",
            "          5.7748e-03,  1.0940e-02,  3.5182e-02,  1.1214e-01,  1.2485e-01,\n",
            "          4.4389e-02,  3.3998e-02,  1.2252e-01, -4.0013e-02,  4.1975e-02,\n",
            "          1.1815e-01, -1.1925e-01,  2.5253e-02, -4.8848e-02, -7.9324e-02,\n",
            "         -9.5564e-02, -6.5531e-02, -7.3530e-02,  1.0404e-02, -7.3565e-02,\n",
            "          6.7394e-02, -2.9482e-02, -7.0542e-03,  5.9177e-03,  6.1485e-02,\n",
            "         -5.8108e-03, -2.9108e-02]], grad_fn=<AddmmBackward0>)\n",
            "Dense2 tensor([[ 1.3092e-01, -1.2929e-02,  1.8924e-01, -4.6680e-02, -5.6954e-02,\n",
            "         -1.7649e-01,  7.9058e-02, -1.7296e-02, -1.0972e-02,  1.6799e-01,\n",
            "          2.3181e-02,  4.4979e-02,  8.7417e-02,  1.6051e-03,  1.2862e-01,\n",
            "          2.1755e-01],\n",
            "        [ 1.3092e-01, -1.2929e-02,  1.8924e-01, -4.6680e-02, -5.6954e-02,\n",
            "         -1.7649e-01,  7.9058e-02, -1.7296e-02, -1.0972e-02,  1.6799e-01,\n",
            "          2.3181e-02,  4.4979e-02,  8.7417e-02,  1.6051e-03,  1.2862e-01,\n",
            "          2.1755e-01],\n",
            "        [ 1.3092e-01, -1.2929e-02,  1.8924e-01, -4.6680e-02, -5.6954e-02,\n",
            "         -1.7649e-01,  7.9058e-02, -1.7296e-02, -1.0972e-02,  1.6799e-01,\n",
            "          2.3181e-02,  4.4979e-02,  8.7417e-02,  1.6051e-03,  1.2862e-01,\n",
            "          2.1755e-01],\n",
            "        [ 1.3092e-01, -1.2929e-02,  1.8924e-01, -4.6680e-02, -5.6954e-02,\n",
            "         -1.7649e-01,  7.9058e-02, -1.7296e-02, -1.0972e-02,  1.6799e-01,\n",
            "          2.3181e-02,  4.4979e-02,  8.7417e-02,  1.6051e-03,  1.2862e-01,\n",
            "          2.1755e-01],\n",
            "        [ 1.3092e-01, -1.2929e-02,  1.8924e-01, -4.6680e-02, -5.6954e-02,\n",
            "         -1.7649e-01,  7.9058e-02, -1.7296e-02, -1.0972e-02,  1.6799e-01,\n",
            "          2.3181e-02,  4.4979e-02,  8.7417e-02,  1.6051e-03,  1.2862e-01,\n",
            "          2.1755e-01],\n",
            "        [ 1.3092e-01, -1.2929e-02,  1.8924e-01, -4.6680e-02, -5.6954e-02,\n",
            "         -1.7649e-01,  7.9058e-02, -1.7296e-02, -1.0972e-02,  1.6799e-01,\n",
            "          2.3181e-02,  4.4979e-02,  8.7417e-02,  1.6051e-03,  1.2862e-01,\n",
            "          2.1755e-01],\n",
            "        [ 1.3092e-01, -1.2929e-02,  1.8924e-01, -4.6680e-02, -5.6954e-02,\n",
            "         -1.7649e-01,  7.9058e-02, -1.7296e-02, -1.0972e-02,  1.6799e-01,\n",
            "          2.3181e-02,  4.4979e-02,  8.7417e-02,  1.6051e-03,  1.2862e-01,\n",
            "          2.1755e-01],\n",
            "        [ 1.3092e-01, -1.2929e-02,  1.8924e-01, -4.6680e-02, -5.6954e-02,\n",
            "         -1.7649e-01,  7.9058e-02, -1.7296e-02, -1.0972e-02,  1.6799e-01,\n",
            "          2.3181e-02,  4.4979e-02,  8.7417e-02,  1.6051e-03,  1.2862e-01,\n",
            "          2.1755e-01],\n",
            "        [ 1.3092e-01, -1.2929e-02,  1.8924e-01, -4.6680e-02, -5.6954e-02,\n",
            "         -1.7649e-01,  7.9058e-02, -1.7296e-02, -1.0972e-02,  1.6799e-01,\n",
            "          2.3181e-02,  4.4979e-02,  8.7417e-02,  1.6051e-03,  1.2862e-01,\n",
            "          2.1755e-01],\n",
            "        [ 1.3092e-01, -1.2929e-02,  1.8924e-01, -4.6680e-02, -5.6954e-02,\n",
            "         -1.7649e-01,  7.9058e-02, -1.7296e-02, -1.0972e-02,  1.6799e-01,\n",
            "          2.3181e-02,  4.4979e-02,  8.7417e-02,  1.6051e-03,  1.2862e-01,\n",
            "          2.1755e-01],\n",
            "        [ 1.3092e-01, -1.2929e-02,  1.8924e-01, -4.6680e-02, -5.6954e-02,\n",
            "         -1.7649e-01,  7.9058e-02, -1.7296e-02, -1.0972e-02,  1.6799e-01,\n",
            "          2.3181e-02,  4.4979e-02,  8.7417e-02,  1.6051e-03,  1.2862e-01,\n",
            "          2.1755e-01],\n",
            "        [ 1.3092e-01, -1.2929e-02,  1.8924e-01, -4.6680e-02, -5.6954e-02,\n",
            "         -1.7649e-01,  7.9058e-02, -1.7296e-02, -1.0972e-02,  1.6799e-01,\n",
            "          2.3181e-02,  4.4979e-02,  8.7417e-02,  1.6051e-03,  1.2862e-01,\n",
            "          2.1755e-01],\n",
            "        [ 1.3092e-01, -1.2929e-02,  1.8924e-01, -4.6680e-02, -5.6954e-02,\n",
            "         -1.7649e-01,  7.9058e-02, -1.7296e-02, -1.0972e-02,  1.6799e-01,\n",
            "          2.3181e-02,  4.4979e-02,  8.7417e-02,  1.6051e-03,  1.2862e-01,\n",
            "          2.1755e-01],\n",
            "        [ 1.3092e-01, -1.2929e-02,  1.8924e-01, -4.6680e-02, -5.6954e-02,\n",
            "         -1.7649e-01,  7.9058e-02, -1.7296e-02, -1.0972e-02,  1.6799e-01,\n",
            "          2.3181e-02,  4.4979e-02,  8.7417e-02,  1.6051e-03,  1.2862e-01,\n",
            "          2.1755e-01],\n",
            "        [ 2.0271e+00, -3.5060e+00,  2.4073e+00, -7.2126e-01,  1.8861e-01,\n",
            "          3.6272e+00, -5.4901e+00,  2.0767e+00,  8.5592e-01, -2.5231e+00,\n",
            "         -2.1741e+00, -6.3902e+00, -5.8266e+00,  5.6622e+00, -2.4746e+00,\n",
            "          2.5031e+00],\n",
            "        [ 1.3092e-01, -1.2929e-02,  1.8924e-01, -4.6680e-02, -5.6954e-02,\n",
            "         -1.7649e-01,  7.9058e-02, -1.7296e-02, -1.0972e-02,  1.6799e-01,\n",
            "          2.3181e-02,  4.4979e-02,  8.7417e-02,  1.6051e-03,  1.2862e-01,\n",
            "          2.1755e-01]], grad_fn=<AddmmBackward0>)\n",
            "Dense3 tensor([[ 0.0527,  0.2132, -0.2827,  0.3488, -0.0491,  0.0887,  0.1449,  0.2454],\n",
            "        [ 0.0527,  0.2132, -0.2827,  0.3488, -0.0491,  0.0887,  0.1449,  0.2454],\n",
            "        [ 0.0527,  0.2132, -0.2827,  0.3488, -0.0491,  0.0887,  0.1449,  0.2454],\n",
            "        [ 0.0527,  0.2132, -0.2827,  0.3488, -0.0491,  0.0887,  0.1449,  0.2454],\n",
            "        [ 0.0527,  0.2132, -0.2827,  0.3488, -0.0491,  0.0887,  0.1449,  0.2454],\n",
            "        [ 0.0527,  0.2132, -0.2827,  0.3488, -0.0491,  0.0887,  0.1449,  0.2454],\n",
            "        [ 0.0527,  0.2132, -0.2827,  0.3488, -0.0491,  0.0887,  0.1449,  0.2454],\n",
            "        [ 0.0527,  0.2132, -0.2827,  0.3488, -0.0491,  0.0887,  0.1449,  0.2454],\n",
            "        [ 0.0527,  0.2132, -0.2827,  0.3488, -0.0491,  0.0887,  0.1449,  0.2454],\n",
            "        [ 0.0527,  0.2132, -0.2827,  0.3488, -0.0491,  0.0887,  0.1449,  0.2454],\n",
            "        [ 0.0527,  0.2132, -0.2827,  0.3488, -0.0491,  0.0887,  0.1449,  0.2454],\n",
            "        [ 0.0527,  0.2132, -0.2827,  0.3488, -0.0491,  0.0887,  0.1449,  0.2454],\n",
            "        [ 0.0527,  0.2132, -0.2827,  0.3488, -0.0491,  0.0887,  0.1449,  0.2454],\n",
            "        [ 0.0527,  0.2132, -0.2827,  0.3488, -0.0491,  0.0887,  0.1449,  0.2454],\n",
            "        [-2.0929, -4.2520,  1.9840, -0.6414,  1.6705, -0.7439,  3.5451, -1.7886],\n",
            "        [ 0.0527,  0.2132, -0.2827,  0.3488, -0.0491,  0.0887,  0.1449,  0.2454]],\n",
            "       grad_fn=<AddmmBackward0>)\n",
            "Dense4 tensor([[0.1413],\n",
            "        [0.1413],\n",
            "        [0.1413],\n",
            "        [0.1413],\n",
            "        [0.1413],\n",
            "        [0.1413],\n",
            "        [0.1413],\n",
            "        [0.1413],\n",
            "        [0.1413],\n",
            "        [0.1413],\n",
            "        [0.1413],\n",
            "        [0.1413],\n",
            "        [0.1413],\n",
            "        [0.1413],\n",
            "        [0.7463],\n",
            "        [0.1413]], grad_fn=<AddmmBackward0>)\n",
            "torch.sum tensor([2.8652], grad_fn=<SumBackward1>)\n",
            "sigmoid tensor([0.9461], grad_fn=<SigmoidBackward0>)\n"
          ]
        }
      ],
      "source": [
        "\n",
        "import random\n",
        "# Assuming you have an instance of GraphTopologyMaxPooling_Model named 'gtmp_model' and appropriate input data\n",
        "input_seq = None\n",
        "adjacency_matrix = None\n",
        "for i,j,k in train_dataloader:\n",
        "  for l in range(len(i)):\n",
        "    a = random.randint(0,len(i)-1)\n",
        "    input_seq = i[a]\n",
        "    adjacency_matrix = j[a]\n",
        "    break\n",
        "  break\n",
        "gtmp_model = GraphTopologyMaxPooling_Model(nodesDim, nodeFeaturesDim, hidden_dim, num_layers, dropout_prob, timeSteps)\n",
        "# Forward pass through the model to get V_graph\n",
        "x1,x2,x3,x4,x5,x6 = gtmp_model(input_seq, adjacency_matrix)\n",
        "\n",
        "# Get the shape of V_graph\n",
        "\n",
        "\n",
        "print(\"logit in dense 1\",x1)\n",
        "print(\"Dense2\",x2)\n",
        "print(\"Dense3\",x3)\n",
        "print(\"Dense4\",x4)\n",
        "print(\"torch.sum\",x5)\n",
        "print(\"sigmoid\",x6)\n"
      ]
    },
    {
      "cell_type": "code",
      "execution_count": 53,
      "metadata": {
        "id": "vEvDeuQmEZT8"
      },
      "outputs": [],
      "source": [
        "def test_loop(dataloader, model, loss_fn):\n",
        "    # Set the model to evaluation mode - important for batch normalization and dropout layers\n",
        "    # Unnecessary in this situation but added for best practices\n",
        "    model.eval()\n",
        "    size = len(dataloader.dataset)  # Calculate size here\n",
        "    num_batches = len(dataloader)\n",
        "    test_loss, correct = 0, 0\n",
        "\n",
        "    # Evaluating the model with torch.no_grad() ensures that no gradients are computed during test mode\n",
        "    # also serves to reduce unnecessary gradient computations and memory usage for tensors with requires_grad=True\n",
        "    with torch.no_grad():\n",
        "\n",
        "        def fn_bool(p, y, treshold):\n",
        "            result = y*p+(1-y)*(1-p)\n",
        "            return result > treshold\n",
        "\n",
        "        for X_Signal, X_AdjMatrixy, y in dataloader:\n",
        "            pred = model(X_Signal, X_AdjMatrixy)\n",
        "            test_loss += loss_fn(pred, y.float()).item()\n",
        "            probability = nn.functional.sigmoid(pred)\n",
        "            correct += (fn_bool(probability, y.float(), 0.5)).type(torch.float).sum().item()\n",
        "\n",
        "    test_loss /= num_batches\n",
        "    correct /= size\n",
        "    accuracy = 100 * correct  # Calculate accuracy here\n",
        "    print(f\"Test Error: \\n Accuracy: {accuracy:>0.1f}%, Avg loss: {test_loss:>8f} \\n\")\n",
        "\n",
        "    return accuracy, size # Added return statement to return accuracy and size"
      ]
    },
    {
      "cell_type": "code",
      "execution_count": 59,
      "metadata": {
        "id": "T5vnVTUic0Af"
      },
      "outputs": [],
      "source": [
        "from sklearn.metrics.pairwise import cosine_similarity\n",
        "import numpy as np\n",
        "\n",
        "concatenated_tensor = concatenated_tensor.reshape(128,len(h_list))\n",
        "cos_sim_matrix = cosine_similarity(concatenated_tensor.detach().numpy())  # Remove the reshape operation\n",
        "threshold = 0.9\n",
        "adjacency_matrix = np.where(cos_sim_matrix >= threshold, 1, 0)"
      ]
    },
    {
      "cell_type": "code",
      "execution_count": 60,
      "metadata": {
        "colab": {
          "base_uri": "https://localhost:8080/"
        },
        "id": "TWDQO7RVc5mk",
        "outputId": "e93d3772-c8dc-4cba-eeb1-01731b14dacb"
      },
      "outputs": [
        {
          "data": {
            "text/plain": [
              "(128, 128)"
            ]
          },
          "execution_count": 60,
          "metadata": {},
          "output_type": "execute_result"
        }
      ],
      "source": [
        "adjacency_matrix.shape"
      ]
    },
    {
      "cell_type": "code",
      "execution_count": 61,
      "metadata": {
        "id": "TkMZ58ZHCeW-"
      },
      "outputs": [],
      "source": [
        "adj_list_train = [adjacency_matrix] * len(H_list_train)\n",
        "adj_list_test = [adjacency_matrix] * len(H_list_test)\n",
        "\n",
        "train_dataloader_new = DataLoader(list(zip(H_list_train,adj_list_train,label_train)), batch_size=1, shuffle=True)\n",
        "test_dataloader_new = DataLoader(list(zip(H_list_test,adj_list_test,label_test)), batch_size=1, shuffle=True)"
      ]
    },
    {
      "cell_type": "code",
      "execution_count": 85,
      "metadata": {
        "id": "a8rJ1y36Kli6"
      },
      "outputs": [],
      "source": [
        "gcn_outputs = []\n",
        "gcn_labels = []\n",
        "for i,j,k in train_dataloader:\n",
        "  for l in range(len(i)):\n",
        "    input_seq = i[l]\n",
        "    adjacency_matrix = j[l]\n",
        "    H,A = model.maxPooling_Model.gru_Model.forward(input_seq, adjacency_matrix)\n",
        "    gcn_output = model.maxPooling_Model.gru_Model.gcn_model_layer(input_seq,A)\n",
        "    gcn_outputs.append(gcn_output.flatten())\n",
        "    gcn_labels.append(k[l])\n",
        "\n"
      ]
    },
    {
      "cell_type": "code",
      "execution_count": 88,
      "metadata": {
        "colab": {
          "base_uri": "https://localhost:8080/"
        },
        "id": "i6ZAd03bNqvZ",
        "outputId": "0d24e880-04a4-4862-a6dd-3942b71953d3"
      },
      "outputs": [
        {
          "data": {
            "text/plain": [
              "4240"
            ]
          },
          "execution_count": 88,
          "metadata": {},
          "output_type": "execute_result"
        }
      ],
      "source": [
        "len(gcn_labels)"
      ]
    },
    {
      "cell_type": "code",
      "execution_count": 98,
      "metadata": {
        "id": "pElcmfx5OTa2"
      },
      "outputs": [],
      "source": [
        "for i in range(len(gcn_outputs)):\n",
        "  gcn_outputs[i] = gcn_outputs[i].mean().detach().numpy()"
      ]
    },
    {
      "cell_type": "code",
      "execution_count": 99,
      "metadata": {
        "id": "rjx6CHIyS8OA"
      },
      "outputs": [],
      "source": [
        "gcn_0 = []\n",
        "gcn_1 = []\n",
        "for i in range(len(gcn_outputs)):\n",
        "  if gcn_labels[i] == 0:\n",
        "    gcn_0.append(gcn_outputs[i])\n",
        "  else:\n",
        "    gcn_1.append(gcn_outputs[i])"
      ]
    },
    {
      "cell_type": "code",
      "execution_count": 102,
      "metadata": {
        "colab": {
          "base_uri": "https://localhost:8080/",
          "height": 472
        },
        "id": "Omfb4P0MT7ed",
        "outputId": "243ff9ec-42de-45b8-b0ee-c67645a02928"
      },
      "outputs": [
        {
          "data": {
            "image/png": "[encoded data removed]",
            "text/plain": [
              "<Figure size 640x480 with 1 Axes>"
            ]
          },
          "metadata": {},
          "output_type": "display_data"
        }
      ],
      "source": [
        "# prompt: plot gcn_0 and gcn_1 as clusters\n",
        "\n",
        "import matplotlib.pyplot as plt\n",
        "\n",
        "# Assuming gcn_0 and gcn_1 are lists of numerical values\n",
        "plt.scatter(range(len(gcn_0)), gcn_0, label='Cluster 0')\n",
        "plt.scatter(range(len(gcn_1)), gcn_1, label='Cluster 1')\n",
        "plt.xlabel('Data Point Index')\n",
        "plt.ylabel('GCN Output Value')\n",
        "plt.title('GCN Outputs for Different Clusters')\n",
        "plt.legend()\n",
        "plt.show()\n"
      ]
    },
    {
      "cell_type": "code",
      "execution_count": 62,
      "metadata": {
        "colab": {
          "base_uri": "https://localhost:8080/"
        },
        "id": "pJFyf7iyHemi",
        "outputId": "5084b215-5017-40a1-899f-d5a628ab0046"
      },
      "outputs": [
        {
          "name": "stdout",
          "output_type": "stream",
          "text": [
            "Epoch 1, Loss: 0.6676\n",
            "Epoch 2, Loss: 0.6931\n",
            "Epoch 3, Loss: 0.6761\n",
            "Epoch 4, Loss: 0.7357\n",
            "Epoch 5, Loss: 0.6488\n",
            "Epoch 6, Loss: 0.6931\n",
            "Epoch 7, Loss: 0.6955\n",
            "Epoch 8, Loss: 0.6931\n",
            "Epoch 9, Loss: 0.6942\n",
            "Epoch 10, Loss: 0.6686\n",
            "Epoch 11, Loss: 0.6504\n",
            "Epoch 12, Loss: 0.6782\n",
            "Epoch 13, Loss: 0.7115\n",
            "Epoch 14, Loss: 0.7247\n",
            "Epoch 15, Loss: 0.6819\n",
            "Epoch 16, Loss: 0.6892\n",
            "Epoch 17, Loss: 0.6931\n",
            "Epoch 18, Loss: 0.6931\n",
            "Epoch 19, Loss: 0.6502\n",
            "Epoch 20, Loss: 0.6505\n",
            "Epoch 21, Loss: 0.6931\n",
            "Epoch 22, Loss: 0.6931\n",
            "Epoch 23, Loss: 0.6844\n",
            "Epoch 24, Loss: 0.6712\n",
            "Epoch 25, Loss: 0.6787\n",
            "Epoch 26, Loss: 0.7690\n",
            "Epoch 27, Loss: 0.6931\n",
            "Epoch 28, Loss: 0.7244\n",
            "Epoch 29, Loss: 0.6553\n",
            "Epoch 30, Loss: 0.6553\n",
            "Epoch 31, Loss: 0.6569\n",
            "Epoch 32, Loss: 0.6430\n",
            "Epoch 33, Loss: 0.6931\n",
            "Epoch 34, Loss: 0.7179\n",
            "Epoch 35, Loss: 0.6931\n",
            "Epoch 36, Loss: 0.6736\n",
            "Epoch 37, Loss: 0.6543\n",
            "Epoch 38, Loss: 0.6663\n",
            "Epoch 39, Loss: 0.6931\n",
            "Epoch 40, Loss: 0.7191\n",
            "Epoch 41, Loss: 0.6922\n",
            "Epoch 42, Loss: 0.6718\n",
            "Epoch 43, Loss: 0.6281\n",
            "Epoch 44, Loss: 0.6652\n",
            "Epoch 45, Loss: 0.7210\n",
            "Epoch 46, Loss: 0.6931\n",
            "Epoch 47, Loss: 0.6931\n",
            "Epoch 48, Loss: 0.6732\n",
            "Epoch 49, Loss: 0.6931\n",
            "Epoch 50, Loss: 0.6956\n",
            "Epoch 51, Loss: 0.6569\n",
            "Epoch 52, Loss: 0.7008\n",
            "Epoch 53, Loss: 0.6665\n",
            "Epoch 54, Loss: 0.7252\n",
            "Epoch 55, Loss: 0.6533\n",
            "Epoch 56, Loss: 0.7255\n",
            "Epoch 57, Loss: 0.6717\n",
            "Epoch 58, Loss: 0.6522\n",
            "Epoch 59, Loss: 0.7152\n",
            "Epoch 60, Loss: 0.6695\n",
            "Epoch 61, Loss: 0.7084\n",
            "Epoch 62, Loss: 0.6616\n",
            "Epoch 63, Loss: 0.6931\n",
            "Epoch 64, Loss: 0.6931\n",
            "Epoch 65, Loss: 0.6935\n",
            "Epoch 66, Loss: 0.6745\n",
            "Epoch 67, Loss: 0.6806\n",
            "Epoch 68, Loss: 0.6849\n",
            "Epoch 69, Loss: 0.6883\n",
            "Epoch 70, Loss: 0.6931\n",
            "Epoch 71, Loss: 0.6900\n",
            "Epoch 72, Loss: 0.7200\n",
            "Epoch 73, Loss: 0.6714\n",
            "Epoch 74, Loss: 0.6715\n",
            "Epoch 75, Loss: 0.7116\n",
            "Epoch 76, Loss: 0.6394\n",
            "Epoch 77, Loss: 0.6530\n",
            "Epoch 78, Loss: 0.6549\n",
            "Epoch 79, Loss: 0.6931\n",
            "Epoch 80, Loss: 0.6935\n",
            "Epoch 81, Loss: 0.6931\n",
            "Epoch 82, Loss: 0.6910\n",
            "Epoch 83, Loss: 0.6458\n",
            "Epoch 84, Loss: 0.7365\n",
            "Epoch 85, Loss: 0.7442\n",
            "Epoch 86, Loss: 0.6382\n",
            "Epoch 87, Loss: 0.6891\n",
            "Epoch 88, Loss: 0.6894\n",
            "Epoch 89, Loss: 0.6632\n",
            "Epoch 90, Loss: 0.6835\n",
            "Epoch 91, Loss: 0.6931\n",
            "Epoch 92, Loss: 0.6914\n",
            "Epoch 93, Loss: 0.6463\n",
            "Epoch 94, Loss: 0.7247\n",
            "Epoch 95, Loss: 0.6849\n",
            "Epoch 96, Loss: 0.6542\n",
            "Epoch 97, Loss: 0.6931\n",
            "Epoch 98, Loss: 0.7061\n",
            "Epoch 99, Loss: 0.6702\n",
            "Epoch 100, Loss: 0.7487\n"
          ]
        }
      ],
      "source": [
        "\n",
        "# prompt: make a gcn model for training_dataloader_new\n",
        "\n",
        "import torch\n",
        "import torch.nn as nn\n",
        "\n",
        "class GCN(nn.Module):\n",
        "    def __init__(self, input_dim, output_dim):\n",
        "        super(GCN, self).__init__()\n",
        "        self.fc = nn.Linear(input_dim, output_dim)\n",
        "        self.activation = nn.ReLU()\n",
        "        # Added a sigmoid activation to get output in range [0,1] for BCELoss\n",
        "        self.sigmoid = nn.Sigmoid()\n",
        "\n",
        "    def forward(self, x, adj):\n",
        "        x = torch.matmul(adj.float(), x.reshape(128,1))\n",
        "        x = self.fc(x.reshape(1,128))\n",
        "        x = self.activation(x)\n",
        "        # Apply sigmoid activation\n",
        "        x = self.sigmoid(x)\n",
        "        return x\n",
        "\n",
        "# Create a GCN\n",
        "gcn = GCN(128, 1)\n",
        "\n",
        "# Train the GCN\n",
        "criterion = nn.BCELoss()\n",
        "optimizer = torch.optim.Adam(gcn.parameters(), lr=0.1)\n",
        "\n",
        "for epoch in range(100):\n",
        "    for data, adj, labels in train_dataloader_new:\n",
        "        # Ensure labels are float and have shape (batch_size, 128)\n",
        "        labels = labels.float()\n",
        "        # Forward pass\n",
        "        outputs = gcn(data, adj)\n",
        "        loss = criterion(outputs.reshape(1), labels.reshape(1))\n",
        "\n",
        "        # Backward pass\n",
        "        optimizer.zero_grad()\n",
        "        #loss.backward()\n",
        "        optimizer.step()\n",
        "\n",
        "        # Zero out the gradients after updating the weights for the next iteration.\n",
        "        optimizer.zero_grad()\n",
        "\n",
        "    # Print the loss\n",
        "    print(f\"Epoch {epoch+1}, Loss: {loss.item():.4f}\")"
      ]
    },
    {
      "cell_type": "code",
      "execution_count": 63,
      "metadata": {
        "colab": {
          "base_uri": "https://localhost:8080/"
        },
        "id": "hkVABXw1aoWd",
        "outputId": "27549794-4ca4-4694-dfa1-b4e90ee699f2"
      },
      "outputs": [
        {
          "name": "stdout",
          "output_type": "stream",
          "text": [
            "Accuracy: 0.635392829900839\n"
          ]
        }
      ],
      "source": [
        "# prompt: get accuracy of above gcn\n",
        "\n",
        "correct = 0\n",
        "total = 0\n",
        "with torch.no_grad():\n",
        "    for data, adj, labels in train_dataloader_new:\n",
        "        # Ensure labels are float and have shape (batch_size, 128)\n",
        "        labels = labels.float()\n",
        "        outputs = gcn(data, adj)\n",
        "        predictions = (outputs > 0.5).float()\n",
        "        correct += (predictions == labels).sum().item()\n",
        "        total += labels.size(0)\n",
        "\n",
        "accuracy = correct / total\n",
        "print(f\"Accuracy: {accuracy}\")\n"
      ]
    },
    {
      "cell_type": "code",
      "execution_count": 64,
      "metadata": {
        "colab": {
          "base_uri": "https://localhost:8080/",
          "height": 17
        },
        "id": "A8j6l6gIX0qT",
        "outputId": "147e2d2a-50d9-442f-cb3d-91b40988eef8"
      },
      "outputs": [
        {
          "data": {
            "application/javascript": "\n    async function download(id, filename, size) {\n      if (!google.colab.kernel.accessAllowed) {\n        return;\n      }\n      const div = document.createElement('div');\n      const label = document.createElement('label');\n      label.textContent = `Downloading \"${filename}\": `;\n      div.appendChild(label);\n      const progress = document.createElement('progress');\n      progress.max = size;\n      div.appendChild(progress);\n      document.body.appendChild(div);\n\n      const buffers = [];\n      let downloaded = 0;\n\n      const channel = await google.colab.kernel.comms.open(id);\n      // Send a message to notify the kernel that we're ready.\n      channel.send({})\n\n      for await (const message of channel.messages) {\n        // Send a message to notify the kernel that we're ready.\n        channel.send({})\n        if (message.buffers) {\n          for (const buffer of message.buffers) {\n            buffers.push(buffer);\n            downloaded += buffer.byteLength;\n            progress.value = downloaded;\n          }\n        }\n      }\n      const blob = new Blob(buffers, {type: 'application/binary'});\n      const a = document.createElement('a');\n      a.href = window.URL.createObjectURL(blob);\n      a.download = filename;\n      div.appendChild(a);\n      a.click();\n      div.remove();\n    }\n  ",
            "text/plain": [
              "<IPython.core.display.Javascript object>"
            ]
          },
          "metadata": {},
          "output_type": "display_data"
        },
        {
          "data": {
            "application/javascript": "download(\"download_3f6204ea-aa99-4161-83ec-a1ad4097d28d\", \"gcn_weights.h5\", 2564)",
            "text/plain": [
              "<IPython.core.display.Javascript object>"
            ]
          },
          "metadata": {},
          "output_type": "display_data"
        }
      ],
      "source": [
        "# prompt: save above model weights of gcn in h5 and download it\n",
        "from google.colab import files\n",
        "import h5py\n",
        "\n",
        "# Save the model weights\n",
        "with h5py.File('gcn_weights.h5', 'w') as f:\n",
        "    for name, param in gcn.named_parameters():\n",
        "        f.create_dataset(name, data=param.data.numpy())\n",
        "\n",
        "# Download the file\n",
        "files.download('gcn_weights.h5')\n"
      ]
    },
    {
      "cell_type": "code",
      "execution_count": 65,
      "metadata": {
        "colab": {
          "base_uri": "https://localhost:8080/"
        },
        "id": "l-yYYr0MbPEB",
        "outputId": "08caa261-8535-49cf-e3ab-363621ba4260"
      },
      "outputs": [
        {
          "name": "stdout",
          "output_type": "stream",
          "text": [
            "[[  0   0]\n",
            " [ 64 264]]\n"
          ]
        }
      ],
      "source": [
        "\n",
        "from sklearn.metrics import confusion_matrix\n",
        "\n",
        "# Get the predictions and labels\n",
        "predictions = []\n",
        "labels = []\n",
        "for data, adj, label in test_dataloader_new:\n",
        "  # Ensure labels are float and have shape (batch_size, 128)\n",
        "  label = label.float()\n",
        "  # Convert the model output to binary predictions\n",
        "  prediction = (gcn(data, adj) > 0.5).float().item()\n",
        "  predictions.append(prediction)\n",
        "  labels.append(label.item())\n",
        "\n",
        "# Create the confusion matrix\n",
        "cm = confusion_matrix(labels, predictions)\n",
        "\n",
        "# Print the confusion matrix\n",
        "print(cm)"
      ]
    },
    {
      "cell_type": "code",
      "execution_count": 66,
      "metadata": {
        "colab": {
          "base_uri": "https://localhost:8080/"
        },
        "id": "hBjvpB5K6vEb",
        "outputId": "744c8c85-820b-403f-c2db-7c43f4f89a29"
      },
      "outputs": [
        {
          "name": "stdout",
          "output_type": "stream",
          "text": [
            "[[ 73 330]\n",
            " [148 760]]\n"
          ]
        }
      ],
      "source": [
        "# ... (rest of the code)\n",
        "\n",
        "# Get the predictions and labels\n",
        "predictions = []\n",
        "labels = []\n",
        "for data, adj, label in train_dataloader_new:\n",
        "    # Ensure labels are float and have shape (batch_size, 128)\n",
        "    label = label.float()\n",
        "    # Convert the model output to binary predictions\n",
        "    prediction = (gcn(data, adj) > 0.5).float().item()  # Threshold at 0.5\n",
        "    predictions.append(prediction)\n",
        "    labels.append(label.item())\n",
        "\n",
        "# Create the confusion matrix\n",
        "cm = confusion_matrix(labels, predictions)\n",
        "\n",
        "# Print the confusion matrix\n",
        "print(cm)"
      ]
    },
    {
      "cell_type": "code",
      "execution_count": 67,
      "metadata": {
        "colab": {
          "base_uri": "https://localhost:8080/"
        },
        "id": "na9GYFb27KEO",
        "outputId": "781c1d88-56fd-4776-f5c6-889d1fa6f9fb"
      },
      "outputs": [
        {
          "name": "stdout",
          "output_type": "stream",
          "text": [
            "Epoch 1, Loss: 0.6891\n",
            "Epoch 2, Loss: 0.6698\n",
            "Epoch 3, Loss: 0.7499\n",
            "Epoch 4, Loss: 0.7049\n",
            "Epoch 5, Loss: 0.6998\n",
            "Epoch 6, Loss: 0.6877\n",
            "Epoch 7, Loss: 0.6475\n",
            "Epoch 8, Loss: 0.7201\n",
            "Epoch 9, Loss: 0.6189\n",
            "Epoch 10, Loss: 0.6931\n",
            "Epoch 11, Loss: 0.7371\n",
            "Epoch 12, Loss: 0.6534\n",
            "Epoch 13, Loss: 0.6931\n",
            "Epoch 14, Loss: 0.6677\n",
            "Epoch 15, Loss: 0.7436\n",
            "Epoch 16, Loss: 0.6786\n",
            "Epoch 17, Loss: 0.7271\n",
            "Epoch 18, Loss: 0.6807\n",
            "Epoch 19, Loss: 0.7124\n",
            "Epoch 20, Loss: 0.7077\n",
            "Epoch 21, Loss: 0.6931\n",
            "Epoch 22, Loss: 0.7285\n",
            "Epoch 23, Loss: 0.7315\n",
            "Epoch 24, Loss: 0.6502\n",
            "Epoch 25, Loss: 0.7467\n",
            "Epoch 26, Loss: 0.7283\n",
            "Epoch 27, Loss: 0.6931\n",
            "Epoch 28, Loss: 0.7150\n",
            "Epoch 29, Loss: 0.6535\n",
            "Epoch 30, Loss: 0.7294\n",
            "Epoch 31, Loss: 0.6781\n",
            "Epoch 32, Loss: 0.6698\n",
            "Epoch 33, Loss: 0.6695\n",
            "Epoch 34, Loss: 0.6650\n",
            "Epoch 35, Loss: 0.6513\n",
            "Epoch 36, Loss: 0.7838\n",
            "Epoch 37, Loss: 0.6237\n",
            "Epoch 38, Loss: 0.6713\n",
            "Epoch 39, Loss: 0.6617\n",
            "Epoch 40, Loss: 0.6931\n",
            "Epoch 41, Loss: 0.6322\n",
            "Epoch 42, Loss: 0.6676\n",
            "Epoch 43, Loss: 0.7536\n",
            "Epoch 44, Loss: 0.7212\n",
            "Epoch 45, Loss: 0.6813\n",
            "Epoch 46, Loss: 0.7113\n",
            "Epoch 47, Loss: 0.7190\n",
            "Epoch 48, Loss: 0.7045\n",
            "Epoch 49, Loss: 0.6645\n",
            "Epoch 50, Loss: 0.6402\n",
            "Epoch 51, Loss: 0.6836\n",
            "Epoch 52, Loss: 0.6551\n",
            "Epoch 53, Loss: 0.6917\n",
            "Epoch 54, Loss: 0.7628\n",
            "Epoch 55, Loss: 0.7131\n",
            "Epoch 56, Loss: 0.7536\n",
            "Epoch 57, Loss: 0.7529\n",
            "Epoch 58, Loss: 0.6729\n",
            "Epoch 59, Loss: 0.6371\n",
            "Epoch 60, Loss: 0.6802\n",
            "Epoch 61, Loss: 0.6709\n",
            "Epoch 62, Loss: 0.6787\n",
            "Epoch 63, Loss: 0.6818\n",
            "Epoch 64, Loss: 0.6404\n",
            "Epoch 65, Loss: 0.6756\n",
            "Epoch 66, Loss: 0.7157\n",
            "Epoch 67, Loss: 0.6400\n",
            "Epoch 68, Loss: 0.6806\n",
            "Epoch 69, Loss: 0.6645\n",
            "Epoch 70, Loss: 0.7371\n",
            "Epoch 71, Loss: 0.7225\n",
            "Epoch 72, Loss: 0.6844\n",
            "Epoch 73, Loss: 0.7218\n",
            "Epoch 74, Loss: 0.6798\n",
            "Epoch 75, Loss: 0.7501\n",
            "Epoch 76, Loss: 0.6931\n",
            "Epoch 77, Loss: 0.6675\n",
            "Epoch 78, Loss: 0.6663\n",
            "Epoch 79, Loss: 0.6503\n",
            "Epoch 80, Loss: 0.6511\n",
            "Epoch 81, Loss: 0.6483\n",
            "Epoch 82, Loss: 0.6830\n",
            "Epoch 83, Loss: 0.7622\n",
            "Epoch 84, Loss: 0.6756\n",
            "Epoch 85, Loss: 0.6763\n",
            "Epoch 86, Loss: 0.7274\n",
            "Epoch 87, Loss: 0.6533\n",
            "Epoch 88, Loss: 0.6477\n",
            "Epoch 89, Loss: 0.6599\n",
            "Epoch 90, Loss: 0.6931\n",
            "Epoch 91, Loss: 0.6559\n",
            "Epoch 92, Loss: 0.6766\n",
            "Epoch 93, Loss: 0.6765\n",
            "Epoch 94, Loss: 0.6561\n",
            "Epoch 95, Loss: 0.6953\n",
            "Epoch 96, Loss: 0.6704\n",
            "Epoch 97, Loss: 0.7306\n",
            "Epoch 98, Loss: 0.6931\n",
            "Epoch 99, Loss: 0.7375\n",
            "Epoch 100, Loss: 0.6559\n"
          ]
        }
      ],
      "source": [
        "# Create a GCN\n",
        "gcn_1 = GCN(128, 1)\n",
        "\n",
        "# Train the GCN\n",
        "criterion = nn.BCELoss()\n",
        "optimizer = torch.optim.Adam(gcn.parameters(), lr=0.01)\n",
        "\n",
        "for epoch in range(100):\n",
        "    for data, adj, labels in train_dataloader_new:\n",
        "        # Ensure labels are float and have shape (batch_size, 128)\n",
        "        labels = labels.float()\n",
        "        # Forward pass\n",
        "        outputs = gcn_1(data, adj)\n",
        "        loss = criterion(outputs.reshape(1), labels.reshape(1))\n",
        "\n",
        "        # Backward pass\n",
        "        optimizer.zero_grad()\n",
        "        #loss.backward()\n",
        "        optimizer.step()\n",
        "\n",
        "        # Zero out the gradients after updating the weights for the next iteration.\n",
        "        optimizer.zero_grad()\n",
        "\n",
        "    # Print the loss\n",
        "    print(f\"Epoch {epoch+1}, Loss: {loss.item():.4f}\")"
      ]
    },
    {
      "cell_type": "code",
      "execution_count": 68,
      "metadata": {
        "colab": {
          "base_uri": "https://localhost:8080/"
        },
        "id": "r0-pmyFXS0kP",
        "outputId": "1473e9ac-c5cf-471f-9d6b-3cce5a6133ab"
      },
      "outputs": [
        {
          "name": "stdout",
          "output_type": "stream",
          "text": [
            "Accuracy: 0.635392829900839\n"
          ]
        }
      ],
      "source": [
        "# prompt: get accuracy of above gcn\n",
        "\n",
        "correct = 0\n",
        "total = 0\n",
        "with torch.no_grad():\n",
        "    for data, adj, labels in train_dataloader_new:\n",
        "        # Ensure labels are float and have shape (batch_size, 128)\n",
        "        labels = labels.float()\n",
        "        outputs = gcn(data, adj)\n",
        "        predictions = (outputs > 0.5).float()\n",
        "        correct += (predictions == labels).sum().item()\n",
        "        total += labels.size(0)\n",
        "\n",
        "accuracy = correct / total\n",
        "print(f\"Accuracy: {accuracy}\")"
      ]
    },
    {
      "cell_type": "code",
      "execution_count": 69,
      "metadata": {
        "id": "MeTtvK8NPO_q"
      },
      "outputs": [],
      "source": [
        "train_dataloader_new = DataLoader(list(zip(H_list_train,adj_list_train,label_train)), batch_size=1, shuffle=True)\n",
        "test_dataloader_new = DataLoader(list(zip(H_list_test,adj_list_test,label_test)), batch_size=1, shuffle=True)"
      ]
    },
    {
      "cell_type": "code",
      "execution_count": 70,
      "metadata": {
        "colab": {
          "base_uri": "https://localhost:8080/",
          "height": 17
        },
        "id": "iDFFWkVIvRN4",
        "outputId": "7b9f516f-4db5-4727-eb00-17fd365e89d1"
      },
      "outputs": [
        {
          "data": {
            "application/javascript": "\n    async function download(id, filename, size) {\n      if (!google.colab.kernel.accessAllowed) {\n        return;\n      }\n      const div = document.createElement('div');\n      const label = document.createElement('label');\n      label.textContent = `Downloading \"${filename}\": `;\n      div.appendChild(label);\n      const progress = document.createElement('progress');\n      progress.max = size;\n      div.appendChild(progress);\n      document.body.appendChild(div);\n\n      const buffers = [];\n      let downloaded = 0;\n\n      const channel = await google.colab.kernel.comms.open(id);\n      // Send a message to notify the kernel that we're ready.\n      channel.send({})\n\n      for await (const message of channel.messages) {\n        // Send a message to notify the kernel that we're ready.\n        channel.send({})\n        if (message.buffers) {\n          for (const buffer of message.buffers) {\n            buffers.push(buffer);\n            downloaded += buffer.byteLength;\n            progress.value = downloaded;\n          }\n        }\n      }\n      const blob = new Blob(buffers, {type: 'application/binary'});\n      const a = document.createElement('a');\n      a.href = window.URL.createObjectURL(blob);\n      a.download = filename;\n      div.appendChild(a);\n      a.click();\n      div.remove();\n    }\n  ",
            "text/plain": [
              "<IPython.core.display.Javascript object>"
            ]
          },
          "metadata": {},
          "output_type": "display_data"
        },
        {
          "data": {
            "application/javascript": "download(\"download_7c5e2036-944b-4229-9bdd-48ccbc0edb15\", \"gcn_model.pkl\", 2254)",
            "text/plain": [
              "<IPython.core.display.Javascript object>"
            ]
          },
          "metadata": {},
          "output_type": "display_data"
        }
      ],
      "source": [
        "# prompt: save pickle file for gcn and download\n",
        "\n",
        "import pickle\n",
        "import h5py\n",
        "import google.colab.files as files\n",
        "\n",
        "# Save the GCN model\n",
        "with open('gcn_model.pkl', 'wb') as f:\n",
        "    pickle.dump(gcn, f)\n",
        "\n",
        "# Download the file\n",
        "files.download('gcn_model.pkl')\n"
      ]
    },
    {
      "cell_type": "code",
      "execution_count": 71,
      "metadata": {
        "colab": {
          "base_uri": "https://localhost:8080/"
        },
        "id": "JRJLlEOgZMpm",
        "outputId": "7a84e806-811f-43c7-8a52-cfa5ce6ea440"
      },
      "outputs": [
        {
          "name": "stdout",
          "output_type": "stream",
          "text": [
            "Accuracy: 0.6292906178489702\n"
          ]
        }
      ],
      "source": [
        "# prompt: get accuracy of above gcn\n",
        "\n",
        "correct = 0\n",
        "total = 0\n",
        "with torch.no_grad():\n",
        "    for data, adj, labels in train_dataloader_new:\n",
        "        # Ensure labels are float and have shape (batch_size, 128)\n",
        "        labels = labels.float()\n",
        "        outputs = gcn_2(data, adj)\n",
        "        predictions = (outputs > 0.5).float()\n",
        "        correct += (predictions == labels).sum().item()\n",
        "        total += labels.size(0)\n",
        "\n",
        "accuracy = correct / total\n",
        "print(f\"Accuracy: {accuracy}\")"
      ]
    },
    {
      "cell_type": "code",
      "execution_count": 72,
      "metadata": {
        "colab": {
          "base_uri": "https://localhost:8080/"
        },
        "id": "Vxgs8HFIZVUt",
        "outputId": "a649560e-81f1-45cd-98d4-836ea8ca4e5e"
      },
      "outputs": [
        {
          "name": "stdout",
          "output_type": "stream",
          "text": [
            "[[ 92 311]\n",
            " [175 733]]\n"
          ]
        }
      ],
      "source": [
        "# ... (rest of the code)\n",
        "\n",
        "# Get the predictions and labels\n",
        "predictions = []\n",
        "labels = []\n",
        "for data, adj, label in train_dataloader_new:\n",
        "    # Ensure labels are float and have shape (batch_size, 128)\n",
        "    label = label.float()\n",
        "    # Convert the model output to binary predictions\n",
        "    prediction = (gcn_2(data, adj) > 0.5).float().item()  # Threshold at 0.5\n",
        "    predictions.append(prediction)\n",
        "    labels.append(label.item())\n",
        "\n",
        "# Create the confusion matrix\n",
        "cm = confusion_matrix(labels, predictions)\n",
        "\n",
        "# Print the confusion matrix\n",
        "print(cm)"
      ]
    },
    {
      "cell_type": "code",
      "execution_count": 73,
      "metadata": {
        "colab": {
          "base_uri": "https://localhost:8080/"
        },
        "id": "saIrwkefTe9o",
        "outputId": "01e23bab-4e88-47a5-d5f0-137664bdcb2e"
      },
      "outputs": [
        {
          "name": "stdout",
          "output_type": "stream",
          "text": [
            "Epoch 1, Loss: 0.6278\n",
            "Epoch 2, Loss: 0.7206\n",
            "Epoch 3, Loss: 0.7279\n",
            "Epoch 4, Loss: 0.6425\n",
            "Epoch 5, Loss: 0.7102\n",
            "Epoch 6, Loss: 0.6785\n",
            "Epoch 7, Loss: 0.6715\n",
            "Epoch 8, Loss: 0.6856\n",
            "Epoch 9, Loss: 0.6823\n",
            "Epoch 10, Loss: 0.6956\n",
            "Epoch 1, Loss: 0.6857\n",
            "Epoch 2, Loss: 0.6901\n",
            "Epoch 3, Loss: 0.7242\n",
            "Epoch 4, Loss: 0.7184\n",
            "Epoch 5, Loss: 0.6479\n",
            "Epoch 6, Loss: 0.6576\n",
            "Epoch 7, Loss: 0.6271\n",
            "Epoch 8, Loss: 0.7282\n",
            "Epoch 9, Loss: 0.6931\n",
            "Epoch 10, Loss: 0.6800\n"
          ]
        }
      ],
      "source": [
        "# Create a GCN\n",
        "gcn_2 = GCN(128, 1)\n",
        "\n",
        "# Train the GCN\n",
        "criterion = nn.BCELoss()\n",
        "optimizer = torch.optim.Adam(gcn.parameters(), lr=0.01)\n",
        "\n",
        "for epoch in range(10):\n",
        "    for data, adj, labels in train_dataloader_new:\n",
        "        # Ensure labels are float and have shape (batch_size, 128)\n",
        "        labels = labels.float()\n",
        "        # Forward pass\n",
        "        outputs = gcn_1(data, adj)\n",
        "        loss = criterion(outputs.reshape(1), labels.reshape(1))\n",
        "\n",
        "        # Backward pass\n",
        "        optimizer.zero_grad()\n",
        "        #loss.backward()\n",
        "        optimizer.step()\n",
        "\n",
        "        # Zero out the gradients after updating the weights for the next iteration.\n",
        "        optimizer.zero_grad()\n",
        "\n",
        "    # Print the loss\n",
        "    print(f\"Epoch {epoch+1}, Loss: {loss.item():.4f}\")\n",
        "\n",
        "\n",
        "optimizer = torch.optim.Adam(gcn.parameters(), lr=0.001)\n",
        "for epoch in range(10):\n",
        "    for data, adj, labels in train_dataloader_new:\n",
        "        # Ensure labels are float and have shape (batch_size, 128)\n",
        "        labels = labels.float()\n",
        "        # Forward pass\n",
        "        outputs = gcn_1(data, adj)\n",
        "        loss = criterion(outputs.reshape(1), labels.reshape(1))\n",
        "\n",
        "        # Backward pass\n",
        "        optimizer.zero_grad()\n",
        "        #loss.backward()\n",
        "        optimizer.step()\n",
        "\n",
        "        # Zero out the gradients after updating the weights for the next iteration.\n",
        "        optimizer.zero_grad()\n",
        "\n",
        "    # Print the loss\n",
        "    print(f\"Epoch {epoch+1}, Loss: {loss.item():.4f}\")"
      ]
    },
    {
      "cell_type": "markdown",
      "metadata": {
        "id": "CK2EA3XbUsJ8"
      },
      "source": [
        "## New Extraction\n"
      ]
    },
    {
      "cell_type": "code",
      "execution_count": 108,
      "metadata": {
        "colab": {
          "base_uri": "https://localhost:8080/"
        },
        "id": "fU0pbSrzUrVf",
        "outputId": "163545dc-a657-43c1-f78f-3f3cab528cb3"
      },
      "outputs": [
        {
          "name": "stdout",
          "output_type": "stream",
          "text": [
            "<<<<<<<Processing /content/drive/MyDrive/EEG/sub-001/eeg>>>>>>>\n",
            "Reading /content/drive/MyDrive/EEG/sub-001/eeg/sub-001_task-Rest_run-01_eeg.fdt\n",
            "Subject ID: sub-001_run-01, Signal Shape: (16, 250734)\n",
            "<<<<<<<Processing /content/drive/MyDrive/EEG/sub-007/eeg>>>>>>>\n",
            "Reading /content/drive/MyDrive/EEG/sub-007/eeg/sub-007_task-Rest_run-01_eeg.fdt\n",
            "Subject ID: sub-007_run-01, Signal Shape: (16, 249234)\n",
            "<<<<<<<Processing /content/drive/MyDrive/EEG/sub-010/eeg>>>>>>>\n",
            "Reading /content/drive/MyDrive/EEG/sub-010/eeg/sub-010_task-Rest_run-01_eeg.fdt\n",
            "Subject ID: sub-010_run-01, Signal Shape: (16, 249874)\n",
            "<<<<<<<Processing /content/drive/MyDrive/EEG/sub-115/eeg>>>>>>>\n",
            "Reading /content/drive/MyDrive/EEG/sub-115/eeg/sub-115_task-Rest_run-01_eeg.fdt\n",
            "Subject ID: sub-115_run-01, Signal Shape: (16, 251320)\n",
            "<<<<<<<Processing /content/drive/MyDrive/EEG/sub-060/eeg>>>>>>>\n",
            "Reading /content/drive/MyDrive/EEG/sub-060/eeg/sub-060_task-Rest_run-01_eeg.fdt\n"
          ]
        },
        {
          "name": "stderr",
          "output_type": "stream",
          "text": [
            "<ipython-input-108-8c2b0baae552>:66: RuntimeWarning: The data contains 'boundary' events, indicating data discontinuities. Be cautious of filtering and epoching around these events.\n",
            "  mne_obj = mne.io.read_raw_eeglab(mne_file)\n"
          ]
        },
        {
          "name": "stdout",
          "output_type": "stream",
          "text": [
            "Subject ID: sub-060_run-01, Signal Shape: (16, 248260)\n",
            "<<<<<<<Processing /content/drive/MyDrive/EEG/sub-066/eeg>>>>>>>\n",
            "Reading /content/drive/MyDrive/EEG/sub-066/eeg/sub-066_task-Rest_run-01_eeg.fdt\n"
          ]
        },
        {
          "name": "stderr",
          "output_type": "stream",
          "text": [
            "<ipython-input-108-8c2b0baae552>:66: RuntimeWarning: The data contains 'boundary' events, indicating data discontinuities. Be cautious of filtering and epoching around these events.\n",
            "  mne_obj = mne.io.read_raw_eeglab(mne_file)\n"
          ]
        },
        {
          "name": "stdout",
          "output_type": "stream",
          "text": [
            "Subject ID: sub-066_run-01, Signal Shape: (16, 251320)\n",
            "<<<<<<<Processing /content/drive/MyDrive/EEG/sub-111/eeg>>>>>>>\n",
            "Reading /content/drive/MyDrive/EEG/sub-111/eeg/sub-111_task-Rest_run-01_eeg.fdt\n",
            "Subject ID: sub-111_run-01, Signal Shape: (16, 228060)\n",
            "<<<<<<<Processing /content/drive/MyDrive/EEG/sub-088/eeg>>>>>>>\n",
            "Reading /content/drive/MyDrive/EEG/sub-088/eeg/sub-088_task-Rest_run-01_eeg.fdt\n",
            "Subject ID: sub-088_run-01, Signal Shape: (16, 246620)\n",
            "<<<<<<<Processing /content/drive/MyDrive/EEG/sub-016/eeg>>>>>>>\n",
            "Reading /content/drive/MyDrive/EEG/sub-016/eeg/sub-016_task-Rest_run-01_eeg.fdt\n"
          ]
        },
        {
          "name": "stderr",
          "output_type": "stream",
          "text": [
            "<ipython-input-108-8c2b0baae552>:66: RuntimeWarning: The data contains 'boundary' events, indicating data discontinuities. Be cautious of filtering and epoching around these events.\n",
            "  mne_obj = mne.io.read_raw_eeglab(mne_file)\n"
          ]
        },
        {
          "name": "stdout",
          "output_type": "stream",
          "text": [
            "Subject ID: sub-016_run-01, Signal Shape: (16, 214520)\n",
            "<<<<<<<Processing /content/drive/MyDrive/EEG/sub-020/eeg>>>>>>>\n",
            "Reading /content/drive/MyDrive/EEG/sub-020/eeg/sub-020_task-Rest_run-01_eeg.fdt\n",
            "Subject ID: sub-020_run-01, Signal Shape: (16, 251274)\n",
            "<<<<<<<Processing /content/drive/MyDrive/EEG/sub-092/eeg>>>>>>>\n",
            "Reading /content/drive/MyDrive/EEG/sub-092/eeg/sub-092_task-Rest_run-01_eeg.fdt\n",
            "Subject ID: sub-092_run-01, Signal Shape: (16, 227180)\n",
            "<<<<<<<Processing /content/drive/MyDrive/EEG/sub-099/eeg>>>>>>>\n",
            "Reading /content/drive/MyDrive/EEG/sub-099/eeg/sub-099_task-Rest_run-01_eeg.fdt\n",
            "Subject ID: sub-099_run-01, Signal Shape: (16, 251360)\n",
            "<<<<<<<Processing /content/drive/MyDrive/EEG/sub-100/eeg>>>>>>>\n",
            "Reading /content/drive/MyDrive/EEG/sub-100/eeg/sub-100_task-Rest_run-01_eeg.fdt\n",
            "Subject ID: sub-100_run-01, Signal Shape: (16, 247710)\n",
            "<<<<<<<Processing /content/drive/MyDrive/EEG/sub-108/eeg>>>>>>>\n",
            "Reading /content/drive/MyDrive/EEG/sub-108/eeg/sub-108_task-Rest_run-01_eeg.fdt\n",
            "Subject ID: sub-108_run-01, Signal Shape: (16, 249660)\n",
            "<<<<<<<Processing /content/drive/MyDrive/EEG/sub-117/eeg>>>>>>>\n",
            "Reading /content/drive/MyDrive/EEG/sub-117/eeg/sub-117_task-Rest_run-01_eeg.fdt\n",
            "Subject ID: sub-117_run-01, Signal Shape: (16, 269035)\n",
            "<<<<<<<Processing /content/drive/MyDrive/EEG/sub-089/eeg>>>>>>>\n",
            "Reading /content/drive/MyDrive/EEG/sub-089/eeg/sub-089_task-Rest_run-01_eeg.fdt\n",
            "Subject ID: sub-089_run-01, Signal Shape: (16, 246320)\n",
            "<<<<<<<Processing /content/drive/MyDrive/EEG/sub-122/eeg>>>>>>>\n",
            "Reading /content/drive/MyDrive/EEG/sub-122/eeg/sub-122_task-Rest_run-01_eeg.fdt\n"
          ]
        },
        {
          "name": "stderr",
          "output_type": "stream",
          "text": [
            "<ipython-input-108-8c2b0baae552>:66: RuntimeWarning: The data contains 'boundary' events, indicating data discontinuities. Be cautious of filtering and epoching around these events.\n",
            "  mne_obj = mne.io.read_raw_eeglab(mne_file)\n"
          ]
        },
        {
          "name": "stdout",
          "output_type": "stream",
          "text": [
            "Subject ID: sub-122_run-01, Signal Shape: (16, 290020)\n",
            "<<<<<<<Processing /content/drive/MyDrive/EEG/sub-065/eeg>>>>>>>\n",
            "Reading /content/drive/MyDrive/EEG/sub-065/eeg/sub-065_task-Rest_run-01_eeg.fdt\n"
          ]
        },
        {
          "name": "stderr",
          "output_type": "stream",
          "text": [
            "<ipython-input-108-8c2b0baae552>:66: RuntimeWarning: The data contains 'boundary' events, indicating data discontinuities. Be cautious of filtering and epoching around these events.\n",
            "  mne_obj = mne.io.read_raw_eeglab(mne_file)\n"
          ]
        },
        {
          "name": "stdout",
          "output_type": "stream",
          "text": [
            "Subject ID: sub-065_run-01, Signal Shape: (16, 246560)\n",
            "<<<<<<<Processing /content/drive/MyDrive/EEG/sub-080/eeg>>>>>>>\n",
            "Reading /content/drive/MyDrive/EEG/sub-080/eeg/sub-080_task-Rest_run-01_eeg.fdt\n"
          ]
        },
        {
          "name": "stderr",
          "output_type": "stream",
          "text": [
            "<ipython-input-108-8c2b0baae552>:66: RuntimeWarning: The data contains 'boundary' events, indicating data discontinuities. Be cautious of filtering and epoching around these events.\n",
            "  mne_obj = mne.io.read_raw_eeglab(mne_file)\n"
          ]
        },
        {
          "name": "stdout",
          "output_type": "stream",
          "text": [
            "Subject ID: sub-080_run-01, Signal Shape: (16, 230912)\n",
            "<<<<<<<Processing /content/drive/MyDrive/EEG/sub-084/eeg>>>>>>>\n",
            "Reading /content/drive/MyDrive/EEG/sub-084/eeg/sub-084_task-Rest_run-01_eeg.fdt\n",
            "Subject ID: sub-084_run-01, Signal Shape: (16, 248920)\n",
            "<<<<<<<Processing /content/drive/MyDrive/EEG/sub-098/eeg>>>>>>>\n",
            "Reading /content/drive/MyDrive/EEG/sub-098/eeg/sub-098_task-Rest_run-01_eeg.fdt\n",
            "Subject ID: sub-098_run-01, Signal Shape: (16, 248755)\n",
            "<<<<<<<Processing /content/drive/MyDrive/EEG/sub-102/eeg>>>>>>>\n",
            "Reading /content/drive/MyDrive/EEG/sub-102/eeg/sub-102_task-Rest_run-01_eeg.fdt\n",
            "Subject ID: sub-102_run-01, Signal Shape: (16, 248480)\n",
            "<<<<<<<Processing /content/drive/MyDrive/EEG/sub-113/eeg>>>>>>>\n",
            "Reading /content/drive/MyDrive/EEG/sub-113/eeg/sub-113_task-Rest_run-01_eeg.fdt\n",
            "Subject ID: sub-113_run-01, Signal Shape: (16, 253660)\n",
            "<<<<<<<Processing /content/drive/MyDrive/EEG/sub-118/eeg>>>>>>>\n",
            "Reading /content/drive/MyDrive/EEG/sub-118/eeg/sub-118_task-Rest_run-01_eeg.fdt\n",
            "Subject ID: sub-118_run-01, Signal Shape: (16, 237980)\n",
            "<<<<<<<Processing /content/drive/MyDrive/EEG/sub-002/eeg>>>>>>>\n",
            "Reading /content/drive/MyDrive/EEG/sub-002/eeg/sub-002_task-Rest_run-01_eeg.fdt\n",
            "Subject ID: sub-002_run-01, Signal Shape: (16, 244934)\n",
            "<<<<<<<Processing /content/drive/MyDrive/EEG/sub-052/eeg>>>>>>>\n",
            "Reading /content/drive/MyDrive/EEG/sub-052/eeg/sub-052_task-Rest_run-01_eeg.fdt\n",
            "Subject ID: sub-052_run-01, Signal Shape: (16, 225470)\n",
            "<<<<<<<Processing /content/drive/MyDrive/EEG/sub-053/eeg>>>>>>>\n",
            "Reading /content/drive/MyDrive/EEG/sub-053/eeg/sub-053_task-Rest_run-01_eeg.fdt\n",
            "Subject ID: sub-053_run-01, Signal Shape: (16, 245080)\n",
            "<<<<<<<Processing /content/drive/MyDrive/EEG/sub-055/eeg>>>>>>>\n",
            "Reading /content/drive/MyDrive/EEG/sub-055/eeg/sub-055_task-Rest_run-01_eeg.fdt\n",
            "Subject ID: sub-055_run-01, Signal Shape: (16, 249155)\n",
            "<<<<<<<Processing /content/drive/MyDrive/EEG/sub-023/eeg>>>>>>>\n",
            "Reading /content/drive/MyDrive/EEG/sub-023/eeg/sub-023_task-Rest_run-01_eeg.fdt\n"
          ]
        },
        {
          "name": "stderr",
          "output_type": "stream",
          "text": [
            "<ipython-input-108-8c2b0baae552>:66: RuntimeWarning: The data contains 'boundary' events, indicating data discontinuities. Be cautious of filtering and epoching around these events.\n",
            "  mne_obj = mne.io.read_raw_eeglab(mne_file)\n"
          ]
        },
        {
          "name": "stdout",
          "output_type": "stream",
          "text": [
            "Subject ID: sub-023_run-01, Signal Shape: (16, 255580)\n",
            "<<<<<<<Processing /content/drive/MyDrive/EEG/sub-032/eeg>>>>>>>\n",
            "Reading /content/drive/MyDrive/EEG/sub-032/eeg/sub-032_task-Rest_run-01_eeg.fdt\n"
          ]
        },
        {
          "name": "stderr",
          "output_type": "stream",
          "text": [
            "<ipython-input-108-8c2b0baae552>:66: RuntimeWarning: The data contains 'boundary' events, indicating data discontinuities. Be cautious of filtering and epoching around these events.\n",
            "  mne_obj = mne.io.read_raw_eeglab(mne_file)\n"
          ]
        },
        {
          "name": "stdout",
          "output_type": "stream",
          "text": [
            "Subject ID: sub-032_run-01, Signal Shape: (16, 252597)\n",
            "<<<<<<<Processing /content/drive/MyDrive/EEG/sub-033/eeg>>>>>>>\n",
            "Reading /content/drive/MyDrive/EEG/sub-033/eeg/sub-033_task-Rest_run-01_eeg.fdt\n"
          ]
        },
        {
          "name": "stderr",
          "output_type": "stream",
          "text": [
            "<ipython-input-108-8c2b0baae552>:66: RuntimeWarning: The data contains 'boundary' events, indicating data discontinuities. Be cautious of filtering and epoching around these events.\n",
            "  mne_obj = mne.io.read_raw_eeglab(mne_file)\n"
          ]
        },
        {
          "name": "stdout",
          "output_type": "stream",
          "text": [
            "Subject ID: sub-033_run-01, Signal Shape: (16, 169001)\n",
            "<<<<<<<Processing /content/drive/MyDrive/EEG/sub-004/eeg>>>>>>>\n",
            "Reading /content/drive/MyDrive/EEG/sub-004/eeg/sub-004_task-Rest_run-01_eeg.fdt\n",
            "Subject ID: sub-004_run-01, Signal Shape: (16, 263834)\n",
            "<<<<<<<Processing /content/drive/MyDrive/EEG/sub-005/eeg>>>>>>>\n",
            "Reading /content/drive/MyDrive/EEG/sub-005/eeg/sub-005_task-Rest_run-01_eeg.fdt\n",
            "Subject ID: sub-005_run-01, Signal Shape: (16, 244040)\n",
            "<<<<<<<Processing /content/drive/MyDrive/EEG/sub-006/eeg>>>>>>>\n",
            "Reading /content/drive/MyDrive/EEG/sub-006/eeg/sub-006_task-Rest_run-01_eeg.fdt\n",
            "Subject ID: sub-006_run-01, Signal Shape: (16, 261760)\n",
            "<<<<<<<Processing /content/drive/MyDrive/EEG/sub-008/eeg>>>>>>>\n",
            "Reading /content/drive/MyDrive/EEG/sub-008/eeg/sub-008_task-Rest_run-01_eeg.fdt\n",
            "Subject ID: sub-008_run-01, Signal Shape: (16, 246340)\n",
            "<<<<<<<Processing /content/drive/MyDrive/EEG/sub-009/eeg>>>>>>>\n",
            "Reading /content/drive/MyDrive/EEG/sub-009/eeg/sub-009_task-Rest_run-01_eeg.fdt\n",
            "Subject ID: sub-009_run-01, Signal Shape: (16, 249934)\n",
            "<<<<<<<Processing /content/drive/MyDrive/EEG/sub-013/eeg>>>>>>>\n",
            "Reading /content/drive/MyDrive/EEG/sub-013/eeg/sub-013_task-Rest_run-01_eeg.fdt\n",
            "Subject ID: sub-013_run-01, Signal Shape: (16, 267040)\n",
            "<<<<<<<Processing /content/drive/MyDrive/EEG/sub-014/eeg>>>>>>>\n",
            "Reading /content/drive/MyDrive/EEG/sub-014/eeg/sub-014_task-Rest_run-01_eeg.fdt\n"
          ]
        },
        {
          "name": "stderr",
          "output_type": "stream",
          "text": [
            "<ipython-input-108-8c2b0baae552>:66: RuntimeWarning: The data contains 'boundary' events, indicating data discontinuities. Be cautious of filtering and epoching around these events.\n",
            "  mne_obj = mne.io.read_raw_eeglab(mne_file)\n"
          ]
        },
        {
          "name": "stdout",
          "output_type": "stream",
          "text": [
            "Subject ID: sub-014_run-01, Signal Shape: (16, 250700)\n",
            "<<<<<<<Processing /content/drive/MyDrive/EEG/sub-015/eeg>>>>>>>\n",
            "Reading /content/drive/MyDrive/EEG/sub-015/eeg/sub-015_task-Rest_run-01_eeg.fdt\n",
            "Subject ID: sub-015_run-01, Signal Shape: (16, 255390)\n",
            "<<<<<<<Processing /content/drive/MyDrive/EEG/sub-012/eeg>>>>>>>\n",
            "<<<<<<<Error in {'electrodes': 'sub-012_task-Rest_run-01_electrodes.tsv'}: 'set'>>>>>>>\n",
            "<<<<<<<Processing /content/drive/MyDrive/EEG/sub-017/eeg>>>>>>>\n",
            "Reading /content/drive/MyDrive/EEG/sub-017/eeg/sub-017_task-Rest_run-01_eeg.fdt\n"
          ]
        },
        {
          "name": "stderr",
          "output_type": "stream",
          "text": [
            "<ipython-input-108-8c2b0baae552>:66: RuntimeWarning: The data contains 'boundary' events, indicating data discontinuities. Be cautious of filtering and epoching around these events.\n",
            "  mne_obj = mne.io.read_raw_eeglab(mne_file)\n"
          ]
        },
        {
          "name": "stdout",
          "output_type": "stream",
          "text": [
            "Subject ID: sub-017_run-01, Signal Shape: (16, 249960)\n",
            "<<<<<<<Processing /content/drive/MyDrive/EEG/sub-018/eeg>>>>>>>\n",
            "Reading /content/drive/MyDrive/EEG/sub-018/eeg/sub-018_task-Rest_run-01_eeg.fdt\n",
            "Subject ID: sub-018_run-01, Signal Shape: (16, 250780)\n",
            "<<<<<<<Processing /content/drive/MyDrive/EEG/sub-019/eeg>>>>>>>\n",
            "Reading /content/drive/MyDrive/EEG/sub-019/eeg/sub-019_task-Rest_run-01_eeg.fdt\n"
          ]
        },
        {
          "name": "stderr",
          "output_type": "stream",
          "text": [
            "<ipython-input-108-8c2b0baae552>:66: RuntimeWarning: The data contains 'boundary' events, indicating data discontinuities. Be cautious of filtering and epoching around these events.\n",
            "  mne_obj = mne.io.read_raw_eeglab(mne_file)\n"
          ]
        },
        {
          "name": "stdout",
          "output_type": "stream",
          "text": [
            "Subject ID: sub-019_run-01, Signal Shape: (16, 246934)\n",
            "<<<<<<<Processing /content/drive/MyDrive/EEG/sub-021/eeg>>>>>>>\n",
            "Reading /content/drive/MyDrive/EEG/sub-021/eeg/sub-021_task-Rest_run-01_eeg.fdt\n"
          ]
        },
        {
          "name": "stderr",
          "output_type": "stream",
          "text": [
            "<ipython-input-108-8c2b0baae552>:66: RuntimeWarning: The data contains 'boundary' events, indicating data discontinuities. Be cautious of filtering and epoching around these events.\n",
            "  mne_obj = mne.io.read_raw_eeglab(mne_file)\n"
          ]
        },
        {
          "name": "stdout",
          "output_type": "stream",
          "text": [
            "Subject ID: sub-021_run-01, Signal Shape: (16, 245144)\n",
            "<<<<<<<Processing /content/drive/MyDrive/EEG/sub-022/eeg>>>>>>>\n",
            "Reading /content/drive/MyDrive/EEG/sub-022/eeg/sub-022_task-Rest_run-01_eeg.fdt\n"
          ]
        },
        {
          "name": "stderr",
          "output_type": "stream",
          "text": [
            "<ipython-input-108-8c2b0baae552>:66: RuntimeWarning: The data contains 'boundary' events, indicating data discontinuities. Be cautious of filtering and epoching around these events.\n",
            "  mne_obj = mne.io.read_raw_eeglab(mne_file)\n"
          ]
        },
        {
          "name": "stdout",
          "output_type": "stream",
          "text": [
            "Subject ID: sub-022_run-01, Signal Shape: (16, 246874)\n",
            "<<<<<<<Processing /content/drive/MyDrive/EEG/sub-101/eeg>>>>>>>\n",
            "Reading /content/drive/MyDrive/EEG/sub-101/eeg/sub-101_task-Rest_run-01_eeg.fdt\n"
          ]
        },
        {
          "name": "stderr",
          "output_type": "stream",
          "text": [
            "<ipython-input-108-8c2b0baae552>:66: RuntimeWarning: The data contains 'boundary' events, indicating data discontinuities. Be cautious of filtering and epoching around these events.\n",
            "  mne_obj = mne.io.read_raw_eeglab(mne_file)\n"
          ]
        },
        {
          "name": "stdout",
          "output_type": "stream",
          "text": [
            "Subject ID: sub-101_run-01, Signal Shape: (16, 244780)\n",
            "<<<<<<<Processing /content/drive/MyDrive/EEG/sub-103/eeg>>>>>>>\n",
            "<<<<<<<Error in {'electrodes': 'sub-103_task-Rest_run-01_electrodes.tsv'}: 'set'>>>>>>>\n",
            "<<<<<<<Processing /content/drive/MyDrive/EEG/sub-097/eeg>>>>>>>\n",
            "<<<<<<<Error in {'electrodes': 'sub-097_task-Rest_run-01_electrodes.tsv'}: 'set'>>>>>>>\n",
            "<<<<<<<Processing /content/drive/MyDrive/EEG/sub-024/eeg>>>>>>>\n",
            "Reading /content/drive/MyDrive/EEG/sub-024/eeg/sub-024_task-Rest_run-01_eeg.fdt\n"
          ]
        },
        {
          "name": "stderr",
          "output_type": "stream",
          "text": [
            "<ipython-input-108-8c2b0baae552>:66: RuntimeWarning: The data contains 'boundary' events, indicating data discontinuities. Be cautious of filtering and epoching around these events.\n",
            "  mne_obj = mne.io.read_raw_eeglab(mne_file)\n"
          ]
        },
        {
          "name": "stdout",
          "output_type": "stream",
          "text": [
            "Subject ID: sub-024_run-01, Signal Shape: (16, 232420)\n",
            "<<<<<<<Processing /content/drive/MyDrive/EEG/sub-026/eeg>>>>>>>\n",
            "Reading /content/drive/MyDrive/EEG/sub-026/eeg/sub-026_task-Rest_run-01_eeg.fdt\n"
          ]
        },
        {
          "name": "stderr",
          "output_type": "stream",
          "text": [
            "<ipython-input-108-8c2b0baae552>:66: RuntimeWarning: The data contains 'boundary' events, indicating data discontinuities. Be cautious of filtering and epoching around these events.\n",
            "  mne_obj = mne.io.read_raw_eeglab(mne_file)\n"
          ]
        },
        {
          "name": "stdout",
          "output_type": "stream",
          "text": [
            "Subject ID: sub-026_run-01, Signal Shape: (16, 246920)\n",
            "<<<<<<<Processing /content/drive/MyDrive/EEG/sub-025/eeg>>>>>>>\n",
            "Reading /content/drive/MyDrive/EEG/sub-025/eeg/sub-025_task-Rest_run-01_eeg.fdt\n",
            "Subject ID: sub-025_run-01, Signal Shape: (16, 256320)\n",
            "<<<<<<<Processing /content/drive/MyDrive/EEG/sub-027/eeg>>>>>>>\n",
            "Reading /content/drive/MyDrive/EEG/sub-027/eeg/sub-027_task-Rest_run-01_eeg.fdt\n"
          ]
        },
        {
          "name": "stderr",
          "output_type": "stream",
          "text": [
            "<ipython-input-108-8c2b0baae552>:66: RuntimeWarning: The data contains 'boundary' events, indicating data discontinuities. Be cautious of filtering and epoching around these events.\n",
            "  mne_obj = mne.io.read_raw_eeglab(mne_file)\n"
          ]
        },
        {
          "name": "stdout",
          "output_type": "stream",
          "text": [
            "Subject ID: sub-027_run-01, Signal Shape: (16, 245854)\n",
            "<<<<<<<Processing /content/drive/MyDrive/EEG/sub-086/eeg>>>>>>>\n",
            "Reading /content/drive/MyDrive/EEG/sub-086/eeg/sub-086_task-Rest_run-01_eeg.fdt\n",
            "Subject ID: sub-086_run-01, Signal Shape: (16, 251040)\n",
            "<<<<<<<Processing /content/drive/MyDrive/EEG/sub-081/eeg>>>>>>>\n",
            "Reading /content/drive/MyDrive/EEG/sub-081/eeg/sub-081_task-Rest_run-01_eeg.fdt\n",
            "Subject ID: sub-081_run-01, Signal Shape: (16, 245820)\n",
            "<<<<<<<Processing /content/drive/MyDrive/EEG/sub-085/eeg>>>>>>>\n",
            "Reading /content/drive/MyDrive/EEG/sub-085/eeg/sub-085_task-Rest_run-01_eeg.fdt\n",
            "Subject ID: sub-085_run-01, Signal Shape: (16, 250735)\n",
            "<<<<<<<Processing /content/drive/MyDrive/EEG/sub-058/eeg>>>>>>>\n",
            "Reading /content/drive/MyDrive/EEG/sub-058/eeg/sub-058_task-Rest_run-01_eeg.fdt\n",
            "Subject ID: sub-058_run-01, Signal Shape: (16, 249180)\n",
            "<<<<<<<Processing /content/drive/MyDrive/EEG/sub-059/eeg>>>>>>>\n",
            "Reading /content/drive/MyDrive/EEG/sub-059/eeg/sub-059_task-Rest_run-01_eeg.fdt\n",
            "Subject ID: sub-059_run-01, Signal Shape: (16, 248140)\n",
            "<<<<<<<Processing /content/drive/MyDrive/EEG/sub-061/eeg>>>>>>>\n",
            "<<<<<<<Error in {'electrodes': 'sub-061_task-Rest_run-01_electrodes.tsv'}: 'set'>>>>>>>\n",
            "<<<<<<<Processing /content/drive/MyDrive/EEG/sub-063/eeg>>>>>>>\n",
            "<<<<<<<Error in {'electrodes': 'sub-063_task-Rest_run-01_electrodes.tsv'}: 'set'>>>>>>>\n",
            "<<<<<<<Processing /content/drive/MyDrive/EEG/sub-096/eeg>>>>>>>\n",
            "<<<<<<<Error in {'electrodes': 'sub-096_task-Rest_run-01_electrodes.tsv'}: 'set'>>>>>>>\n",
            "<<<<<<<Processing /content/drive/MyDrive/EEG/sub-106/eeg>>>>>>>\n",
            "<<<<<<<Error in {'electrodes': 'sub-106_task-Rest_run-01_electrodes.tsv'}: 'set'>>>>>>>\n",
            "<<<<<<<Processing /content/drive/MyDrive/EEG/sub-028/eeg>>>>>>>\n",
            "Reading /content/drive/MyDrive/EEG/sub-028/eeg/sub-028_task-Rest_run-01_eeg.fdt\n"
          ]
        },
        {
          "name": "stderr",
          "output_type": "stream",
          "text": [
            "<ipython-input-108-8c2b0baae552>:66: RuntimeWarning: The data contains 'boundary' events, indicating data discontinuities. Be cautious of filtering and epoching around these events.\n",
            "  mne_obj = mne.io.read_raw_eeglab(mne_file)\n"
          ]
        },
        {
          "name": "stdout",
          "output_type": "stream",
          "text": [
            "Subject ID: sub-028_run-01, Signal Shape: (16, 246634)\n",
            "<<<<<<<Processing /content/drive/MyDrive/EEG/sub-107/eeg>>>>>>>\n",
            "Reading /content/drive/MyDrive/EEG/sub-107/eeg/sub-107_task-Rest_run-01_eeg.fdt\n",
            "Subject ID: sub-107_run-01, Signal Shape: (16, 116692)\n",
            "<<<<<<<Processing /content/drive/MyDrive/EEG/sub-109/eeg>>>>>>>\n",
            "Reading /content/drive/MyDrive/EEG/sub-109/eeg/sub-109_task-Rest_run-01_eeg.fdt\n"
          ]
        },
        {
          "name": "stderr",
          "output_type": "stream",
          "text": [
            "<ipython-input-108-8c2b0baae552>:66: RuntimeWarning: The data contains 'boundary' events, indicating data discontinuities. Be cautious of filtering and epoching around these events.\n",
            "  mne_obj = mne.io.read_raw_eeglab(mne_file)\n"
          ]
        },
        {
          "name": "stdout",
          "output_type": "stream",
          "text": [
            "Subject ID: sub-109_run-01, Signal Shape: (16, 241660)\n",
            "<<<<<<<Processing /content/drive/MyDrive/EEG/sub-112/eeg>>>>>>>\n",
            "Reading /content/drive/MyDrive/EEG/sub-112/eeg/sub-112_task-Rest_run-01_eeg.fdt\n",
            "Subject ID: sub-112_run-01, Signal Shape: (16, 247540)\n",
            "<<<<<<<Processing /content/drive/MyDrive/EEG/sub-114/eeg>>>>>>>\n",
            "Reading /content/drive/MyDrive/EEG/sub-114/eeg/sub-114_task-Rest_run-01_eeg.fdt\n",
            "Subject ID: sub-114_run-01, Signal Shape: (16, 246460)\n",
            "<<<<<<<Processing /content/drive/MyDrive/EEG/sub-121/eeg>>>>>>>\n",
            "Reading /content/drive/MyDrive/EEG/sub-121/eeg/sub-121_task-Rest_run-01_eeg.fdt\n",
            "Subject ID: sub-121_run-01, Signal Shape: (16, 257760)\n",
            "<<<<<<<Processing /content/drive/MyDrive/EEG/sub-030/eeg>>>>>>>\n",
            "Reading /content/drive/MyDrive/EEG/sub-030/eeg/sub-030_task-Rest_run-01_eeg.fdt\n",
            "Subject ID: sub-030_run-01, Signal Shape: (16, 225520)\n",
            "<<<<<<<Processing /content/drive/MyDrive/EEG/sub-031/eeg>>>>>>>\n",
            "Reading /content/drive/MyDrive/EEG/sub-031/eeg/sub-031_task-Rest_run-01_eeg.fdt\n"
          ]
        },
        {
          "name": "stderr",
          "output_type": "stream",
          "text": [
            "<ipython-input-108-8c2b0baae552>:66: RuntimeWarning: The data contains 'boundary' events, indicating data discontinuities. Be cautious of filtering and epoching around these events.\n",
            "  mne_obj = mne.io.read_raw_eeglab(mne_file)\n"
          ]
        },
        {
          "name": "stdout",
          "output_type": "stream",
          "text": [
            "Subject ID: sub-031_run-01, Signal Shape: (16, 246780)\n",
            "<<<<<<<Processing /content/drive/MyDrive/EEG/sub-035/eeg>>>>>>>\n",
            "Reading /content/drive/MyDrive/EEG/sub-035/eeg/sub-035_task-Rest_run-01_eeg.fdt\n"
          ]
        },
        {
          "name": "stderr",
          "output_type": "stream",
          "text": [
            "<ipython-input-108-8c2b0baae552>:66: RuntimeWarning: The data contains 'boundary' events, indicating data discontinuities. Be cautious of filtering and epoching around these events.\n",
            "  mne_obj = mne.io.read_raw_eeglab(mne_file)\n"
          ]
        },
        {
          "name": "stdout",
          "output_type": "stream",
          "text": [
            "Subject ID: sub-035_run-01, Signal Shape: (16, 250634)\n",
            "<<<<<<<Processing /content/drive/MyDrive/EEG/sub-034/eeg>>>>>>>\n",
            "Reading /content/drive/MyDrive/EEG/sub-034/eeg/sub-034_task-Rest_run-01_eeg.fdt\n"
          ]
        },
        {
          "name": "stderr",
          "output_type": "stream",
          "text": [
            "<ipython-input-108-8c2b0baae552>:66: RuntimeWarning: The data contains 'boundary' events, indicating data discontinuities. Be cautious of filtering and epoching around these events.\n",
            "  mne_obj = mne.io.read_raw_eeglab(mne_file)\n"
          ]
        },
        {
          "name": "stdout",
          "output_type": "stream",
          "text": [
            "Subject ID: sub-034_run-01, Signal Shape: (16, 228941)\n",
            "<<<<<<<Processing /content/drive/MyDrive/EEG/sub-120/eeg>>>>>>>\n",
            "Reading /content/drive/MyDrive/EEG/sub-120/eeg/sub-120_task-Rest_run-01_eeg.fdt\n",
            "Subject ID: sub-120_run-01, Signal Shape: (16, 250160)\n",
            "<<<<<<<Processing /content/drive/MyDrive/EEG/sub-119/eeg>>>>>>>\n",
            "Reading /content/drive/MyDrive/EEG/sub-119/eeg/sub-119_task-Rest_run-01_eeg.fdt\n",
            "Subject ID: sub-119_run-01, Signal Shape: (16, 251900)\n",
            "<<<<<<<Processing /content/drive/MyDrive/EEG/sub-036/eeg>>>>>>>\n",
            "Reading /content/drive/MyDrive/EEG/sub-036/eeg/sub-036_task-Rest_run-01_eeg.fdt\n"
          ]
        },
        {
          "name": "stderr",
          "output_type": "stream",
          "text": [
            "<ipython-input-108-8c2b0baae552>:66: RuntimeWarning: The data contains 'boundary' events, indicating data discontinuities. Be cautious of filtering and epoching around these events.\n",
            "  mne_obj = mne.io.read_raw_eeglab(mne_file)\n"
          ]
        },
        {
          "name": "stdout",
          "output_type": "stream",
          "text": [
            "Subject ID: sub-036_run-01, Signal Shape: (16, 251734)\n",
            "<<<<<<<Processing /content/drive/MyDrive/EEG/sub-037/eeg>>>>>>>\n",
            "Reading /content/drive/MyDrive/EEG/sub-037/eeg/sub-037_task-Rest_run-01_eeg.fdt\n"
          ]
        },
        {
          "name": "stderr",
          "output_type": "stream",
          "text": [
            "<ipython-input-108-8c2b0baae552>:66: RuntimeWarning: The data contains 'boundary' events, indicating data discontinuities. Be cautious of filtering and epoching around these events.\n",
            "  mne_obj = mne.io.read_raw_eeglab(mne_file)\n"
          ]
        },
        {
          "name": "stdout",
          "output_type": "stream",
          "text": [
            "Subject ID: sub-037_run-01, Signal Shape: (16, 247260)\n",
            "<<<<<<<Processing /content/drive/MyDrive/EEG/sub-039/eeg>>>>>>>\n",
            "Reading /content/drive/MyDrive/EEG/sub-039/eeg/sub-039_task-Rest_run-01_eeg.fdt\n"
          ]
        },
        {
          "name": "stderr",
          "output_type": "stream",
          "text": [
            "<ipython-input-108-8c2b0baae552>:66: RuntimeWarning: The data contains 'boundary' events, indicating data discontinuities. Be cautious of filtering and epoching around these events.\n",
            "  mne_obj = mne.io.read_raw_eeglab(mne_file)\n"
          ]
        },
        {
          "name": "stdout",
          "output_type": "stream",
          "text": [
            "Subject ID: sub-039_run-01, Signal Shape: (16, 248414)\n",
            "<<<<<<<Processing /content/drive/MyDrive/EEG/sub-040/eeg>>>>>>>\n",
            "Reading /content/drive/MyDrive/EEG/sub-040/eeg/sub-040_task-Rest_run-01_eeg.fdt\n",
            "Subject ID: sub-040_run-01, Signal Shape: (16, 243214)\n",
            "<<<<<<<Processing /content/drive/MyDrive/EEG/sub-041/eeg>>>>>>>\n",
            "Reading /content/drive/MyDrive/EEG/sub-041/eeg/sub-041_task-Rest_run-01_eeg.fdt\n"
          ]
        },
        {
          "name": "stderr",
          "output_type": "stream",
          "text": [
            "<ipython-input-108-8c2b0baae552>:66: RuntimeWarning: The data contains 'boundary' events, indicating data discontinuities. Be cautious of filtering and epoching around these events.\n",
            "  mne_obj = mne.io.read_raw_eeglab(mne_file)\n"
          ]
        },
        {
          "name": "stdout",
          "output_type": "stream",
          "text": [
            "Subject ID: sub-041_run-01, Signal Shape: (16, 248631)\n",
            "<<<<<<<Processing /content/drive/MyDrive/EEG/sub-042/eeg>>>>>>>\n",
            "Reading /content/drive/MyDrive/EEG/sub-042/eeg/sub-042_task-Rest_run-01_eeg.fdt\n",
            "Subject ID: sub-042_run-01, Signal Shape: (16, 253414)\n",
            "<<<<<<<Processing /content/drive/MyDrive/EEG/sub-043/eeg>>>>>>>\n",
            "Reading /content/drive/MyDrive/EEG/sub-043/eeg/sub-043_task-Rest_run-01_eeg.fdt\n",
            "Subject ID: sub-043_run-01, Signal Shape: (16, 244014)\n",
            "<<<<<<<Processing /content/drive/MyDrive/EEG/sub-044/eeg>>>>>>>\n",
            "Reading /content/drive/MyDrive/EEG/sub-044/eeg/sub-044_task-Rest_run-01_eeg.fdt\n",
            "<<<<<<<Error in {'set': 'sub-044_task-Rest_run-01_eeg.set', 'electrodes': 'sub-044_task-Rest_run-01_electrodes.tsv'}: [Errno 2] No such file or directory: '/content/drive/MyDrive/EEG/sub-044/eeg/sub-044_task-Rest_run-01_eeg.fdt'>>>>>>>\n",
            "<<<<<<<Processing /content/drive/MyDrive/EEG/sub-045/eeg>>>>>>>\n",
            "Reading /content/drive/MyDrive/EEG/sub-045/eeg/sub-045_task-Rest_run-01_eeg.fdt\n"
          ]
        },
        {
          "name": "stderr",
          "output_type": "stream",
          "text": [
            "<ipython-input-108-8c2b0baae552>:66: RuntimeWarning: The data contains 'boundary' events, indicating data discontinuities. Be cautious of filtering and epoching around these events.\n",
            "  mne_obj = mne.io.read_raw_eeglab(mne_file)\n"
          ]
        },
        {
          "name": "stdout",
          "output_type": "stream",
          "text": [
            "Subject ID: sub-045_run-01, Signal Shape: (16, 244434)\n",
            "<<<<<<<Processing /content/drive/MyDrive/EEG/sub-046/eeg>>>>>>>\n",
            "Reading /content/drive/MyDrive/EEG/sub-046/eeg/sub-046_task-Rest_run-01_eeg.fdt\n",
            "Subject ID: sub-046_run-01, Signal Shape: (16, 259974)\n",
            "Data extraction time: 743.165061712265\n",
            "Signal processing time: 67.95974612236023\n",
            "Number of training data samples: 75\n",
            "6090 2662 3428\n",
            "6090\n",
            "107 46 6090 4286\n",
            "(1, 16, 1200) (16, 16) 0 6090\n"
          ]
        }
      ],
      "source": [
        "import numpy as np\n",
        "import pandas as pd\n",
        "import os\n",
        "import scipy.io\n",
        "import scipy.signal\n",
        "import mne\n",
        "import h5py\n",
        "import matplotlib.pyplot as plt\n",
        "import seaborn as sns\n",
        "import time\n",
        "from functools import partial\n",
        "import torch\n",
        "import torch.nn as nn\n",
        "import torch.nn.functional as F\n",
        "from torch.utils.data import DataLoader, Dataset, random_split\n",
        "from sklearn.preprocessing import StandardScaler\n",
        "\n",
        "channelsList = ['FP1', 'FP2', 'F3', 'F4', 'C3', 'C4', 'P3', 'P4', 'O1', 'O2', 'F7', 'F8', 'CP3', 'CP4', 'CP5', 'CP6']\n",
        "\n",
        "class SignalExtraction:\n",
        "\n",
        "    @staticmethod\n",
        "    def fn_signal_extraction_openneuro(raw_signal_obj, channels_subset=None):\n",
        "        dict_x = {}\n",
        "        for channel in raw_signal_obj.ch_names:\n",
        "            signal_channel = raw_signal_obj[channel]\n",
        "            y, x = signal_channel\n",
        "            dict_x[channel] = y.flatten()\n",
        "        signal_df = pd.DataFrame(dict_x)\n",
        "        if channels_subset:\n",
        "            signal_df = signal_df[channels_subset]\n",
        "        signal_np = np.array(signal_df).transpose()\n",
        "        return signal_np\n",
        "\n",
        "    @staticmethod\n",
        "    def get_participants_data_openneuro(file):\n",
        "        df_participants = pd.read_csv(file, delimiter=\"\\t\")\n",
        "        return df_participants\n",
        "\n",
        "    @staticmethod\n",
        "    def get_electrodes_coordinates(file, channelsList):\n",
        "        df_coordinates = pd.read_csv(file, delimiter=\"\\t\")\n",
        "        df1 = df_coordinates[df_coordinates.name.map(lambda x: x in channelsList)]\n",
        "        df2 = df1.set_index('name')\n",
        "        df3 = df2.reindex(channelsList)\n",
        "        return df3\n",
        "\n",
        "    @staticmethod\n",
        "    def fn_label_extraction_openneuro(subject, df):\n",
        "        BDI_obj = df[df.participant_id == subject].BDI\n",
        "        return BDI_obj.values[0]\n",
        "\n",
        "    @staticmethod\n",
        "    def read_mne_iterator(path, num=None):\n",
        "        lst = []\n",
        "        i = 0\n",
        "        df = SignalExtraction.get_participants_data_openneuro(os.path.join(path, 'participants.tsv'))\n",
        "\n",
        "        def fn_read_EEG(root, run, channelsList):\n",
        "            set_file = run['set']\n",
        "            coordiantes_file = run['electrodes']\n",
        "            name_split = set_file.split('_')\n",
        "            subject_id = name_split[0] + '_' + name_split[2]\n",
        "            bdi = SignalExtraction.fn_label_extraction_openneuro(name_split[0], df)\n",
        "            mne_file = os.path.join(root, set_file)\n",
        "            mne_obj = mne.io.read_raw_eeglab(mne_file)\n",
        "            signal_np = SignalExtraction.fn_signal_extraction_openneuro(mne_obj, channelsList)\n",
        "            coordiantesFile = os.path.join(root, coordiantes_file)\n",
        "            df_coordinates = SignalExtraction.get_electrodes_coordinates(coordiantesFile, channelsList)\n",
        "            return subject_id, signal_np, df_coordinates, bdi\n",
        "\n",
        "        for root, _, files in os.walk(path):\n",
        "            # root_list.append(root)\n",
        "            if root.endswith('eeg'):\n",
        "                run2 = {}\n",
        "                for name in files:\n",
        "                    if '_run-01_' in name:\n",
        "                        if '_eeg.set' in name:\n",
        "                            run2['set'] = name\n",
        "                        if '_electrodes.tsv' in name:\n",
        "                            run2['electrodes'] = name\n",
        "\n",
        "                print(f'<<<<<<<Processing {root}>>>>>>>')\n",
        "                if run2:\n",
        "                    try:\n",
        "                        subject_id, signal_np, df_coordinates, bdi = fn_read_EEG(root, run2, channelsList)\n",
        "                        lst.append((subject_id, signal_np, df_coordinates, bdi))\n",
        "                        # Print the shape of the extracted signal\n",
        "                        print(f\"Subject ID: {subject_id}, Signal Shape: {signal_np.shape}\")\n",
        "                        # Print the first few rows of the extracted signal\n",
        "                    except Exception as e:\n",
        "                        print(f'<<<<<<<Error in {run2}: {e}>>>>>>>')\n",
        "                        continue\n",
        "                i += 1\n",
        "                if num and i == num:\n",
        "                    return lst\n",
        "        return lst#,root_list\n",
        "\n",
        "\n",
        "class SignalProcessing:\n",
        "\n",
        "    @staticmethod\n",
        "    def normalize_data(data):\n",
        "        \"\"\"\n",
        "        Normalize the data using Z-score normalization.\n",
        "        \"\"\"\n",
        "        scaler = StandardScaler()\n",
        "        normalized_data = scaler.fit_transform(data.T).T  # Transpose to fit each channel separately, then transpose back\n",
        "        return normalized_data\n",
        "\n",
        "    @staticmethod\n",
        "    def bandpass_filter(edges: list[float], sample_rate: float, poles: int, data: np.ndarray):\n",
        "        sos = scipy.signal.butter(poles, edges, 'bandpass', fs=sample_rate, output='sos')\n",
        "        filtered_data = scipy.signal.sosfiltfilt(sos, data)\n",
        "        return filtered_data\n",
        "\n",
        "    @staticmethod\n",
        "    def notch_filter(frequency_toRemove: float, quality_factor: float, sample_frequency: float, data: np.ndarray):\n",
        "        b, a = scipy.signal.iirnotch(frequency_toRemove, quality_factor, sample_frequency)\n",
        "        filtered_data = scipy.signal.filtfilt(b, a, data)\n",
        "        return filtered_data\n",
        "\n",
        "    @staticmethod\n",
        "    def resample(data: np.ndarray, sample_frequency: float, downsample_frequency: float):\n",
        "        n = data.shape[1]\n",
        "        num = (n // sample_frequency) * downsample_frequency\n",
        "        resampled_data = scipy.signal.resample(data, num, axis=1)\n",
        "        return resampled_data\n",
        "\n",
        "    @staticmethod\n",
        "    def data_augmentation(signal, sample_freq: int, window_size: int, stride_size: int):\n",
        "        N = signal.shape[1]\n",
        "        f = window_size * sample_freq\n",
        "        s = stride_size * sample_freq\n",
        "        n = (N - f + s) // s\n",
        "        lst = [signal[:, i*s:i*s + f] for i in range(n)]\n",
        "        tensor = np.stack(lst, axis=0)\n",
        "        return tensor\n",
        "\n",
        "    @staticmethod\n",
        "    def fn_tensor(signal, n_slices):\n",
        "        signal_slices = np.hsplit(signal, n_slices)\n",
        "        tensor = np.stack(signal_slices, axis=0)\n",
        "        return tensor\n",
        "\n",
        "    @staticmethod\n",
        "    def tensor_generator(signal, sample_freq, time_slice_size):\n",
        "        n = signal.shape[1]\n",
        "        assert n % sample_freq == 0\n",
        "        t = n // sample_freq\n",
        "        assert t % time_slice_size == 0\n",
        "        n_time_slices = t // time_slice_size\n",
        "        return SignalProcessing.fn_tensor(signal, n_time_slices)\n",
        "\n",
        "    @staticmethod\n",
        "    def signal_processing(np_array, sample_freq, band_freq_range, downsample_freq, slice_size, sub_slice_size):\n",
        "        bandpass_filter = partial(SignalProcessing.bandpass_filter, band_freq_range, sample_freq, 5)\n",
        "        signal_processed1 = np.apply_along_axis(bandpass_filter, 1, np_array)\n",
        "        signal_processed1 = SignalProcessing.normalize_data(signal_processed1)  # Normalize after bandpass filtering\n",
        "        notch_filter = partial(SignalProcessing.notch_filter, 60, 30, sample_freq)\n",
        "        signal_processed2 = np.apply_along_axis(notch_filter, 1, signal_processed1)\n",
        "        signal_processed2 = np_array\n",
        "        signal_processed2 = SignalProcessing.normalize_data(signal_processed2)  # Normalize after notch filtering\n",
        "        signal_processed3 = SignalProcessing.resample(signal_processed2, sample_freq, downsample_freq)\n",
        "        signal_processed3 = SignalProcessing.normalize_data(signal_processed3)  # Normalize after resampling\n",
        "\n",
        "        window_size = slice_size\n",
        "        stride_size = window_size\n",
        "        signal_augmented = SignalProcessing.data_augmentation(signal_processed3, downsample_freq, window_size, stride_size)\n",
        "\n",
        "        # Remove the first and last 10 seconds of all signals\n",
        "        if(len(signal_augmented) > 20*downsample_freq):\n",
        "            signal_augmented = signal_augmented[:, 10*downsample_freq:-10*downsample_freq]\n",
        "        else:\n",
        "            signal_augmented = signal_augmented[:, :]\n",
        "\n",
        "\n",
        "        signal_augmented = SignalProcessing.normalize_data(signal_augmented.reshape(-1, signal_augmented.shape[-1])).reshape(signal_augmented.shape)  # Normalize after data augmentation\n",
        "        signal_tensors = [SignalProcessing.tensor_generator(signal_slice, downsample_freq, sub_slice_size) for signal_slice in signal_augmented]\n",
        "        tensor = np.stack(signal_tensors, axis=0)\n",
        "        tensor = SignalProcessing.normalize_data(tensor.reshape(-1, tensor.shape[-1])).reshape(tensor.shape)  # Normalize after tensor generation\n",
        "        return tensor\n",
        "\n",
        "    @staticmethod\n",
        "    def AdjMatrix(df_electrodes_coordinates):\n",
        "        # np_coordinates = np.array(df_electrodes_coordinates)\n",
        "        # _, b = np_coordinates.shape\n",
        "        # lst = []\n",
        "        # for i in range(b):\n",
        "        #     f = np_coordinates[:, i]\n",
        "        #     d = f.reshape(-1, 1) - f.reshape(1, -1)\n",
        "        #     d_square = d**2\n",
        "        #     lst.append(d_square)\n",
        "        # tensor = np.stack(lst, axis=0)\n",
        "        # tensor_dist_sq = tensor.sum(axis=0)\n",
        "        # tensor_dist = np.sqrt(tensor_dist_sq)\n",
        "        # max_val, min_val = tensor_dist.max(), tensor_dist.min()\n",
        "        # tensor_dist_norm = (tensor_dist - min_val) / (max_val - min_val)\n",
        "        # return tensor_dist_norm if np.linalg.det(tensor_dist_norm) else np.array([])\n",
        "\n",
        "      np_coordinates = np.array(df_electrodes_coordinates)\n",
        "      _, b = np_coordinates.shape\n",
        "      lst = []\n",
        "      for i in range(b):\n",
        "          f = np_coordinates[:,i]\n",
        "          d = f.reshape(-1,1)-f.reshape(1,-1)\n",
        "          d_square = d**(2)\n",
        "          lst.append(d_square)\n",
        "      tensor = np.stack(lst, axis=0)\n",
        "      tensor_dist_sq = tensor.sum(axis=0)\n",
        "      tensor_dist = tensor_dist_sq**(1/2)\n",
        "      max_val, min_val = tensor_dist.min(), tensor_dist.max()\n",
        "      tensor_dist_norm = (tensor_dist-min_val)/(max_val-min_val)\n",
        "      tensor_dist_norm = tensor_dist_norm if np.linalg.det(tensor_dist_norm) else np.array([])\n",
        "\n",
        "      return tensor_dist_norm\n",
        "\n",
        "    @staticmethod\n",
        "    def to_bdi_label(bdi):\n",
        "        bdi_label = 0 if bdi < 17 else 1\n",
        "        return bdi_label\n",
        "\n",
        "    @staticmethod\n",
        "    def to_h5(file_path, subject, signal_array, label, frequency):\n",
        "        with h5py.File(file_path, \"w\") as hf:\n",
        "            hf.create_dataset(\"subject\", data=subject)\n",
        "            hf.create_dataset(\"resampled_signal\", data=signal_array)\n",
        "            hf.create_dataset(\"resample_freq\", data=frequency)\n",
        "            hf.create_dataset(\"label\", data=label)\n",
        "\n",
        "    @staticmethod\n",
        "    def signal_processing_iterator(data_lst, sample_freq, band_freq_range, downsample_freq, slice_size, sub_slice_size):\n",
        "        correct_data_lst = []\n",
        "        error_data_lst = []\n",
        "        for subject_id, signal_np, df_coordinates, bdi in data_lst:\n",
        "            try:\n",
        "                signal_processed = SignalProcessing.signal_processing(signal_np, sample_freq, band_freq_range, downsample_freq, slice_size, sub_slice_size)\n",
        "                Adj_dist_matrix = SignalProcessing.AdjMatrix(df_coordinates)\n",
        "                bdi_label = SignalProcessing.to_bdi_label(bdi)\n",
        "                if bdi_label in [0, 1] and Adj_dist_matrix.size:\n",
        "                    correct_data_lst.append((subject_id, signal_processed, Adj_dist_matrix, bdi, bdi_label))\n",
        "                else:\n",
        "                    error_data_lst.append((subject_id, signal_processed, Adj_dist_matrix, bdi, bdi_label))\n",
        "            except Exception as e:\n",
        "                print(f\"Error processing subject {subject_id}: {e}\")\n",
        "                error_data_lst.append((subject_id, None, None, bdi, None))\n",
        "\n",
        "        return correct_data_lst, error_data_lst\n",
        "\n",
        "\n",
        "class TrainingData:\n",
        "\n",
        "    @staticmethod\n",
        "    def signal_to_trainingData(signal_tuple):\n",
        "        ls = []\n",
        "        subject_id, signal_processed, Adj_dist_matrix, bdi, bdi_label = signal_tuple\n",
        "        for signal_slice in signal_processed:\n",
        "            ls.append((signal_slice, Adj_dist_matrix, bdi_label))\n",
        "        return ls\n",
        "\n",
        "    @staticmethod\n",
        "    def trainingData_iterator(signal_tuples):\n",
        "        ls = []\n",
        "        for signal_tuple in signal_tuples:\n",
        "            ls = ls + TrainingData.signal_to_trainingData(signal_tuple)\n",
        "        return ls\n",
        "\n",
        "\n",
        "def train_test_datasets(dataSet, batch_size, train_test_split):\n",
        "    # Splitting the data into training and testing datasets\n",
        "    train_size = int(len(dataSet) * train_test_split)\n",
        "    test_size = len(dataSet) - train_size\n",
        "    train_dataset, test_dataset = random_split(dataSet, [train_size, test_size])\n",
        "\n",
        "    # Creating DataLoaders for training and testing datasets\n",
        "    train_dataloader = DataLoader(train_dataset, batch_size=batch_size, shuffle=True)\n",
        "    test_dataloader = DataLoader(test_dataset, batch_size=batch_size, shuffle=False)\n",
        "\n",
        "    return train_dataloader, test_dataloader\n",
        "\n",
        "\n",
        "root_path = '/content/drive/MyDrive/'\n",
        "file_path_openneuro = 'EEG/'\n",
        "\n",
        "file_path = root_path + file_path_openneuro\n",
        "\n",
        "start = time.time()\n",
        "ls = SignalExtraction.read_mne_iterator(file_path, None)#######\n",
        "end = time.time()\n",
        "print(f\"Data extraction time: {end - start}\")\n",
        "\n",
        "sliceSize = 6\n",
        "bandFreqRange = [40, 100]\n",
        "downsampleFreq = 200\n",
        "subSliceSize = 6\n",
        "sampleFrequency = 500\n",
        "\n",
        "# After Signal Processing\n",
        "start = time.time()\n",
        "training_data, error_data = SignalProcessing.signal_processing_iterator(ls, sampleFrequency, bandFreqRange, downsampleFreq, sliceSize, subSliceSize)\n",
        "end = time.time()\n",
        "print(f\"Signal processing time: {end - start}\")\n",
        "\n",
        "print(f\"Number of training data samples: {len(training_data)}\")\n",
        "\n",
        "# Creating a folder to save processed data\n",
        "output_folder = \"processed_data\"\n",
        "if not os.path.exists(output_folder):\n",
        "    os.makedirs(output_folder)\n",
        "\n",
        "# Saving processed data for each subject\n",
        "for subject_id, signal_processed, Adj_dist_matrix, bdi, bdi_label in training_data:\n",
        "    subject_folder = os.path.join(output_folder, subject_id)\n",
        "    if not os.path.exists(subject_folder):\n",
        "        os.makedirs(subject_folder)\n",
        "\n",
        "    # Save processed data in the subject's folder\n",
        "    np.save(os.path.join(subject_folder, \"signal_processed.npy\"), signal_processed)\n",
        "    np.save(os.path.join(subject_folder, \"Adj_dist_matrix.npy\"), Adj_dist_matrix)\n",
        "    np.save(os.path.join(subject_folder, \"bdi_label.npy\"), bdi_label)\n",
        "\n",
        "X = TrainingData.trainingData_iterator(training_data)\n",
        "\n",
        "# Distribution of categorical Variable\n",
        "ls = []\n",
        "for i in X:\n",
        "    signal_slice, Adj_dist_matrix, bdi_label = i\n",
        "    ls.append(bdi_label)\n",
        "\n",
        "import builtins\n",
        "print(len(ls), builtins.sum(ls), len(ls) - builtins.sum(ls))\n",
        "\n",
        "dataSet = X\n",
        "print(len(dataSet))\n",
        "\n",
        "batch_size = 40\n",
        "train_test_split = 0.7\n",
        "\n",
        "train_dataloader, test_dataloader = train_test_datasets(dataSet, batch_size, train_test_split)\n",
        "\n",
        "print(len(train_dataloader), len(test_dataloader), len(train_dataloader.dataset) + len(test_dataloader.dataset), (len(train_dataloader) - 1) * batch_size + len(test_dataloader))\n",
        "\n",
        "# train_features_signal, train_features_adjMatrix, train_labels = next(iter(train_dataloader))\n",
        "# test_features_signal, test_features_adjMatrix, test_labels = next(iter(test_dataloader))\n",
        "\n",
        "# train_features_signal.shape, train_features_adjMatrix.shape, train_labels.shape, test_features_signal.shape, test_features_adjMatrix.shape, test_labels.shape\n",
        "\n",
        "signal, Adj_dist_matrix, label = dataSet[0]\n",
        "print(signal.shape, Adj_dist_matrix.shape, label, len(dataSet))\n",
        "\n",
        "learning_rate = 2e-4\n",
        "batch_size = 40\n",
        "epochs = 5\n",
        "\n",
        "timeSteps, nodesDim, nodeFeaturesDim = signal.shape\n",
        "hidden_dim = 64           #\n",
        "dropout_prob = 0.7        #\n",
        "num_layers = 2\n"
      ]
    },
    {
      "cell_type": "code",
      "execution_count": 109,
      "metadata": {
        "id": "FFIaDNjLVXuX"
      },
      "outputs": [],
      "source": [
        "gcn_outputs_1 = []\n",
        "gcn_labels_1 = []\n",
        "for i,j,k in train_dataloader:\n",
        "  for l in range(len(i)):\n",
        "    input_seq = i[l]\n",
        "    adjacency_matrix = j[l]\n",
        "    H,A = model.maxPooling_Model.gru_Model.forward(input_seq, adjacency_matrix)\n",
        "    gcn_output = model.maxPooling_Model.gru_Model.gcn_model_layer(input_seq,A)\n",
        "    gcn_outputs_1.append(gcn_output.flatten())\n",
        "    gcn_labels_1.append(k[l])"
      ]
    },
    {
      "cell_type": "code",
      "execution_count": 112,
      "metadata": {
        "id": "QjmNaPA2EheL"
      },
      "outputs": [],
      "source": [
        "for i in range(len(gcn_outputs_1)):\n",
        "  gcn_outputs_1[i] = gcn_outputs_1[i].mean().detach().numpy()"
      ]
    },
    {
      "cell_type": "code",
      "execution_count": 120,
      "metadata": {
        "id": "BkKiHQOgEq8q"
      },
      "outputs": [],
      "source": [
        "gcn_0_new = []\n",
        "gcn_1_new = []\n",
        "for i in range(len(gcn_outputs_1)):\n",
        "  if gcn_labels_1[i] == 0:\n",
        "    gcn_0_new.append(gcn_outputs_1[i])\n",
        "  else:\n",
        "    gcn_1_new.append(gcn_outputs_1[i])"
      ]
    },
    {
      "cell_type": "code",
      "execution_count": 127,
      "metadata": {
        "id": "rCRx_p9WHObR"
      },
      "outputs": [],
      "source": [
        "gcn_outputs_1 = []\n",
        "gcn_labels_1 = []\n",
        "for i,j,k in train_dataloader:\n",
        "  for l in range(len(i)):\n",
        "    input_seq = i[l]\n",
        "    adjacency_matrix = j[l]\n",
        "    H,A = model.maxPooling_Model.gru_Model.forward(input_seq, adjacency_matrix)\n",
        "    gcn_output = model.maxPooling_Model.gru_Model.gcn_model_layer(input_seq,A)\n",
        "    gcn_outputs_1.append(gcn_output.flatten())\n",
        "    gcn_labels_1.append(k[l])"
      ]
    },
    {
      "cell_type": "code",
      "execution_count": 133,
      "metadata": {
        "id": "GZba3TSTHDKv"
      },
      "outputs": [],
      "source": [
        "gcn_0_new = []\n",
        "gcn_1_new = []\n",
        "for i in range(len(gcn_outputs_1)):\n",
        "  if gcn_labels_1[i] == 0:\n",
        "    gcn_0_new.append(gcn_outputs_1[i])\n",
        "  else:\n",
        "    gcn_1_new.append(gcn_outputs_1[i])"
      ]
    },
    {
      "cell_type": "code",
      "execution_count": 138,
      "metadata": {
        "id": "5PoNnz3xFSc8"
      },
      "outputs": [],
      "source": [
        "sum_0 = torch.zeros(2048)\n",
        "for i in range(len(gcn_0_new)):\n",
        "  sum_0 += gcn_0_new[i]\n",
        "\n",
        "sum_1 = torch.zeros(2048)\n",
        "for i in range(len(gcn_1_new)):\n",
        "  sum_1 += gcn_1_new[i]\n",
        "\n",
        "sum_0 /= len(gcn_0_new)\n",
        "sum_1 /= len(gcn_1_new)"
      ]
    },
    {
      "cell_type": "code",
      "execution_count": 141,
      "metadata": {
        "colab": {
          "base_uri": "https://localhost:8080/",
          "height": 511
        },
        "id": "sy9ylHxuIOj8",
        "outputId": "cfde96de-74fd-457f-bcb3-402507e98640"
      },
      "outputs": [
        {
          "data": {
            "image/png": "[encoded data removed]",
            "text/plain": [
              "<Figure size 1500x600 with 1 Axes>"
            ]
          },
          "metadata": {},
          "output_type": "display_data"
        }
      ],
      "source": [
        "# prompt: plot sum_1 and sum_0\n",
        "plt.figure(figsize=(15, 6))\n",
        "plt.plot(sum_0.detach().numpy(), label='Average GCN Output for Cluster 0')\n",
        "plt.plot(sum_1.detach().numpy(), label='Average GCN Output for Cluster 1')\n",
        "plt.xlabel('Feature Dimension')\n",
        "plt.ylabel('Average GCN Output Value')\n",
        "plt.title('Average GCN Outputs for Different Clusters')\n",
        "plt.legend()\n",
        "plt.show()\n"
      ]
    }
  ],
  "metadata": {
    "colab": {
      "provenance": [],
      "toc_visible": true
    },
    "kernelspec": {
      "display_name": "Python 3",
      "name": "python3"
    },
    "language_info": {
      "name": "python"
    }
  },
  "nbformat": 4,
  "nbformat_minor": 0
}
